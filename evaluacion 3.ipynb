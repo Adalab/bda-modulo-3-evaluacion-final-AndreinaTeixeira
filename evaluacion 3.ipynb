{
 "cells": [
  {
   "cell_type": "markdown",
   "id": "65271080",
   "metadata": {},
   "source": [
    "FASE 1. EXPLORACIÓN"
   ]
  },
  {
   "cell_type": "markdown",
   "id": "13dc807f",
   "metadata": {},
   "source": [
    "1. Exploración Inicial:\n",
    "Realiza una exploración inicial de los datos para identificar posibles problemas, como valores\n",
    "nulos, atípicos o datos faltantes en las columnas relevantes.\n",
    "Utiliza funciones de Pandas para obtener información sobre la estructura de los datos, la\n",
    "presencia de valores nulos y estadísticas básicas de las columnas involucradas.\n",
    "Une los dos conjuntos de datos de la forma más eficiente.\n",
    "\n",
    "\n",
    "2. Limpieza de Datos:\n",
    "Elimina o trata los valores nulos, si los hay, en las columnas clave para asegurar que los datos\n",
    "estén completos.\n",
    "Verifica la consistencia y corrección de los datos para asegurarte de que los datos se\n",
    "presenten de forma coherente.\n",
    "Realiza cualquier ajuste o conversión necesaria en las columnas (por ejemplo, cambiar tipos de\n",
    "datos) para garantizar la adecuación de los datos para el análisis estadístico."
   ]
  },
  {
   "cell_type": "markdown",
   "id": "855395e7",
   "metadata": {},
   "source": [
    "Importar las librerías necesarias"
   ]
  },
  {
   "cell_type": "code",
   "execution_count": 1,
   "id": "3ddd8836",
   "metadata": {},
   "outputs": [],
   "source": [
    "import pandas as pd\n",
    "import numpy as np\n",
    "import matplotlib.pyplot as plt\n",
    "import seaborn as sns\n",
    "\n",
    "from sklearn.impute import SimpleImputer \n",
    "from sklearn.experimental import enable_iterative_imputer # Necesario para IterativeImputer\n",
    "from sklearn.impute import IterativeImputer \n",
    "from sklearn.impute import KNNImputer \n",
    "\n",
    "import scipy.stats as st\n",
    "import scipy.stats as stats\n",
    "from scipy.stats import shapiro, poisson, chisquare, expon, kstest\n",
    "\n",
    "import warnings\n",
    "warnings.filterwarnings(\"ignore\")\n",
    "\n",
    "from itertools import combinations\n",
    "\n",
    "pd.set_option('display.max_columns', None)"
   ]
  },
  {
   "cell_type": "markdown",
   "id": "71afb045",
   "metadata": {},
   "source": [
    "Abrir y explorar CSV Customer Flight Activity"
   ]
  },
  {
   "cell_type": "code",
   "execution_count": 2,
   "id": "4a7066ac",
   "metadata": {},
   "outputs": [
    {
     "data": {
      "text/html": [
       "<div>\n",
       "<style scoped>\n",
       "    .dataframe tbody tr th:only-of-type {\n",
       "        vertical-align: middle;\n",
       "    }\n",
       "\n",
       "    .dataframe tbody tr th {\n",
       "        vertical-align: top;\n",
       "    }\n",
       "\n",
       "    .dataframe thead th {\n",
       "        text-align: right;\n",
       "    }\n",
       "</style>\n",
       "<table border=\"1\" class=\"dataframe\">\n",
       "  <thead>\n",
       "    <tr style=\"text-align: right;\">\n",
       "      <th></th>\n",
       "      <th>Loyalty Number</th>\n",
       "      <th>Year</th>\n",
       "      <th>Month</th>\n",
       "      <th>Flights Booked</th>\n",
       "      <th>Flights with Companions</th>\n",
       "      <th>Total Flights</th>\n",
       "      <th>Distance</th>\n",
       "      <th>Points Accumulated</th>\n",
       "      <th>Points Redeemed</th>\n",
       "      <th>Dollar Cost Points Redeemed</th>\n",
       "    </tr>\n",
       "  </thead>\n",
       "  <tbody>\n",
       "    <tr>\n",
       "      <th>0</th>\n",
       "      <td>100018</td>\n",
       "      <td>2017</td>\n",
       "      <td>1</td>\n",
       "      <td>3</td>\n",
       "      <td>0</td>\n",
       "      <td>3</td>\n",
       "      <td>1521</td>\n",
       "      <td>152.0</td>\n",
       "      <td>0</td>\n",
       "      <td>0</td>\n",
       "    </tr>\n",
       "    <tr>\n",
       "      <th>1</th>\n",
       "      <td>100102</td>\n",
       "      <td>2017</td>\n",
       "      <td>1</td>\n",
       "      <td>10</td>\n",
       "      <td>4</td>\n",
       "      <td>14</td>\n",
       "      <td>2030</td>\n",
       "      <td>203.0</td>\n",
       "      <td>0</td>\n",
       "      <td>0</td>\n",
       "    </tr>\n",
       "    <tr>\n",
       "      <th>2</th>\n",
       "      <td>100140</td>\n",
       "      <td>2017</td>\n",
       "      <td>1</td>\n",
       "      <td>6</td>\n",
       "      <td>0</td>\n",
       "      <td>6</td>\n",
       "      <td>1200</td>\n",
       "      <td>120.0</td>\n",
       "      <td>0</td>\n",
       "      <td>0</td>\n",
       "    </tr>\n",
       "    <tr>\n",
       "      <th>3</th>\n",
       "      <td>100214</td>\n",
       "      <td>2017</td>\n",
       "      <td>1</td>\n",
       "      <td>0</td>\n",
       "      <td>0</td>\n",
       "      <td>0</td>\n",
       "      <td>0</td>\n",
       "      <td>0.0</td>\n",
       "      <td>0</td>\n",
       "      <td>0</td>\n",
       "    </tr>\n",
       "    <tr>\n",
       "      <th>4</th>\n",
       "      <td>100272</td>\n",
       "      <td>2017</td>\n",
       "      <td>1</td>\n",
       "      <td>0</td>\n",
       "      <td>0</td>\n",
       "      <td>0</td>\n",
       "      <td>0</td>\n",
       "      <td>0.0</td>\n",
       "      <td>0</td>\n",
       "      <td>0</td>\n",
       "    </tr>\n",
       "  </tbody>\n",
       "</table>\n",
       "</div>"
      ],
      "text/plain": [
       "   Loyalty Number  Year  Month  Flights Booked  Flights with Companions  \\\n",
       "0          100018  2017      1               3                        0   \n",
       "1          100102  2017      1              10                        4   \n",
       "2          100140  2017      1               6                        0   \n",
       "3          100214  2017      1               0                        0   \n",
       "4          100272  2017      1               0                        0   \n",
       "\n",
       "   Total Flights  Distance  Points Accumulated  Points Redeemed  \\\n",
       "0              3      1521               152.0                0   \n",
       "1             14      2030               203.0                0   \n",
       "2              6      1200               120.0                0   \n",
       "3              0         0                 0.0                0   \n",
       "4              0         0                 0.0                0   \n",
       "\n",
       "   Dollar Cost Points Redeemed  \n",
       "0                            0  \n",
       "1                            0  \n",
       "2                            0  \n",
       "3                            0  \n",
       "4                            0  "
      ]
     },
     "execution_count": 2,
     "metadata": {},
     "output_type": "execute_result"
    }
   ],
   "source": [
    "df_flight = pd.read_csv(\"Customer Flight Activity.csv\")\n",
    "df_flight.head()"
   ]
  },
  {
   "cell_type": "code",
   "execution_count": 3,
   "id": "2aba28bd",
   "metadata": {},
   "outputs": [
    {
     "name": "stdout",
     "output_type": "stream",
     "text": [
      "<class 'pandas.core.frame.DataFrame'>\n",
      "RangeIndex: 405624 entries, 0 to 405623\n",
      "Data columns (total 10 columns):\n",
      " #   Column                       Non-Null Count   Dtype  \n",
      "---  ------                       --------------   -----  \n",
      " 0   Loyalty Number               405624 non-null  int64  \n",
      " 1   Year                         405624 non-null  int64  \n",
      " 2   Month                        405624 non-null  int64  \n",
      " 3   Flights Booked               405624 non-null  int64  \n",
      " 4   Flights with Companions      405624 non-null  int64  \n",
      " 5   Total Flights                405624 non-null  int64  \n",
      " 6   Distance                     405624 non-null  int64  \n",
      " 7   Points Accumulated           405624 non-null  float64\n",
      " 8   Points Redeemed              405624 non-null  int64  \n",
      " 9   Dollar Cost Points Redeemed  405624 non-null  int64  \n",
      "dtypes: float64(1), int64(9)\n",
      "memory usage: 30.9 MB\n"
     ]
    }
   ],
   "source": [
    "df_flight.info() # No hay valores nulos. Todas son variables numéricas, excepto las fechas (Year, Month).\n",
    "#Números enteros, excepto por Points accumulated, que incluye decimales."
   ]
  },
  {
   "cell_type": "markdown",
   "id": "97c5329a",
   "metadata": {},
   "source": [
    "Explorar cada variable"
   ]
  },
  {
   "cell_type": "code",
   "execution_count": 4,
   "id": "7133e2aa",
   "metadata": {},
   "outputs": [
    {
     "data": {
      "text/plain": [
       "Loyalty Number\n",
       "100018    24\n",
       "100102    24\n",
       "100140    24\n",
       "100214    24\n",
       "100272    24\n",
       "          ..\n",
       "999902    24\n",
       "999911    24\n",
       "999940    24\n",
       "999982    24\n",
       "999986    24\n",
       "Name: count, Length: 16737, dtype: int64"
      ]
     },
     "execution_count": 4,
     "metadata": {},
     "output_type": "execute_result"
    }
   ],
   "source": [
    "df_flight[\"Loyalty Number\"].value_counts().sort_index()"
   ]
  },
  {
   "cell_type": "code",
   "execution_count": 5,
   "id": "fad3e927",
   "metadata": {},
   "outputs": [
    {
     "data": {
      "text/plain": [
       "Loyalty Number\n",
       "100018    24\n",
       "100102    24\n",
       "100140    24\n",
       "100214    24\n",
       "100272    24\n",
       "          ..\n",
       "999902    24\n",
       "999911    24\n",
       "999940    24\n",
       "999982    24\n",
       "999986    24\n",
       "Name: count, Length: 16737, dtype: int64"
      ]
     },
     "execution_count": 5,
     "metadata": {},
     "output_type": "execute_result"
    }
   ],
   "source": [
    "df_flight[\"Loyalty Number\"] = df_flight[\"Loyalty Number\"].astype(str) #Cambiar a string porque es categórica\n",
    "df_flight[\"Loyalty Number\"].value_counts().sort_index()"
   ]
  },
  {
   "cell_type": "code",
   "execution_count": 6,
   "id": "31e0e104",
   "metadata": {},
   "outputs": [
    {
     "data": {
      "text/plain": [
       "Flights Booked\n",
       "0     197992\n",
       "1      12667\n",
       "2      13641\n",
       "3      18228\n",
       "4      12821\n",
       "5      15084\n",
       "6      13847\n",
       "7      14561\n",
       "8      14357\n",
       "9      14164\n",
       "10     13363\n",
       "11     15705\n",
       "12     10382\n",
       "13     10782\n",
       "14      7057\n",
       "15      6582\n",
       "16      4354\n",
       "17      3899\n",
       "18      2958\n",
       "19      1496\n",
       "20      1156\n",
       "21       528\n",
       "Name: count, dtype: int64"
      ]
     },
     "execution_count": 6,
     "metadata": {},
     "output_type": "execute_result"
    }
   ],
   "source": [
    "df_flight[\"Flights Booked\"].value_counts().sort_index()"
   ]
  },
  {
   "cell_type": "code",
   "execution_count": 7,
   "id": "53ef418d",
   "metadata": {},
   "outputs": [
    {
     "data": {
      "text/plain": [
       "Flights with Companions\n",
       "0     296887\n",
       "1      17905\n",
       "2      19272\n",
       "3      19015\n",
       "4      13665\n",
       "5      13424\n",
       "6       9911\n",
       "7       7089\n",
       "8       3965\n",
       "9       2944\n",
       "10      1071\n",
       "11       476\n",
       "Name: count, dtype: int64"
      ]
     },
     "execution_count": 7,
     "metadata": {},
     "output_type": "execute_result"
    }
   ],
   "source": [
    "df_flight[\"Flights with Companions\"].value_counts().sort_index()"
   ]
  },
  {
   "cell_type": "code",
   "execution_count": 8,
   "id": "843f3012",
   "metadata": {},
   "outputs": [
    {
     "data": {
      "text/plain": [
       "Total Flights\n",
       "0     197992\n",
       "1       6106\n",
       "2      13032\n",
       "3       9783\n",
       "4      13656\n",
       "5       9309\n",
       "6      15273\n",
       "7       9873\n",
       "8      14056\n",
       "9      10688\n",
       "10     14393\n",
       "11     12300\n",
       "12     12409\n",
       "13     10499\n",
       "14     10310\n",
       "15      8544\n",
       "16      7727\n",
       "17      6198\n",
       "18      5757\n",
       "19      4002\n",
       "20      3417\n",
       "21      2610\n",
       "22      1981\n",
       "23      1616\n",
       "24      1209\n",
       "25       900\n",
       "26       722\n",
       "27       504\n",
       "28       306\n",
       "29       214\n",
       "30       150\n",
       "31        61\n",
       "32        27\n",
       "Name: count, dtype: int64"
      ]
     },
     "execution_count": 8,
     "metadata": {},
     "output_type": "execute_result"
    }
   ],
   "source": [
    "df_flight[\"Total Flights\"].value_counts().sort_index()"
   ]
  },
  {
   "cell_type": "code",
   "execution_count": 9,
   "id": "2530cea8",
   "metadata": {},
   "outputs": [
    {
     "data": {
      "text/plain": [
       "(0.0, 6000.0)"
      ]
     },
     "execution_count": 9,
     "metadata": {},
     "output_type": "execute_result"
    },
    {
     "data": {
      "image/png": "[encoded data removed]",
      "text/plain": [
       "<Figure size 640x480 with 1 Axes>"
      ]
     },
     "metadata": {},
     "output_type": "display_data"
    }
   ],
   "source": [
    "sns.histplot(data=df_flight, x = 'Distance', bins = 25, kde=True, color='red', stat='count', alpha = 0.3) #distribución no es normal, sesgo a la derecha\n",
    "plt.xlim(0,6000) #hacer coincidir los ejes"
   ]
  },
  {
   "cell_type": "code",
   "execution_count": 10,
   "id": "e236ea70",
   "metadata": {},
   "outputs": [
    {
     "data": {
      "text/plain": [
       "(0.0, 700.0)"
      ]
     },
     "execution_count": 10,
     "metadata": {},
     "output_type": "execute_result"
    },
    {
     "data": {
      "image/png": "[encoded data removed]",
      "text/plain": [
       "<Figure size 640x480 with 1 Axes>"
      ]
     },
     "metadata": {},
     "output_type": "display_data"
    }
   ],
   "source": [
    "sns.histplot(data=df_flight, x = 'Points Accumulated', bins = 25, kde=True, color='red', stat='count', alpha = 0.3) #distribución no es normal, sesgo a la derecha\n",
    "plt.xlim(0,700)"
   ]
  },
  {
   "cell_type": "code",
   "execution_count": 11,
   "id": "bc573949",
   "metadata": {},
   "outputs": [
    {
     "data": {
      "text/plain": [
       "(0.0, 900.0)"
      ]
     },
     "execution_count": 11,
     "metadata": {},
     "output_type": "execute_result"
    },
    {
     "data": {
      "image/png": "[encoded data removed]",
      "text/plain": [
       "<Figure size 640x480 with 1 Axes>"
      ]
     },
     "metadata": {},
     "output_type": "display_data"
    }
   ],
   "source": [
    "sns.histplot(data=df_flight, x = 'Points Redeemed', bins = 25, kde=True, color='red', stat='count', alpha = 0.3) #distribución no es normal, sesgo a la derecha\n",
    "plt.xlim(0,900)"
   ]
  },
  {
   "cell_type": "code",
   "execution_count": 12,
   "id": "78263980",
   "metadata": {},
   "outputs": [
    {
     "data": {
      "text/plain": [
       "(0.0, 80.0)"
      ]
     },
     "execution_count": 12,
     "metadata": {},
     "output_type": "execute_result"
    },
    {
     "data": {
      "image/png": "[encoded data removed]",
      "text/plain": [
       "<Figure size 640x480 with 1 Axes>"
      ]
     },
     "metadata": {},
     "output_type": "display_data"
    }
   ],
   "source": [
    "sns.histplot(data=df_flight, x = 'Dollar Cost Points Redeemed', bins = 25, kde=True, color='red', stat='count', alpha = 0.3) #distribución no es normal, sesgo a la derecha\n",
    "plt.xlim(0,80)"
   ]
  },
  {
   "cell_type": "code",
   "execution_count": 13,
   "id": "c69690a6",
   "metadata": {},
   "outputs": [
    {
     "data": {
      "text/plain": [
       "Month\n",
       "1     33802\n",
       "10    33802\n",
       "11    33802\n",
       "12    33802\n",
       "2     33802\n",
       "3     33802\n",
       "4     33802\n",
       "5     33802\n",
       "6     33802\n",
       "7     33802\n",
       "8     33802\n",
       "9     33802\n",
       "Name: count, dtype: int64"
      ]
     },
     "execution_count": 13,
     "metadata": {},
     "output_type": "execute_result"
    }
   ],
   "source": [
    "df_flight[\"Month\"] = df_flight[\"Month\"].astype(str) #Cambiar a string porque es categórica\n",
    "df_flight[\"Month\"].value_counts().sort_index()"
   ]
  },
  {
   "cell_type": "code",
   "execution_count": 14,
   "id": "b83ca58b",
   "metadata": {},
   "outputs": [
    {
     "data": {
      "text/plain": [
       "Year\n",
       "2017    202812\n",
       "2018    202812\n",
       "Name: count, dtype: int64"
      ]
     },
     "execution_count": 14,
     "metadata": {},
     "output_type": "execute_result"
    }
   ],
   "source": [
    "df_flight[\"Year\"] = df_flight[\"Year\"].astype(str) #Cambiar a string porque es categórica\n",
    "df_flight[\"Year\"].value_counts().sort_index()"
   ]
  },
  {
   "cell_type": "code",
   "execution_count": 15,
   "id": "9b02ffec",
   "metadata": {},
   "outputs": [
    {
     "data": {
      "text/plain": [
       "(405624, 10)"
      ]
     },
     "execution_count": 15,
     "metadata": {},
     "output_type": "execute_result"
    }
   ],
   "source": [
    "df_flight.shape # 405624 filas, 10 columnas en el DF"
   ]
  },
  {
   "cell_type": "code",
   "execution_count": 16,
   "id": "ca2d037e",
   "metadata": {},
   "outputs": [
    {
     "data": {
      "text/plain": [
       "Loyalty Number                 0\n",
       "Year                           0\n",
       "Month                          0\n",
       "Flights Booked                 0\n",
       "Flights with Companions        0\n",
       "Total Flights                  0\n",
       "Distance                       0\n",
       "Points Accumulated             0\n",
       "Points Redeemed                0\n",
       "Dollar Cost Points Redeemed    0\n",
       "dtype: int64"
      ]
     },
     "execution_count": 16,
     "metadata": {},
     "output_type": "execute_result"
    }
   ],
   "source": [
    "df_flight.isnull().sum() #comprobar que no hay valores nulos"
   ]
  },
  {
   "cell_type": "code",
   "execution_count": 17,
   "id": "f48c4d86",
   "metadata": {},
   "outputs": [
    {
     "data": {
      "text/html": [
       "<div>\n",
       "<style scoped>\n",
       "    .dataframe tbody tr th:only-of-type {\n",
       "        vertical-align: middle;\n",
       "    }\n",
       "\n",
       "    .dataframe tbody tr th {\n",
       "        vertical-align: top;\n",
       "    }\n",
       "\n",
       "    .dataframe thead th {\n",
       "        text-align: right;\n",
       "    }\n",
       "</style>\n",
       "<table border=\"1\" class=\"dataframe\">\n",
       "  <thead>\n",
       "    <tr style=\"text-align: right;\">\n",
       "      <th></th>\n",
       "      <th>count</th>\n",
       "      <th>mean</th>\n",
       "      <th>std</th>\n",
       "      <th>min</th>\n",
       "      <th>25%</th>\n",
       "      <th>50%</th>\n",
       "      <th>75%</th>\n",
       "      <th>max</th>\n",
       "    </tr>\n",
       "  </thead>\n",
       "  <tbody>\n",
       "    <tr>\n",
       "      <th>Flights Booked</th>\n",
       "      <td>405624.0</td>\n",
       "      <td>4.115052</td>\n",
       "      <td>5.225518</td>\n",
       "      <td>0.0</td>\n",
       "      <td>0.0</td>\n",
       "      <td>1.0</td>\n",
       "      <td>8.0</td>\n",
       "      <td>21.0</td>\n",
       "    </tr>\n",
       "    <tr>\n",
       "      <th>Flights with Companions</th>\n",
       "      <td>405624.0</td>\n",
       "      <td>1.031805</td>\n",
       "      <td>2.076869</td>\n",
       "      <td>0.0</td>\n",
       "      <td>0.0</td>\n",
       "      <td>0.0</td>\n",
       "      <td>1.0</td>\n",
       "      <td>11.0</td>\n",
       "    </tr>\n",
       "    <tr>\n",
       "      <th>Total Flights</th>\n",
       "      <td>405624.0</td>\n",
       "      <td>5.146858</td>\n",
       "      <td>6.521227</td>\n",
       "      <td>0.0</td>\n",
       "      <td>0.0</td>\n",
       "      <td>1.0</td>\n",
       "      <td>10.0</td>\n",
       "      <td>32.0</td>\n",
       "    </tr>\n",
       "    <tr>\n",
       "      <th>Distance</th>\n",
       "      <td>405624.0</td>\n",
       "      <td>1208.880059</td>\n",
       "      <td>1433.155320</td>\n",
       "      <td>0.0</td>\n",
       "      <td>0.0</td>\n",
       "      <td>488.0</td>\n",
       "      <td>2336.0</td>\n",
       "      <td>6293.0</td>\n",
       "    </tr>\n",
       "    <tr>\n",
       "      <th>Points Accumulated</th>\n",
       "      <td>405624.0</td>\n",
       "      <td>123.692721</td>\n",
       "      <td>146.599831</td>\n",
       "      <td>0.0</td>\n",
       "      <td>0.0</td>\n",
       "      <td>50.0</td>\n",
       "      <td>239.0</td>\n",
       "      <td>676.5</td>\n",
       "    </tr>\n",
       "    <tr>\n",
       "      <th>Points Redeemed</th>\n",
       "      <td>405624.0</td>\n",
       "      <td>30.696872</td>\n",
       "      <td>125.486049</td>\n",
       "      <td>0.0</td>\n",
       "      <td>0.0</td>\n",
       "      <td>0.0</td>\n",
       "      <td>0.0</td>\n",
       "      <td>876.0</td>\n",
       "    </tr>\n",
       "    <tr>\n",
       "      <th>Dollar Cost Points Redeemed</th>\n",
       "      <td>405624.0</td>\n",
       "      <td>2.484503</td>\n",
       "      <td>10.150038</td>\n",
       "      <td>0.0</td>\n",
       "      <td>0.0</td>\n",
       "      <td>0.0</td>\n",
       "      <td>0.0</td>\n",
       "      <td>71.0</td>\n",
       "    </tr>\n",
       "  </tbody>\n",
       "</table>\n",
       "</div>"
      ],
      "text/plain": [
       "                                count         mean          std  min  25%  \\\n",
       "Flights Booked               405624.0     4.115052     5.225518  0.0  0.0   \n",
       "Flights with Companions      405624.0     1.031805     2.076869  0.0  0.0   \n",
       "Total Flights                405624.0     5.146858     6.521227  0.0  0.0   \n",
       "Distance                     405624.0  1208.880059  1433.155320  0.0  0.0   \n",
       "Points Accumulated           405624.0   123.692721   146.599831  0.0  0.0   \n",
       "Points Redeemed              405624.0    30.696872   125.486049  0.0  0.0   \n",
       "Dollar Cost Points Redeemed  405624.0     2.484503    10.150038  0.0  0.0   \n",
       "\n",
       "                               50%     75%     max  \n",
       "Flights Booked                 1.0     8.0    21.0  \n",
       "Flights with Companions        0.0     1.0    11.0  \n",
       "Total Flights                  1.0    10.0    32.0  \n",
       "Distance                     488.0  2336.0  6293.0  \n",
       "Points Accumulated            50.0   239.0   676.5  \n",
       "Points Redeemed                0.0     0.0   876.0  \n",
       "Dollar Cost Points Redeemed    0.0     0.0    71.0  "
      ]
     },
     "execution_count": 17,
     "metadata": {},
     "output_type": "execute_result"
    }
   ],
   "source": [
    "df_flight.describe(include='number').T #estadísticas descriptivas de las variables numéricas"
   ]
  },
  {
   "cell_type": "code",
   "execution_count": 18,
   "id": "7d4f7232",
   "metadata": {},
   "outputs": [
    {
     "data": {
      "text/html": [
       "<div>\n",
       "<style scoped>\n",
       "    .dataframe tbody tr th:only-of-type {\n",
       "        vertical-align: middle;\n",
       "    }\n",
       "\n",
       "    .dataframe tbody tr th {\n",
       "        vertical-align: top;\n",
       "    }\n",
       "\n",
       "    .dataframe thead th {\n",
       "        text-align: right;\n",
       "    }\n",
       "</style>\n",
       "<table border=\"1\" class=\"dataframe\">\n",
       "  <thead>\n",
       "    <tr style=\"text-align: right;\">\n",
       "      <th></th>\n",
       "      <th>count</th>\n",
       "      <th>unique</th>\n",
       "      <th>top</th>\n",
       "      <th>freq</th>\n",
       "    </tr>\n",
       "  </thead>\n",
       "  <tbody>\n",
       "    <tr>\n",
       "      <th>Loyalty Number</th>\n",
       "      <td>405624</td>\n",
       "      <td>16737</td>\n",
       "      <td>678205</td>\n",
       "      <td>72</td>\n",
       "    </tr>\n",
       "    <tr>\n",
       "      <th>Year</th>\n",
       "      <td>405624</td>\n",
       "      <td>2</td>\n",
       "      <td>2017</td>\n",
       "      <td>202812</td>\n",
       "    </tr>\n",
       "    <tr>\n",
       "      <th>Month</th>\n",
       "      <td>405624</td>\n",
       "      <td>12</td>\n",
       "      <td>1</td>\n",
       "      <td>33802</td>\n",
       "    </tr>\n",
       "  </tbody>\n",
       "</table>\n",
       "</div>"
      ],
      "text/plain": [
       "                 count unique     top    freq\n",
       "Loyalty Number  405624  16737  678205      72\n",
       "Year            405624      2    2017  202812\n",
       "Month           405624     12       1   33802"
      ]
     },
     "execution_count": 18,
     "metadata": {},
     "output_type": "execute_result"
    }
   ],
   "source": [
    "df_flight.describe(include='O').T #estadísticas descriptivas de las variables categóricas"
   ]
  },
  {
   "cell_type": "code",
   "execution_count": 19,
   "id": "bbd9c8b3",
   "metadata": {},
   "outputs": [
    {
     "data": {
      "text/plain": [
       "1864"
      ]
     },
     "execution_count": 19,
     "metadata": {},
     "output_type": "execute_result"
    }
   ],
   "source": [
    "df_flight.duplicated().sum() #explorar los duplicados"
   ]
  },
  {
   "cell_type": "code",
   "execution_count": 20,
   "id": "71895596",
   "metadata": {},
   "outputs": [
    {
     "data": {
      "text/html": [
       "<div>\n",
       "<style scoped>\n",
       "    .dataframe tbody tr th:only-of-type {\n",
       "        vertical-align: middle;\n",
       "    }\n",
       "\n",
       "    .dataframe tbody tr th {\n",
       "        vertical-align: top;\n",
       "    }\n",
       "\n",
       "    .dataframe thead th {\n",
       "        text-align: right;\n",
       "    }\n",
       "</style>\n",
       "<table border=\"1\" class=\"dataframe\">\n",
       "  <thead>\n",
       "    <tr style=\"text-align: right;\">\n",
       "      <th></th>\n",
       "      <th>Loyalty Number</th>\n",
       "      <th>Year</th>\n",
       "      <th>Month</th>\n",
       "      <th>Flights Booked</th>\n",
       "      <th>Flights with Companions</th>\n",
       "      <th>Total Flights</th>\n",
       "      <th>Distance</th>\n",
       "      <th>Points Accumulated</th>\n",
       "      <th>Points Redeemed</th>\n",
       "      <th>Dollar Cost Points Redeemed</th>\n",
       "    </tr>\n",
       "  </thead>\n",
       "  <tbody>\n",
       "    <tr>\n",
       "      <th>41</th>\n",
       "      <td>101902</td>\n",
       "      <td>2017</td>\n",
       "      <td>1</td>\n",
       "      <td>0</td>\n",
       "      <td>0</td>\n",
       "      <td>0</td>\n",
       "      <td>0</td>\n",
       "      <td>0.0</td>\n",
       "      <td>0</td>\n",
       "      <td>0</td>\n",
       "    </tr>\n",
       "    <tr>\n",
       "      <th>33843</th>\n",
       "      <td>101902</td>\n",
       "      <td>2017</td>\n",
       "      <td>3</td>\n",
       "      <td>0</td>\n",
       "      <td>0</td>\n",
       "      <td>0</td>\n",
       "      <td>0</td>\n",
       "      <td>0.0</td>\n",
       "      <td>0</td>\n",
       "      <td>0</td>\n",
       "    </tr>\n",
       "    <tr>\n",
       "      <th>16942</th>\n",
       "      <td>101902</td>\n",
       "      <td>2017</td>\n",
       "      <td>2</td>\n",
       "      <td>0</td>\n",
       "      <td>0</td>\n",
       "      <td>0</td>\n",
       "      <td>0</td>\n",
       "      <td>0.0</td>\n",
       "      <td>0</td>\n",
       "      <td>0</td>\n",
       "    </tr>\n",
       "    <tr>\n",
       "      <th>185952</th>\n",
       "      <td>101902</td>\n",
       "      <td>2017</td>\n",
       "      <td>12</td>\n",
       "      <td>0</td>\n",
       "      <td>0</td>\n",
       "      <td>0</td>\n",
       "      <td>0</td>\n",
       "      <td>0.0</td>\n",
       "      <td>0</td>\n",
       "      <td>0</td>\n",
       "    </tr>\n",
       "    <tr>\n",
       "      <th>185953</th>\n",
       "      <td>101902</td>\n",
       "      <td>2017</td>\n",
       "      <td>12</td>\n",
       "      <td>0</td>\n",
       "      <td>0</td>\n",
       "      <td>0</td>\n",
       "      <td>0</td>\n",
       "      <td>0.0</td>\n",
       "      <td>0</td>\n",
       "      <td>0</td>\n",
       "    </tr>\n",
       "    <tr>\n",
       "      <th>...</th>\n",
       "      <td>...</td>\n",
       "      <td>...</td>\n",
       "      <td>...</td>\n",
       "      <td>...</td>\n",
       "      <td>...</td>\n",
       "      <td>...</td>\n",
       "      <td>...</td>\n",
       "      <td>...</td>\n",
       "      <td>...</td>\n",
       "      <td>...</td>\n",
       "    </tr>\n",
       "    <tr>\n",
       "      <th>354784</th>\n",
       "      <td>992168</td>\n",
       "      <td>2018</td>\n",
       "      <td>9</td>\n",
       "      <td>0</td>\n",
       "      <td>0</td>\n",
       "      <td>0</td>\n",
       "      <td>0</td>\n",
       "      <td>0.0</td>\n",
       "      <td>0</td>\n",
       "      <td>0</td>\n",
       "    </tr>\n",
       "    <tr>\n",
       "      <th>33665</th>\n",
       "      <td>992168</td>\n",
       "      <td>2017</td>\n",
       "      <td>2</td>\n",
       "      <td>0</td>\n",
       "      <td>0</td>\n",
       "      <td>0</td>\n",
       "      <td>0</td>\n",
       "      <td>0.0</td>\n",
       "      <td>0</td>\n",
       "      <td>0</td>\n",
       "    </tr>\n",
       "    <tr>\n",
       "      <th>33664</th>\n",
       "      <td>992168</td>\n",
       "      <td>2017</td>\n",
       "      <td>2</td>\n",
       "      <td>0</td>\n",
       "      <td>0</td>\n",
       "      <td>0</td>\n",
       "      <td>0</td>\n",
       "      <td>0.0</td>\n",
       "      <td>0</td>\n",
       "      <td>0</td>\n",
       "    </tr>\n",
       "    <tr>\n",
       "      <th>101269</th>\n",
       "      <td>992168</td>\n",
       "      <td>2017</td>\n",
       "      <td>6</td>\n",
       "      <td>0</td>\n",
       "      <td>0</td>\n",
       "      <td>0</td>\n",
       "      <td>0</td>\n",
       "      <td>0.0</td>\n",
       "      <td>0</td>\n",
       "      <td>0</td>\n",
       "    </tr>\n",
       "    <tr>\n",
       "      <th>151971</th>\n",
       "      <td>992168</td>\n",
       "      <td>2017</td>\n",
       "      <td>9</td>\n",
       "      <td>0</td>\n",
       "      <td>0</td>\n",
       "      <td>0</td>\n",
       "      <td>0</td>\n",
       "      <td>0.0</td>\n",
       "      <td>0</td>\n",
       "      <td>0</td>\n",
       "    </tr>\n",
       "  </tbody>\n",
       "</table>\n",
       "<p>3712 rows × 10 columns</p>\n",
       "</div>"
      ],
      "text/plain": [
       "       Loyalty Number  Year Month  Flights Booked  Flights with Companions  \\\n",
       "41             101902  2017     1               0                        0   \n",
       "33843          101902  2017     3               0                        0   \n",
       "16942          101902  2017     2               0                        0   \n",
       "185952         101902  2017    12               0                        0   \n",
       "185953         101902  2017    12               0                        0   \n",
       "...               ...   ...   ...             ...                      ...   \n",
       "354784         992168  2018     9               0                        0   \n",
       "33665          992168  2017     2               0                        0   \n",
       "33664          992168  2017     2               0                        0   \n",
       "101269         992168  2017     6               0                        0   \n",
       "151971         992168  2017     9               0                        0   \n",
       "\n",
       "        Total Flights  Distance  Points Accumulated  Points Redeemed  \\\n",
       "41                  0         0                 0.0                0   \n",
       "33843               0         0                 0.0                0   \n",
       "16942               0         0                 0.0                0   \n",
       "185952              0         0                 0.0                0   \n",
       "185953              0         0                 0.0                0   \n",
       "...               ...       ...                 ...              ...   \n",
       "354784              0         0                 0.0                0   \n",
       "33665               0         0                 0.0                0   \n",
       "33664               0         0                 0.0                0   \n",
       "101269              0         0                 0.0                0   \n",
       "151971              0         0                 0.0                0   \n",
       "\n",
       "        Dollar Cost Points Redeemed  \n",
       "41                                0  \n",
       "33843                             0  \n",
       "16942                             0  \n",
       "185952                            0  \n",
       "185953                            0  \n",
       "...                             ...  \n",
       "354784                            0  \n",
       "33665                             0  \n",
       "33664                             0  \n",
       "101269                            0  \n",
       "151971                            0  \n",
       "\n",
       "[3712 rows x 10 columns]"
      ]
     },
     "execution_count": 20,
     "metadata": {},
     "output_type": "execute_result"
    }
   ],
   "source": [
    "mascara = df_flight.duplicated(keep=False)\n",
    "df_flight[mascara].sort_values(\"Loyalty Number\")"
   ]
  },
  {
   "cell_type": "code",
   "execution_count": 21,
   "id": "e198e417",
   "metadata": {},
   "outputs": [],
   "source": [
    "df_flight_copia = df_flight.copy() #eliminar duplicados en una copia del DF\n",
    "df_flight_copia.drop_duplicates(inplace=True)"
   ]
  },
  {
   "cell_type": "code",
   "execution_count": 22,
   "id": "726e6c34",
   "metadata": {},
   "outputs": [
    {
     "data": {
      "text/plain": [
       "0"
      ]
     },
     "execution_count": 22,
     "metadata": {},
     "output_type": "execute_result"
    }
   ],
   "source": [
    "df_flight_copia.duplicated().sum() #comprobar que se eliminaron los duplicados"
   ]
  },
  {
   "cell_type": "code",
   "execution_count": 23,
   "id": "cebed06e",
   "metadata": {},
   "outputs": [
    {
     "data": {
      "text/plain": [
       "(403760, 10)"
      ]
     },
     "execution_count": 23,
     "metadata": {},
     "output_type": "execute_result"
    }
   ],
   "source": [
    "df_flight_copia.shape # comprobar que el número de filas se redujo"
   ]
  },
  {
   "cell_type": "code",
   "execution_count": 24,
   "id": "c401038d",
   "metadata": {},
   "outputs": [],
   "source": [
    "df_flight_copia.to_csv(\"Customer Flight Activity non duplicates.csv\", index=False) # guardar el archivo con los cambios\n"
   ]
  },
  {
   "cell_type": "markdown",
   "id": "69b9f884",
   "metadata": {},
   "source": [
    "Abrir y explorar CSV Customer Loyalty History"
   ]
  },
  {
   "cell_type": "code",
   "execution_count": 25,
   "id": "0c2c9b6a",
   "metadata": {},
   "outputs": [
    {
     "data": {
      "text/html": [
       "<div>\n",
       "<style scoped>\n",
       "    .dataframe tbody tr th:only-of-type {\n",
       "        vertical-align: middle;\n",
       "    }\n",
       "\n",
       "    .dataframe tbody tr th {\n",
       "        vertical-align: top;\n",
       "    }\n",
       "\n",
       "    .dataframe thead th {\n",
       "        text-align: right;\n",
       "    }\n",
       "</style>\n",
       "<table border=\"1\" class=\"dataframe\">\n",
       "  <thead>\n",
       "    <tr style=\"text-align: right;\">\n",
       "      <th></th>\n",
       "      <th>Loyalty Number</th>\n",
       "      <th>Country</th>\n",
       "      <th>Province</th>\n",
       "      <th>City</th>\n",
       "      <th>Postal Code</th>\n",
       "      <th>Gender</th>\n",
       "      <th>Education</th>\n",
       "      <th>Salary</th>\n",
       "      <th>Marital Status</th>\n",
       "      <th>Loyalty Card</th>\n",
       "      <th>CLV</th>\n",
       "      <th>Enrollment Type</th>\n",
       "      <th>Enrollment Year</th>\n",
       "      <th>Enrollment Month</th>\n",
       "      <th>Cancellation Year</th>\n",
       "      <th>Cancellation Month</th>\n",
       "    </tr>\n",
       "  </thead>\n",
       "  <tbody>\n",
       "    <tr>\n",
       "      <th>0</th>\n",
       "      <td>480934</td>\n",
       "      <td>Canada</td>\n",
       "      <td>Ontario</td>\n",
       "      <td>Toronto</td>\n",
       "      <td>M2Z 4K1</td>\n",
       "      <td>Female</td>\n",
       "      <td>Bachelor</td>\n",
       "      <td>83236.0</td>\n",
       "      <td>Married</td>\n",
       "      <td>Star</td>\n",
       "      <td>3839.14</td>\n",
       "      <td>Standard</td>\n",
       "      <td>2016</td>\n",
       "      <td>2</td>\n",
       "      <td>NaN</td>\n",
       "      <td>NaN</td>\n",
       "    </tr>\n",
       "    <tr>\n",
       "      <th>1</th>\n",
       "      <td>549612</td>\n",
       "      <td>Canada</td>\n",
       "      <td>Alberta</td>\n",
       "      <td>Edmonton</td>\n",
       "      <td>T3G 6Y6</td>\n",
       "      <td>Male</td>\n",
       "      <td>College</td>\n",
       "      <td>NaN</td>\n",
       "      <td>Divorced</td>\n",
       "      <td>Star</td>\n",
       "      <td>3839.61</td>\n",
       "      <td>Standard</td>\n",
       "      <td>2016</td>\n",
       "      <td>3</td>\n",
       "      <td>NaN</td>\n",
       "      <td>NaN</td>\n",
       "    </tr>\n",
       "    <tr>\n",
       "      <th>2</th>\n",
       "      <td>429460</td>\n",
       "      <td>Canada</td>\n",
       "      <td>British Columbia</td>\n",
       "      <td>Vancouver</td>\n",
       "      <td>V6E 3D9</td>\n",
       "      <td>Male</td>\n",
       "      <td>College</td>\n",
       "      <td>NaN</td>\n",
       "      <td>Single</td>\n",
       "      <td>Star</td>\n",
       "      <td>3839.75</td>\n",
       "      <td>Standard</td>\n",
       "      <td>2014</td>\n",
       "      <td>7</td>\n",
       "      <td>2018.0</td>\n",
       "      <td>1.0</td>\n",
       "    </tr>\n",
       "    <tr>\n",
       "      <th>3</th>\n",
       "      <td>608370</td>\n",
       "      <td>Canada</td>\n",
       "      <td>Ontario</td>\n",
       "      <td>Toronto</td>\n",
       "      <td>P1W 1K4</td>\n",
       "      <td>Male</td>\n",
       "      <td>College</td>\n",
       "      <td>NaN</td>\n",
       "      <td>Single</td>\n",
       "      <td>Star</td>\n",
       "      <td>3839.75</td>\n",
       "      <td>Standard</td>\n",
       "      <td>2013</td>\n",
       "      <td>2</td>\n",
       "      <td>NaN</td>\n",
       "      <td>NaN</td>\n",
       "    </tr>\n",
       "    <tr>\n",
       "      <th>4</th>\n",
       "      <td>530508</td>\n",
       "      <td>Canada</td>\n",
       "      <td>Quebec</td>\n",
       "      <td>Hull</td>\n",
       "      <td>J8Y 3Z5</td>\n",
       "      <td>Male</td>\n",
       "      <td>Bachelor</td>\n",
       "      <td>103495.0</td>\n",
       "      <td>Married</td>\n",
       "      <td>Star</td>\n",
       "      <td>3842.79</td>\n",
       "      <td>Standard</td>\n",
       "      <td>2014</td>\n",
       "      <td>10</td>\n",
       "      <td>NaN</td>\n",
       "      <td>NaN</td>\n",
       "    </tr>\n",
       "  </tbody>\n",
       "</table>\n",
       "</div>"
      ],
      "text/plain": [
       "   Loyalty Number Country          Province       City Postal Code  Gender  \\\n",
       "0          480934  Canada           Ontario    Toronto     M2Z 4K1  Female   \n",
       "1          549612  Canada           Alberta   Edmonton     T3G 6Y6    Male   \n",
       "2          429460  Canada  British Columbia  Vancouver     V6E 3D9    Male   \n",
       "3          608370  Canada           Ontario    Toronto     P1W 1K4    Male   \n",
       "4          530508  Canada            Quebec       Hull     J8Y 3Z5    Male   \n",
       "\n",
       "  Education    Salary Marital Status Loyalty Card      CLV Enrollment Type  \\\n",
       "0  Bachelor   83236.0        Married         Star  3839.14        Standard   \n",
       "1   College       NaN       Divorced         Star  3839.61        Standard   \n",
       "2   College       NaN         Single         Star  3839.75        Standard   \n",
       "3   College       NaN         Single         Star  3839.75        Standard   \n",
       "4  Bachelor  103495.0        Married         Star  3842.79        Standard   \n",
       "\n",
       "   Enrollment Year  Enrollment Month  Cancellation Year  Cancellation Month  \n",
       "0             2016                 2                NaN                 NaN  \n",
       "1             2016                 3                NaN                 NaN  \n",
       "2             2014                 7             2018.0                 1.0  \n",
       "3             2013                 2                NaN                 NaN  \n",
       "4             2014                10                NaN                 NaN  "
      ]
     },
     "metadata": {},
     "output_type": "display_data"
    }
   ],
   "source": [
    "df_loyalty = pd.read_csv(\"Customer Loyalty History.csv\")\n",
    "display(df_loyalty.head())"
   ]
  },
  {
   "cell_type": "code",
   "execution_count": 26,
   "id": "8b199930",
   "metadata": {},
   "outputs": [
    {
     "name": "stdout",
     "output_type": "stream",
     "text": [
      "<class 'pandas.core.frame.DataFrame'>\n",
      "RangeIndex: 16737 entries, 0 to 16736\n",
      "Data columns (total 16 columns):\n",
      " #   Column              Non-Null Count  Dtype  \n",
      "---  ------              --------------  -----  \n",
      " 0   Loyalty Number      16737 non-null  int64  \n",
      " 1   Country             16737 non-null  object \n",
      " 2   Province            16737 non-null  object \n",
      " 3   City                16737 non-null  object \n",
      " 4   Postal Code         16737 non-null  object \n",
      " 5   Gender              16737 non-null  object \n",
      " 6   Education           16737 non-null  object \n",
      " 7   Salary              12499 non-null  float64\n",
      " 8   Marital Status      16737 non-null  object \n",
      " 9   Loyalty Card        16737 non-null  object \n",
      " 10  CLV                 16737 non-null  float64\n",
      " 11  Enrollment Type     16737 non-null  object \n",
      " 12  Enrollment Year     16737 non-null  int64  \n",
      " 13  Enrollment Month    16737 non-null  int64  \n",
      " 14  Cancellation Year   2067 non-null   float64\n",
      " 15  Cancellation Month  2067 non-null   float64\n",
      "dtypes: float64(4), int64(3), object(9)\n",
      "memory usage: 2.0+ MB\n"
     ]
    }
   ],
   "source": [
    "df_loyalty.info() # valores nulos en las columnas cancellation year y cancellation month\n",
    "# La mayoría de las columnas son categóricas, excepto por salary y CLV (Customer Lifetime Value), \n",
    "# enrollment year, enrollment month, cancellation year y cancellation month."
   ]
  },
  {
   "cell_type": "code",
   "execution_count": 27,
   "id": "c473b87b",
   "metadata": {},
   "outputs": [
    {
     "data": {
      "text/plain": [
       "Loyalty Number\n",
       "100018    1\n",
       "100102    1\n",
       "100140    1\n",
       "100214    1\n",
       "100272    1\n",
       "         ..\n",
       "999902    1\n",
       "999911    1\n",
       "999940    1\n",
       "999982    1\n",
       "999986    1\n",
       "Name: count, Length: 16737, dtype: int64"
      ]
     },
     "execution_count": 27,
     "metadata": {},
     "output_type": "execute_result"
    }
   ],
   "source": [
    "df_loyalty[\"Loyalty Number\"] = df_loyalty[\"Loyalty Number\"].astype(str) #Cambiar a string porque es categórica\n",
    "df_loyalty[\"Loyalty Number\"].value_counts().sort_index()"
   ]
  },
  {
   "cell_type": "code",
   "execution_count": 28,
   "id": "70338e1a",
   "metadata": {},
   "outputs": [
    {
     "data": {
      "text/plain": [
       "Enrollment Year\n",
       "2012    1686\n",
       "2013    2397\n",
       "2014    2370\n",
       "2015    2331\n",
       "2016    2456\n",
       "2017    2487\n",
       "2018    3010\n",
       "Name: count, dtype: int64"
      ]
     },
     "execution_count": 28,
     "metadata": {},
     "output_type": "execute_result"
    }
   ],
   "source": [
    "df_loyalty[\"Enrollment Year\"] = df_loyalty[\"Enrollment Year\"].astype(str) #Cambiar a string porque es categórica\n",
    "df_loyalty[\"Enrollment Year\"].value_counts().sort_index()\n"
   ]
  },
  {
   "cell_type": "code",
   "execution_count": 29,
   "id": "a85f71a6",
   "metadata": {},
   "outputs": [
    {
     "data": {
      "text/plain": [
       "Enrollment Month\n",
       "1     1192\n",
       "10    1444\n",
       "11    1446\n",
       "12    1480\n",
       "2     1220\n",
       "3     1358\n",
       "4     1388\n",
       "5     1503\n",
       "6     1412\n",
       "7     1473\n",
       "8     1430\n",
       "9     1391\n",
       "Name: count, dtype: int64"
      ]
     },
     "execution_count": 29,
     "metadata": {},
     "output_type": "execute_result"
    }
   ],
   "source": [
    "df_loyalty[\"Enrollment Month\"] = df_loyalty[\"Enrollment Month\"].astype(str) #Cambiar a string porque es categórica\n",
    "df_loyalty[\"Enrollment Month\"].value_counts().sort_index()"
   ]
  },
  {
   "cell_type": "code",
   "execution_count": 30,
   "id": "28b1105c",
   "metadata": {},
   "outputs": [
    {
     "data": {
      "text/plain": [
       "<bound method Series.sort_index of Cancellation Year\n",
       "2018.0    645\n",
       "2017.0    506\n",
       "2016.0    427\n",
       "2015.0    265\n",
       "2014.0    181\n",
       "2013.0     43\n",
       "Name: count, dtype: int64>"
      ]
     },
     "execution_count": 30,
     "metadata": {},
     "output_type": "execute_result"
    }
   ],
   "source": [
    "df_loyalty[\"Cancellation Year\"].value_counts().sort_index #incluye decimales"
   ]
  },
  {
   "cell_type": "code",
   "execution_count": 31,
   "id": "0c97ee04",
   "metadata": {},
   "outputs": [],
   "source": [
    "#quitar decimales\n",
    "df_loyalty['Cancellation Year'] = (\n",
    "    pd.to_numeric(df_loyalty['Cancellation Year'], errors='coerce')\n",
    "      .round(0)\n",
    "      .astype('Int64') \n",
    ")"
   ]
  },
  {
   "cell_type": "code",
   "execution_count": 32,
   "id": "f81cf871",
   "metadata": {},
   "outputs": [
    {
     "data": {
      "text/plain": [
       "Cancellation Year\n",
       "2013       43\n",
       "2014      181\n",
       "2015      265\n",
       "2016      427\n",
       "2017      506\n",
       "2018      645\n",
       "<NA>    14670\n",
       "Name: count, dtype: int64"
      ]
     },
     "execution_count": 32,
     "metadata": {},
     "output_type": "execute_result"
    }
   ],
   "source": [
    "df_loyalty[\"Cancellation Year\"] = df_loyalty[\"Cancellation Year\"].astype(str) #Cambiar a string porque es categórica\n",
    "df_loyalty[\"Cancellation Year\"].value_counts().sort_index()"
   ]
  },
  {
   "cell_type": "code",
   "execution_count": 33,
   "id": "96d0dae1",
   "metadata": {},
   "outputs": [],
   "source": [
    "percentages_CY = df_loyalty[\"Cancellation Year\"].value_counts(normalize=True).sort_index() * 100 #calcular porcentaje de nulos"
   ]
  },
  {
   "cell_type": "code",
   "execution_count": 34,
   "id": "01ba3e7f",
   "metadata": {},
   "outputs": [
    {
     "data": {
      "text/plain": [
       "Cancellation Year\n",
       "2013     0.256916\n",
       "2014     1.081436\n",
       "2015     1.583318\n",
       "2016     2.551234\n",
       "2017     3.023242\n",
       "2018     3.853737\n",
       "<NA>    87.650117\n",
       "Name: proportion, dtype: float64"
      ]
     },
     "execution_count": 34,
     "metadata": {},
     "output_type": "execute_result"
    }
   ],
   "source": [
    "percentages_CY"
   ]
  },
  {
   "cell_type": "code",
   "execution_count": 35,
   "id": "ee0348e7",
   "metadata": {},
   "outputs": [
    {
     "data": {
      "text/plain": [
       "<bound method Series.sort_index of Cancellation Month\n",
       "12.0    213\n",
       "11.0    212\n",
       "8.0     208\n",
       "7.0     186\n",
       "10.0    180\n",
       "9.0     176\n",
       "6.0     165\n",
       "1.0     155\n",
       "3.0     149\n",
       "5.0     148\n",
       "2.0     139\n",
       "4.0     136\n",
       "Name: count, dtype: int64>"
      ]
     },
     "execution_count": 35,
     "metadata": {},
     "output_type": "execute_result"
    }
   ],
   "source": [
    "df_loyalty[\"Cancellation Month\"].value_counts().sort_index #inlcuye decimales"
   ]
  },
  {
   "cell_type": "code",
   "execution_count": 36,
   "id": "fc6f2add",
   "metadata": {},
   "outputs": [],
   "source": [
    "#quitar decimales\n",
    "df_loyalty['Cancellation Month'] = (\n",
    "    pd.to_numeric(df_loyalty['Cancellation Month'], errors='coerce')\n",
    "      .round(0)\n",
    "      .astype('Int64') \n",
    ")"
   ]
  },
  {
   "cell_type": "code",
   "execution_count": 37,
   "id": "1c512f89",
   "metadata": {},
   "outputs": [
    {
     "data": {
      "text/plain": [
       "Cancellation Month\n",
       "1         155\n",
       "10        180\n",
       "11        212\n",
       "12        213\n",
       "2         139\n",
       "3         149\n",
       "4         136\n",
       "5         148\n",
       "6         165\n",
       "7         186\n",
       "8         208\n",
       "9         176\n",
       "<NA>    14670\n",
       "Name: count, dtype: int64"
      ]
     },
     "execution_count": 37,
     "metadata": {},
     "output_type": "execute_result"
    }
   ],
   "source": [
    "df_loyalty[\"Cancellation Month\"] = df_loyalty[\"Cancellation Month\"].astype(str) #Cambiar a string porque es categórica\n",
    "df_loyalty[\"Cancellation Month\"].value_counts().sort_index()"
   ]
  },
  {
   "cell_type": "code",
   "execution_count": 38,
   "id": "09c6b3e7",
   "metadata": {},
   "outputs": [],
   "source": [
    "percentages_CM = df_loyalty[\"Cancellation Month\"].value_counts(normalize=True).sort_index() * 100 #calcular porcentaje de nulos"
   ]
  },
  {
   "cell_type": "code",
   "execution_count": 39,
   "id": "5a1af15c",
   "metadata": {},
   "outputs": [
    {
     "data": {
      "text/plain": [
       "Cancellation Month\n",
       "1        0.926092\n",
       "10       1.075462\n",
       "11       1.266655\n",
       "12       1.272630\n",
       "2        0.830495\n",
       "3        0.890243\n",
       "4        0.812571\n",
       "5        0.884268\n",
       "6        0.985840\n",
       "7        1.111310\n",
       "8        1.242756\n",
       "9        1.051562\n",
       "<NA>    87.650117\n",
       "Name: proportion, dtype: float64"
      ]
     },
     "execution_count": 39,
     "metadata": {},
     "output_type": "execute_result"
    }
   ],
   "source": [
    "percentages_CM"
   ]
  },
  {
   "cell_type": "code",
   "execution_count": 40,
   "id": "231bfbb8",
   "metadata": {},
   "outputs": [],
   "source": [
    "df_loyalty = df_loyalty.drop([\"Cancellation Year\", \"Cancellation Month\"], axis=1) \n",
    "#Ambas columnas de Cancellation Month y Year son prácticamente nulas por lo que se van a eliminar."
   ]
  },
  {
   "cell_type": "code",
   "execution_count": 41,
   "id": "af603da0",
   "metadata": {},
   "outputs": [
    {
     "data": {
      "text/html": [
       "<div>\n",
       "<style scoped>\n",
       "    .dataframe tbody tr th:only-of-type {\n",
       "        vertical-align: middle;\n",
       "    }\n",
       "\n",
       "    .dataframe tbody tr th {\n",
       "        vertical-align: top;\n",
       "    }\n",
       "\n",
       "    .dataframe thead th {\n",
       "        text-align: right;\n",
       "    }\n",
       "</style>\n",
       "<table border=\"1\" class=\"dataframe\">\n",
       "  <thead>\n",
       "    <tr style=\"text-align: right;\">\n",
       "      <th></th>\n",
       "      <th>Loyalty Number</th>\n",
       "      <th>Country</th>\n",
       "      <th>Province</th>\n",
       "      <th>City</th>\n",
       "      <th>Postal Code</th>\n",
       "      <th>Gender</th>\n",
       "      <th>Education</th>\n",
       "      <th>Salary</th>\n",
       "      <th>Marital Status</th>\n",
       "      <th>Loyalty Card</th>\n",
       "      <th>CLV</th>\n",
       "      <th>Enrollment Type</th>\n",
       "      <th>Enrollment Year</th>\n",
       "      <th>Enrollment Month</th>\n",
       "    </tr>\n",
       "  </thead>\n",
       "  <tbody>\n",
       "    <tr>\n",
       "      <th>0</th>\n",
       "      <td>480934</td>\n",
       "      <td>Canada</td>\n",
       "      <td>Ontario</td>\n",
       "      <td>Toronto</td>\n",
       "      <td>M2Z 4K1</td>\n",
       "      <td>Female</td>\n",
       "      <td>Bachelor</td>\n",
       "      <td>83236.0</td>\n",
       "      <td>Married</td>\n",
       "      <td>Star</td>\n",
       "      <td>3839.14</td>\n",
       "      <td>Standard</td>\n",
       "      <td>2016</td>\n",
       "      <td>2</td>\n",
       "    </tr>\n",
       "    <tr>\n",
       "      <th>1</th>\n",
       "      <td>549612</td>\n",
       "      <td>Canada</td>\n",
       "      <td>Alberta</td>\n",
       "      <td>Edmonton</td>\n",
       "      <td>T3G 6Y6</td>\n",
       "      <td>Male</td>\n",
       "      <td>College</td>\n",
       "      <td>NaN</td>\n",
       "      <td>Divorced</td>\n",
       "      <td>Star</td>\n",
       "      <td>3839.61</td>\n",
       "      <td>Standard</td>\n",
       "      <td>2016</td>\n",
       "      <td>3</td>\n",
       "    </tr>\n",
       "    <tr>\n",
       "      <th>2</th>\n",
       "      <td>429460</td>\n",
       "      <td>Canada</td>\n",
       "      <td>British Columbia</td>\n",
       "      <td>Vancouver</td>\n",
       "      <td>V6E 3D9</td>\n",
       "      <td>Male</td>\n",
       "      <td>College</td>\n",
       "      <td>NaN</td>\n",
       "      <td>Single</td>\n",
       "      <td>Star</td>\n",
       "      <td>3839.75</td>\n",
       "      <td>Standard</td>\n",
       "      <td>2014</td>\n",
       "      <td>7</td>\n",
       "    </tr>\n",
       "    <tr>\n",
       "      <th>3</th>\n",
       "      <td>608370</td>\n",
       "      <td>Canada</td>\n",
       "      <td>Ontario</td>\n",
       "      <td>Toronto</td>\n",
       "      <td>P1W 1K4</td>\n",
       "      <td>Male</td>\n",
       "      <td>College</td>\n",
       "      <td>NaN</td>\n",
       "      <td>Single</td>\n",
       "      <td>Star</td>\n",
       "      <td>3839.75</td>\n",
       "      <td>Standard</td>\n",
       "      <td>2013</td>\n",
       "      <td>2</td>\n",
       "    </tr>\n",
       "    <tr>\n",
       "      <th>4</th>\n",
       "      <td>530508</td>\n",
       "      <td>Canada</td>\n",
       "      <td>Quebec</td>\n",
       "      <td>Hull</td>\n",
       "      <td>J8Y 3Z5</td>\n",
       "      <td>Male</td>\n",
       "      <td>Bachelor</td>\n",
       "      <td>103495.0</td>\n",
       "      <td>Married</td>\n",
       "      <td>Star</td>\n",
       "      <td>3842.79</td>\n",
       "      <td>Standard</td>\n",
       "      <td>2014</td>\n",
       "      <td>10</td>\n",
       "    </tr>\n",
       "  </tbody>\n",
       "</table>\n",
       "</div>"
      ],
      "text/plain": [
       "  Loyalty Number Country          Province       City Postal Code  Gender  \\\n",
       "0         480934  Canada           Ontario    Toronto     M2Z 4K1  Female   \n",
       "1         549612  Canada           Alberta   Edmonton     T3G 6Y6    Male   \n",
       "2         429460  Canada  British Columbia  Vancouver     V6E 3D9    Male   \n",
       "3         608370  Canada           Ontario    Toronto     P1W 1K4    Male   \n",
       "4         530508  Canada            Quebec       Hull     J8Y 3Z5    Male   \n",
       "\n",
       "  Education    Salary Marital Status Loyalty Card      CLV Enrollment Type  \\\n",
       "0  Bachelor   83236.0        Married         Star  3839.14        Standard   \n",
       "1   College       NaN       Divorced         Star  3839.61        Standard   \n",
       "2   College       NaN         Single         Star  3839.75        Standard   \n",
       "3   College       NaN         Single         Star  3839.75        Standard   \n",
       "4  Bachelor  103495.0        Married         Star  3842.79        Standard   \n",
       "\n",
       "  Enrollment Year Enrollment Month  \n",
       "0            2016                2  \n",
       "1            2016                3  \n",
       "2            2014                7  \n",
       "3            2013                2  \n",
       "4            2014               10  "
      ]
     },
     "execution_count": 41,
     "metadata": {},
     "output_type": "execute_result"
    }
   ],
   "source": [
    "df_loyalty.head() #comprobar que se eliminaron las columnas"
   ]
  },
  {
   "cell_type": "code",
   "execution_count": 42,
   "id": "303c2589",
   "metadata": {},
   "outputs": [
    {
     "data": {
      "text/plain": [
       "(16737, 14)"
      ]
     },
     "execution_count": 42,
     "metadata": {},
     "output_type": "execute_result"
    }
   ],
   "source": [
    "df_loyalty.shape # 16737 filas, 14 columnas en el DF"
   ]
  },
  {
   "cell_type": "code",
   "execution_count": 43,
   "id": "185cd398",
   "metadata": {},
   "outputs": [
    {
     "data": {
      "text/plain": [
       "Loyalty Number       0.000000\n",
       "Country              0.000000\n",
       "Province             0.000000\n",
       "City                 0.000000\n",
       "Postal Code          0.000000\n",
       "Gender               0.000000\n",
       "Education            0.000000\n",
       "Salary              25.321145\n",
       "Marital Status       0.000000\n",
       "Loyalty Card         0.000000\n",
       "CLV                  0.000000\n",
       "Enrollment Type      0.000000\n",
       "Enrollment Year      0.000000\n",
       "Enrollment Month     0.000000\n",
       "dtype: float64"
      ]
     },
     "execution_count": 43,
     "metadata": {},
     "output_type": "execute_result"
    }
   ],
   "source": [
    "df_loyalty.isnull().sum() / len(df_loyalty) * 100 #25.32% de valores nulos en la variable Salary"
   ]
  },
  {
   "cell_type": "code",
   "execution_count": 44,
   "id": "65147b7a",
   "metadata": {},
   "outputs": [
    {
     "data": {
      "text/html": [
       "<div>\n",
       "<style scoped>\n",
       "    .dataframe tbody tr th:only-of-type {\n",
       "        vertical-align: middle;\n",
       "    }\n",
       "\n",
       "    .dataframe tbody tr th {\n",
       "        vertical-align: top;\n",
       "    }\n",
       "\n",
       "    .dataframe thead th {\n",
       "        text-align: right;\n",
       "    }\n",
       "</style>\n",
       "<table border=\"1\" class=\"dataframe\">\n",
       "  <thead>\n",
       "    <tr style=\"text-align: right;\">\n",
       "      <th></th>\n",
       "      <th>count</th>\n",
       "      <th>mean</th>\n",
       "      <th>std</th>\n",
       "      <th>min</th>\n",
       "      <th>25%</th>\n",
       "      <th>50%</th>\n",
       "      <th>75%</th>\n",
       "      <th>max</th>\n",
       "    </tr>\n",
       "  </thead>\n",
       "  <tbody>\n",
       "    <tr>\n",
       "      <th>Salary</th>\n",
       "      <td>12499.0</td>\n",
       "      <td>79245.609409</td>\n",
       "      <td>35008.297285</td>\n",
       "      <td>-58486.00</td>\n",
       "      <td>59246.50</td>\n",
       "      <td>73455.00</td>\n",
       "      <td>88517.50</td>\n",
       "      <td>407228.00</td>\n",
       "    </tr>\n",
       "    <tr>\n",
       "      <th>CLV</th>\n",
       "      <td>16737.0</td>\n",
       "      <td>7988.896536</td>\n",
       "      <td>6860.982280</td>\n",
       "      <td>1898.01</td>\n",
       "      <td>3980.84</td>\n",
       "      <td>5780.18</td>\n",
       "      <td>8940.58</td>\n",
       "      <td>83325.38</td>\n",
       "    </tr>\n",
       "  </tbody>\n",
       "</table>\n",
       "</div>"
      ],
      "text/plain": [
       "          count          mean           std       min       25%       50%  \\\n",
       "Salary  12499.0  79245.609409  35008.297285 -58486.00  59246.50  73455.00   \n",
       "CLV     16737.0   7988.896536   6860.982280   1898.01   3980.84   5780.18   \n",
       "\n",
       "             75%        max  \n",
       "Salary  88517.50  407228.00  \n",
       "CLV      8940.58   83325.38  "
      ]
     },
     "execution_count": 44,
     "metadata": {},
     "output_type": "execute_result"
    }
   ],
   "source": [
    "df_loyalty.describe(include=\"number\").T #estadísticas descriptivas de las variables numéricas"
   ]
  },
  {
   "cell_type": "code",
   "execution_count": 45,
   "id": "2836f2dc",
   "metadata": {},
   "outputs": [
    {
     "data": {
      "text/html": [
       "<div>\n",
       "<style scoped>\n",
       "    .dataframe tbody tr th:only-of-type {\n",
       "        vertical-align: middle;\n",
       "    }\n",
       "\n",
       "    .dataframe tbody tr th {\n",
       "        vertical-align: top;\n",
       "    }\n",
       "\n",
       "    .dataframe thead th {\n",
       "        text-align: right;\n",
       "    }\n",
       "</style>\n",
       "<table border=\"1\" class=\"dataframe\">\n",
       "  <thead>\n",
       "    <tr style=\"text-align: right;\">\n",
       "      <th></th>\n",
       "      <th>count</th>\n",
       "      <th>unique</th>\n",
       "      <th>top</th>\n",
       "      <th>freq</th>\n",
       "    </tr>\n",
       "  </thead>\n",
       "  <tbody>\n",
       "    <tr>\n",
       "      <th>Loyalty Number</th>\n",
       "      <td>16737</td>\n",
       "      <td>16737</td>\n",
       "      <td>480934</td>\n",
       "      <td>1</td>\n",
       "    </tr>\n",
       "    <tr>\n",
       "      <th>Country</th>\n",
       "      <td>16737</td>\n",
       "      <td>1</td>\n",
       "      <td>Canada</td>\n",
       "      <td>16737</td>\n",
       "    </tr>\n",
       "    <tr>\n",
       "      <th>Province</th>\n",
       "      <td>16737</td>\n",
       "      <td>11</td>\n",
       "      <td>Ontario</td>\n",
       "      <td>5404</td>\n",
       "    </tr>\n",
       "    <tr>\n",
       "      <th>City</th>\n",
       "      <td>16737</td>\n",
       "      <td>29</td>\n",
       "      <td>Toronto</td>\n",
       "      <td>3351</td>\n",
       "    </tr>\n",
       "    <tr>\n",
       "      <th>Postal Code</th>\n",
       "      <td>16737</td>\n",
       "      <td>55</td>\n",
       "      <td>V6E 3D9</td>\n",
       "      <td>911</td>\n",
       "    </tr>\n",
       "    <tr>\n",
       "      <th>Gender</th>\n",
       "      <td>16737</td>\n",
       "      <td>2</td>\n",
       "      <td>Female</td>\n",
       "      <td>8410</td>\n",
       "    </tr>\n",
       "    <tr>\n",
       "      <th>Education</th>\n",
       "      <td>16737</td>\n",
       "      <td>5</td>\n",
       "      <td>Bachelor</td>\n",
       "      <td>10475</td>\n",
       "    </tr>\n",
       "    <tr>\n",
       "      <th>Marital Status</th>\n",
       "      <td>16737</td>\n",
       "      <td>3</td>\n",
       "      <td>Married</td>\n",
       "      <td>9735</td>\n",
       "    </tr>\n",
       "    <tr>\n",
       "      <th>Loyalty Card</th>\n",
       "      <td>16737</td>\n",
       "      <td>3</td>\n",
       "      <td>Star</td>\n",
       "      <td>7637</td>\n",
       "    </tr>\n",
       "    <tr>\n",
       "      <th>Enrollment Type</th>\n",
       "      <td>16737</td>\n",
       "      <td>2</td>\n",
       "      <td>Standard</td>\n",
       "      <td>15766</td>\n",
       "    </tr>\n",
       "    <tr>\n",
       "      <th>Enrollment Year</th>\n",
       "      <td>16737</td>\n",
       "      <td>7</td>\n",
       "      <td>2018</td>\n",
       "      <td>3010</td>\n",
       "    </tr>\n",
       "    <tr>\n",
       "      <th>Enrollment Month</th>\n",
       "      <td>16737</td>\n",
       "      <td>12</td>\n",
       "      <td>5</td>\n",
       "      <td>1503</td>\n",
       "    </tr>\n",
       "  </tbody>\n",
       "</table>\n",
       "</div>"
      ],
      "text/plain": [
       "                  count unique       top   freq\n",
       "Loyalty Number    16737  16737    480934      1\n",
       "Country           16737      1    Canada  16737\n",
       "Province          16737     11   Ontario   5404\n",
       "City              16737     29   Toronto   3351\n",
       "Postal Code       16737     55   V6E 3D9    911\n",
       "Gender            16737      2    Female   8410\n",
       "Education         16737      5  Bachelor  10475\n",
       "Marital Status    16737      3   Married   9735\n",
       "Loyalty Card      16737      3      Star   7637\n",
       "Enrollment Type   16737      2  Standard  15766\n",
       "Enrollment Year   16737      7      2018   3010\n",
       "Enrollment Month  16737     12         5   1503"
      ]
     },
     "execution_count": 45,
     "metadata": {},
     "output_type": "execute_result"
    }
   ],
   "source": [
    "df_loyalty.describe(include=\"O\").T #estadísticas descriptivas de las variables categóricas"
   ]
  },
  {
   "cell_type": "markdown",
   "id": "43440e71",
   "metadata": {},
   "source": [
    "Explorar las categorías/los valores por columna"
   ]
  },
  {
   "cell_type": "code",
   "execution_count": 46,
   "id": "6031630b",
   "metadata": {},
   "outputs": [
    {
     "data": {
      "text/plain": [
       "Country\n",
       "Canada    16737\n",
       "Name: count, dtype: int64"
      ]
     },
     "execution_count": 46,
     "metadata": {},
     "output_type": "execute_result"
    }
   ],
   "source": [
    "df_loyalty[\"Country\"].value_counts()"
   ]
  },
  {
   "cell_type": "code",
   "execution_count": 47,
   "id": "546f77ce",
   "metadata": {},
   "outputs": [
    {
     "data": {
      "text/plain": [
       "Province\n",
       "Ontario                 5404\n",
       "British Columbia        4409\n",
       "Quebec                  3300\n",
       "Alberta                  969\n",
       "Manitoba                 658\n",
       "New Brunswick            636\n",
       "Nova Scotia              518\n",
       "Saskatchewan             409\n",
       "Newfoundland             258\n",
       "Yukon                    110\n",
       "Prince Edward Island      66\n",
       "Name: count, dtype: int64"
      ]
     },
     "execution_count": 47,
     "metadata": {},
     "output_type": "execute_result"
    }
   ],
   "source": [
    "df_loyalty[\"Province\"].value_counts()"
   ]
  },
  {
   "cell_type": "code",
   "execution_count": 48,
   "id": "8b0f20df",
   "metadata": {},
   "outputs": [
    {
     "data": {
      "text/plain": [
       "City\n",
       "Toronto           3351\n",
       "Vancouver         2582\n",
       "Montreal          2059\n",
       "Winnipeg           658\n",
       "Whistler           582\n",
       "Halifax            518\n",
       "Ottawa             509\n",
       "Trenton            486\n",
       "Edmonton           486\n",
       "Quebec City        485\n",
       "Dawson Creek       444\n",
       "Fredericton        425\n",
       "Regina             409\n",
       "Kingston           401\n",
       "Tremblant          398\n",
       "Victoria           389\n",
       "Hull               358\n",
       "West Vancouver     324\n",
       "St. John's         258\n",
       "Thunder Bay        256\n",
       "Sudbury            227\n",
       "Moncton            211\n",
       "Calgary            191\n",
       "Banff              179\n",
       "London             174\n",
       "Peace River        113\n",
       "Whitehorse         110\n",
       "Kelowna             88\n",
       "Charlottetown       66\n",
       "Name: count, dtype: int64"
      ]
     },
     "execution_count": 48,
     "metadata": {},
     "output_type": "execute_result"
    }
   ],
   "source": [
    "df_loyalty[\"City\"].value_counts()"
   ]
  },
  {
   "cell_type": "code",
   "execution_count": 49,
   "id": "2e64301c",
   "metadata": {},
   "outputs": [
    {
     "data": {
      "text/plain": [
       "Postal Code\n",
       "V6E 3D9    911\n",
       "V5R 1W3    684\n",
       "V6T 1Y8    582\n",
       "V6E 3Z3    544\n",
       "M2M 7K8    534\n",
       "P1J 8T7    500\n",
       "H2T 9K8    499\n",
       "K8V 4B2    486\n",
       "G1B 3L5    485\n",
       "H2T 2J6    446\n",
       "U5I 4F1    444\n",
       "V1E 4R6    443\n",
       "E3B 2H2    425\n",
       "R2C 0M5    415\n",
       "M9K 2P4    401\n",
       "H5Y 2S9    398\n",
       "V10 6T5    389\n",
       "K1F 2R2    389\n",
       "H2Y 2W2    365\n",
       "J8Y 3Z5    358\n",
       "M8Y 4K8    340\n",
       "H4G 3T4    338\n",
       "B3J 9S2    329\n",
       "V6V 8Z3    324\n",
       "P2T 6G3    322\n",
       "H2Y 4R4    315\n",
       "M1R 4K3    313\n",
       "P1L 8X8    282\n",
       "P1W 1K4    275\n",
       "T9G 1W3    266\n",
       "A1C 6H9    258\n",
       "M2Z 4K1    257\n",
       "K8T 5M5    256\n",
       "P5S 6R4    246\n",
       "M5V 1G5    227\n",
       "S6J 3G0    226\n",
       "T3G 6Y6    220\n",
       "E1A 2A7    211\n",
       "T3E 2V9    191\n",
       "B3C 2M8    189\n",
       "S1J 3C5    183\n",
       "T4V 1D4    179\n",
       "M5B 3E4    174\n",
       "M2M 6J7    153\n",
       "R6Y 4T5    143\n",
       "M2P 4F6    126\n",
       "K1G 4Z0    120\n",
       "T9O 2W2    113\n",
       "Y2K 6R0    110\n",
       "R3R 3T4    100\n",
       "H3T 8L4     89\n",
       "V09 2E9     88\n",
       "C1A 6E8     66\n",
       "H3J 5I6      7\n",
       "M3R 4K8      3\n",
       "Name: count, dtype: int64"
      ]
     },
     "execution_count": 49,
     "metadata": {},
     "output_type": "execute_result"
    }
   ],
   "source": [
    "df_loyalty[\"Postal Code\"].value_counts()"
   ]
  },
  {
   "cell_type": "code",
   "execution_count": 50,
   "id": "5d87054f",
   "metadata": {},
   "outputs": [
    {
     "data": {
      "text/plain": [
       "Gender\n",
       "Female    8410\n",
       "Male      8327\n",
       "Name: count, dtype: int64"
      ]
     },
     "execution_count": 50,
     "metadata": {},
     "output_type": "execute_result"
    }
   ],
   "source": [
    "df_loyalty[\"Gender\"].value_counts()"
   ]
  },
  {
   "cell_type": "code",
   "execution_count": 51,
   "id": "42649f1a",
   "metadata": {},
   "outputs": [
    {
     "data": {
      "text/plain": [
       "Education\n",
       "Bachelor                10475\n",
       "College                  4238\n",
       "High School or Below      782\n",
       "Doctor                    734\n",
       "Master                    508\n",
       "Name: count, dtype: int64"
      ]
     },
     "execution_count": 51,
     "metadata": {},
     "output_type": "execute_result"
    }
   ],
   "source": [
    "df_loyalty[\"Education\"].value_counts() # se entiende aquí college como educación de 3 años, a diferencia del bachelor de 4 años."
   ]
  },
  {
   "cell_type": "code",
   "execution_count": 52,
   "id": "d04ac42e",
   "metadata": {},
   "outputs": [
    {
     "data": {
      "text/plain": [
       "Marital Status\n",
       "Married     9735\n",
       "Single      4484\n",
       "Divorced    2518\n",
       "Name: count, dtype: int64"
      ]
     },
     "execution_count": 52,
     "metadata": {},
     "output_type": "execute_result"
    }
   ],
   "source": [
    "df_loyalty[\"Marital Status\"].value_counts()"
   ]
  },
  {
   "cell_type": "code",
   "execution_count": 53,
   "id": "0e3b7d8e",
   "metadata": {},
   "outputs": [
    {
     "data": {
      "text/plain": [
       "Loyalty Card\n",
       "Star      7637\n",
       "Nova      5671\n",
       "Aurora    3429\n",
       "Name: count, dtype: int64"
      ]
     },
     "execution_count": 53,
     "metadata": {},
     "output_type": "execute_result"
    }
   ],
   "source": [
    "df_loyalty[\"Loyalty Card\"].value_counts()"
   ]
  },
  {
   "cell_type": "code",
   "execution_count": 54,
   "id": "30078e94",
   "metadata": {},
   "outputs": [
    {
     "data": {
      "text/plain": [
       "Enrollment Type\n",
       "Standard          15766\n",
       "2018 Promotion      971\n",
       "Name: count, dtype: int64"
      ]
     },
     "execution_count": 54,
     "metadata": {},
     "output_type": "execute_result"
    }
   ],
   "source": [
    "df_loyalty[\"Enrollment Type\"].value_counts()"
   ]
  },
  {
   "cell_type": "code",
   "execution_count": 55,
   "id": "f479da15",
   "metadata": {},
   "outputs": [
    {
     "data": {
      "text/plain": [
       "0"
      ]
     },
     "execution_count": 55,
     "metadata": {},
     "output_type": "execute_result"
    }
   ],
   "source": [
    "df_loyalty.duplicated().sum() #No hay duplicados"
   ]
  },
  {
   "cell_type": "code",
   "execution_count": 56,
   "id": "9d47888c",
   "metadata": {},
   "outputs": [
    {
     "data": {
      "text/plain": [
       "<Axes: xlabel='Salary', ylabel='Count'>"
      ]
     },
     "execution_count": 56,
     "metadata": {},
     "output_type": "execute_result"
    },
    {
     "data": {
      "image/png": "[encoded data removed]",
      "text/plain": [
       "<Figure size 640x480 with 1 Axes>"
      ]
     },
     "metadata": {},
     "output_type": "display_data"
    }
   ],
   "source": [
    "sns.histplot(data=df_loyalty, x = 'Salary', bins = 25, kde=True, color='red', stat='count', alpha = 0.3) \n",
    "#distribución no es normal, sesgo a la derecha"
   ]
  },
  {
   "cell_type": "code",
   "execution_count": 57,
   "id": "ea37f4b8",
   "metadata": {},
   "outputs": [],
   "source": [
    "df_loyalty[\"Salary\"] = df_loyalty[\"Salary\"].mask(df_loyalty[\"Salary\"] < 0) \n",
    "#Colocar los valores negativos de la variable Salary como nulos"
   ]
  },
  {
   "cell_type": "code",
   "execution_count": 58,
   "id": "1aba8ba7",
   "metadata": {},
   "outputs": [
    {
     "data": {
      "text/plain": [
       "(0.0, 420000.0)"
      ]
     },
     "execution_count": 58,
     "metadata": {},
     "output_type": "execute_result"
    },
    {
     "data": {
      "image/png": "[encoded data removed]",
      "text/plain": [
       "<Figure size 640x480 with 1 Axes>"
      ]
     },
     "metadata": {},
     "output_type": "display_data"
    }
   ],
   "source": [
    "sns.histplot(data=df_loyalty, x = 'Salary', bins = 25, kde=True, color='red', stat='count', alpha = 0.3) \n",
    "#distribución no es normal, sesgo a la derecha\n",
    "plt.xlim(0,420000)"
   ]
  },
  {
   "cell_type": "code",
   "execution_count": 59,
   "id": "a2f1cb41",
   "metadata": {},
   "outputs": [
    {
     "data": {
      "text/plain": [
       "Loyalty Number       0.00000\n",
       "Country              0.00000\n",
       "Province             0.00000\n",
       "City                 0.00000\n",
       "Postal Code          0.00000\n",
       "Gender               0.00000\n",
       "Education            0.00000\n",
       "Salary              25.44064\n",
       "Marital Status       0.00000\n",
       "Loyalty Card         0.00000\n",
       "CLV                  0.00000\n",
       "Enrollment Type      0.00000\n",
       "Enrollment Year      0.00000\n",
       "Enrollment Month     0.00000\n",
       "dtype: float64"
      ]
     },
     "execution_count": 59,
     "metadata": {},
     "output_type": "execute_result"
    }
   ],
   "source": [
    "df_loyalty.isnull().sum() / len(df_loyalty) * 100 #comprobar que aumentó el porcentaje de valores nulos de la variable Salary"
   ]
  },
  {
   "cell_type": "code",
   "execution_count": 60,
   "id": "3dd2c4c1",
   "metadata": {},
   "outputs": [
    {
     "data": {
      "image/png": "[encoded data removed]",
      "text/plain": [
       "<Figure size 640x480 with 1 Axes>"
      ]
     },
     "metadata": {},
     "output_type": "display_data"
    }
   ],
   "source": [
    "sns.boxplot(data=df_loyalty, x = 'Salary') #explorar los outliers\n",
    "mean_salary = round(df_loyalty['Salary'].mean(),2)\n",
    "plt.axvline(x = mean_salary, color = 'red', linestyle='--', linewidth = 2, label = f\"MEDIA: {mean_salary}\")\n",
    "plt.legend(); #muchos valores atípicos"
   ]
  },
  {
   "cell_type": "code",
   "execution_count": 61,
   "id": "ce5fa5be",
   "metadata": {},
   "outputs": [
    {
     "data": {
      "text/plain": [
       "73510.0"
      ]
     },
     "execution_count": 61,
     "metadata": {},
     "output_type": "execute_result"
    }
   ],
   "source": [
    "median_salary = round(df_loyalty['Salary'].median(),2) #calcular la mediana\n",
    "median_salary"
   ]
  },
  {
   "cell_type": "code",
   "execution_count": 62,
   "id": "121a1b9c",
   "metadata": {},
   "outputs": [],
   "source": [
    "df_loyalty_copia = df_loyalty.copy() #Inputar los valores nulos en la variable Salary\n",
    "imputer_iterative = IterativeImputer(max_iter = 20, random_state = 42)\n",
    "imputer_iterative_imputado = imputer_iterative.fit_transform(df_loyalty_copia[[\"Salary\"]])\n",
    "df_loyalty_copia[[\"Salary_imputer\"]] = imputer_iterative_imputado\n",
    "\n",
    "imputer_knn = KNNImputer(n_neighbors = 5)\n",
    "imputer_knn_imputado = imputer_knn.fit_transform(df_loyalty_copia[[\"Salary\"]])\n",
    "df_loyalty_copia[[\"Salary_knn\"]] = imputer_knn_imputado"
   ]
  },
  {
   "cell_type": "code",
   "execution_count": 63,
   "id": "35d01183",
   "metadata": {},
   "outputs": [
    {
     "data": {
      "text/html": [
       "<div>\n",
       "<style scoped>\n",
       "    .dataframe tbody tr th:only-of-type {\n",
       "        vertical-align: middle;\n",
       "    }\n",
       "\n",
       "    .dataframe tbody tr th {\n",
       "        vertical-align: top;\n",
       "    }\n",
       "\n",
       "    .dataframe thead th {\n",
       "        text-align: right;\n",
       "    }\n",
       "</style>\n",
       "<table border=\"1\" class=\"dataframe\">\n",
       "  <thead>\n",
       "    <tr style=\"text-align: right;\">\n",
       "      <th></th>\n",
       "      <th>Salary</th>\n",
       "      <th>Salary_imputer</th>\n",
       "      <th>Salary_knn</th>\n",
       "    </tr>\n",
       "  </thead>\n",
       "  <tbody>\n",
       "    <tr>\n",
       "      <th>count</th>\n",
       "      <td>12479.000000</td>\n",
       "      <td>16737.000000</td>\n",
       "      <td>16737.000000</td>\n",
       "    </tr>\n",
       "    <tr>\n",
       "      <th>mean</th>\n",
       "      <td>79429.572642</td>\n",
       "      <td>79429.572642</td>\n",
       "      <td>79429.572642</td>\n",
       "    </tr>\n",
       "    <tr>\n",
       "      <th>std</th>\n",
       "      <td>34727.560404</td>\n",
       "      <td>29986.165418</td>\n",
       "      <td>29986.165418</td>\n",
       "    </tr>\n",
       "    <tr>\n",
       "      <th>min</th>\n",
       "      <td>15609.000000</td>\n",
       "      <td>15609.000000</td>\n",
       "      <td>15609.000000</td>\n",
       "    </tr>\n",
       "    <tr>\n",
       "      <th>25%</th>\n",
       "      <td>59265.000000</td>\n",
       "      <td>63991.000000</td>\n",
       "      <td>63991.000000</td>\n",
       "    </tr>\n",
       "    <tr>\n",
       "      <th>50%</th>\n",
       "      <td>73510.000000</td>\n",
       "      <td>79429.572642</td>\n",
       "      <td>79429.572642</td>\n",
       "    </tr>\n",
       "    <tr>\n",
       "      <th>75%</th>\n",
       "      <td>88600.500000</td>\n",
       "      <td>82940.000000</td>\n",
       "      <td>82940.000000</td>\n",
       "    </tr>\n",
       "    <tr>\n",
       "      <th>max</th>\n",
       "      <td>407228.000000</td>\n",
       "      <td>407228.000000</td>\n",
       "      <td>407228.000000</td>\n",
       "    </tr>\n",
       "  </tbody>\n",
       "</table>\n",
       "</div>"
      ],
      "text/plain": [
       "              Salary  Salary_imputer     Salary_knn\n",
       "count   12479.000000    16737.000000   16737.000000\n",
       "mean    79429.572642    79429.572642   79429.572642\n",
       "std     34727.560404    29986.165418   29986.165418\n",
       "min     15609.000000    15609.000000   15609.000000\n",
       "25%     59265.000000    63991.000000   63991.000000\n",
       "50%     73510.000000    79429.572642   79429.572642\n",
       "75%     88600.500000    82940.000000   82940.000000\n",
       "max    407228.000000   407228.000000  407228.000000"
      ]
     },
     "execution_count": 63,
     "metadata": {},
     "output_type": "execute_result"
    }
   ],
   "source": [
    "df_loyalty_copia.describe()[[\"Salary\",\"Salary_imputer\", \"Salary_knn\"]] #comparar ambos métodos de imputación"
   ]
  },
  {
   "cell_type": "code",
   "execution_count": 64,
   "id": "9aaad719",
   "metadata": {},
   "outputs": [],
   "source": [
    "df_loyalty_copia.drop([\"Salary\", #nos quedamos con una sola variable Salary, se eliminan las demás\n",
    "              \"Salary_knn\"\n",
    "             ], axis = 1, inplace = True)\n",
    "\n",
    "nuevo_nombre = {\"Salary_imputer\": \"Salary\"} \n",
    "df_loyalty_copia.rename(columns = nuevo_nombre, inplace = True) "
   ]
  },
  {
   "cell_type": "code",
   "execution_count": 65,
   "id": "3fdb6631",
   "metadata": {},
   "outputs": [
    {
     "data": {
      "text/plain": [
       "Loyalty Number      0\n",
       "Country             0\n",
       "Province            0\n",
       "City                0\n",
       "Postal Code         0\n",
       "Gender              0\n",
       "Education           0\n",
       "Marital Status      0\n",
       "Loyalty Card        0\n",
       "CLV                 0\n",
       "Enrollment Type     0\n",
       "Enrollment Year     0\n",
       "Enrollment Month    0\n",
       "Salary              0\n",
       "dtype: int64"
      ]
     },
     "execution_count": 65,
     "metadata": {},
     "output_type": "execute_result"
    }
   ],
   "source": [
    "df_loyalty_copia.isnull().sum() #comprobar que ya no hay valores nulos en la variable Salary"
   ]
  },
  {
   "cell_type": "code",
   "execution_count": 66,
   "id": "29102806",
   "metadata": {},
   "outputs": [],
   "source": [
    "df_loyalty_copia.to_csv(\"Customer Loyalty History non nulls.csv\", index=False) #guardar el archivo con los cambios"
   ]
  },
  {
   "cell_type": "markdown",
   "id": "ad57c33a",
   "metadata": {},
   "source": [
    "Unión de los conjuntos de datos"
   ]
  },
  {
   "cell_type": "code",
   "execution_count": 67,
   "id": "33da06b4",
   "metadata": {},
   "outputs": [
    {
     "data": {
      "text/plain": [
       "Index(['Loyalty Number', 'Year', 'Month', 'Flights Booked',\n",
       "       'Flights with Companions', 'Total Flights', 'Distance',\n",
       "       'Points Accumulated', 'Points Redeemed', 'Dollar Cost Points Redeemed'],\n",
       "      dtype='object')"
      ]
     },
     "execution_count": 67,
     "metadata": {},
     "output_type": "execute_result"
    }
   ],
   "source": [
    "df_flight_copia.columns"
   ]
  },
  {
   "cell_type": "code",
   "execution_count": 68,
   "id": "fbc02a00",
   "metadata": {},
   "outputs": [
    {
     "data": {
      "text/plain": [
       "Index(['Loyalty Number', 'Country', 'Province', 'City', 'Postal Code',\n",
       "       'Gender', 'Education', 'Marital Status', 'Loyalty Card', 'CLV',\n",
       "       'Enrollment Type', 'Enrollment Year', 'Enrollment Month', 'Salary'],\n",
       "      dtype='object')"
      ]
     },
     "execution_count": 68,
     "metadata": {},
     "output_type": "execute_result"
    }
   ],
   "source": [
    "df_loyalty_copia.columns"
   ]
  },
  {
   "cell_type": "markdown",
   "id": "3d13847e",
   "metadata": {},
   "source": [
    "                                        La columna en común es Loyalty Number"
   ]
  },
  {
   "cell_type": "code",
   "execution_count": 69,
   "id": "6c7072bb",
   "metadata": {},
   "outputs": [
    {
     "data": {
      "text/plain": [
       "(403760, 10)"
      ]
     },
     "metadata": {},
     "output_type": "display_data"
    },
    {
     "data": {
      "text/plain": [
       "(16737, 14)"
      ]
     },
     "metadata": {},
     "output_type": "display_data"
    }
   ],
   "source": [
    "display(df_flight_copia.shape) # shape actual de los DF\n",
    "display(df_loyalty_copia.shape)"
   ]
  },
  {
   "cell_type": "code",
   "execution_count": 70,
   "id": "93ecf6b8",
   "metadata": {},
   "outputs": [],
   "source": [
    "inner_merge = df_flight_copia.merge(df_loyalty_copia, on = 'Loyalty Number') #inner merge a la derecha"
   ]
  },
  {
   "cell_type": "code",
   "execution_count": 71,
   "id": "47cab0ba",
   "metadata": {},
   "outputs": [
    {
     "data": {
      "text/plain": [
       "(403760, 23)"
      ]
     },
     "execution_count": 71,
     "metadata": {},
     "output_type": "execute_result"
    }
   ],
   "source": [
    "inner_merge.shape #shape después del merge"
   ]
  },
  {
   "cell_type": "code",
   "execution_count": 72,
   "id": "1a2207a7",
   "metadata": {},
   "outputs": [
    {
     "data": {
      "text/html": [
       "<div>\n",
       "<style scoped>\n",
       "    .dataframe tbody tr th:only-of-type {\n",
       "        vertical-align: middle;\n",
       "    }\n",
       "\n",
       "    .dataframe tbody tr th {\n",
       "        vertical-align: top;\n",
       "    }\n",
       "\n",
       "    .dataframe thead th {\n",
       "        text-align: right;\n",
       "    }\n",
       "</style>\n",
       "<table border=\"1\" class=\"dataframe\">\n",
       "  <thead>\n",
       "    <tr style=\"text-align: right;\">\n",
       "      <th></th>\n",
       "      <th>Loyalty Number</th>\n",
       "      <th>Year</th>\n",
       "      <th>Month</th>\n",
       "      <th>Flights Booked</th>\n",
       "      <th>Flights with Companions</th>\n",
       "      <th>Total Flights</th>\n",
       "      <th>Distance</th>\n",
       "      <th>Points Accumulated</th>\n",
       "      <th>Points Redeemed</th>\n",
       "      <th>Dollar Cost Points Redeemed</th>\n",
       "      <th>Country</th>\n",
       "      <th>Province</th>\n",
       "      <th>City</th>\n",
       "      <th>Postal Code</th>\n",
       "      <th>Gender</th>\n",
       "      <th>Education</th>\n",
       "      <th>Marital Status</th>\n",
       "      <th>Loyalty Card</th>\n",
       "      <th>CLV</th>\n",
       "      <th>Enrollment Type</th>\n",
       "      <th>Enrollment Year</th>\n",
       "      <th>Enrollment Month</th>\n",
       "      <th>Salary</th>\n",
       "    </tr>\n",
       "  </thead>\n",
       "  <tbody>\n",
       "    <tr>\n",
       "      <th>0</th>\n",
       "      <td>100018</td>\n",
       "      <td>2017</td>\n",
       "      <td>1</td>\n",
       "      <td>3</td>\n",
       "      <td>0</td>\n",
       "      <td>3</td>\n",
       "      <td>1521</td>\n",
       "      <td>152.0</td>\n",
       "      <td>0</td>\n",
       "      <td>0</td>\n",
       "      <td>Canada</td>\n",
       "      <td>Alberta</td>\n",
       "      <td>Edmonton</td>\n",
       "      <td>T9G 1W3</td>\n",
       "      <td>Female</td>\n",
       "      <td>Bachelor</td>\n",
       "      <td>Married</td>\n",
       "      <td>Aurora</td>\n",
       "      <td>7919.20</td>\n",
       "      <td>Standard</td>\n",
       "      <td>2016</td>\n",
       "      <td>8</td>\n",
       "      <td>92552.000000</td>\n",
       "    </tr>\n",
       "    <tr>\n",
       "      <th>1</th>\n",
       "      <td>100102</td>\n",
       "      <td>2017</td>\n",
       "      <td>1</td>\n",
       "      <td>10</td>\n",
       "      <td>4</td>\n",
       "      <td>14</td>\n",
       "      <td>2030</td>\n",
       "      <td>203.0</td>\n",
       "      <td>0</td>\n",
       "      <td>0</td>\n",
       "      <td>Canada</td>\n",
       "      <td>Ontario</td>\n",
       "      <td>Toronto</td>\n",
       "      <td>M1R 4K3</td>\n",
       "      <td>Male</td>\n",
       "      <td>College</td>\n",
       "      <td>Single</td>\n",
       "      <td>Nova</td>\n",
       "      <td>2887.74</td>\n",
       "      <td>Standard</td>\n",
       "      <td>2013</td>\n",
       "      <td>3</td>\n",
       "      <td>79429.572642</td>\n",
       "    </tr>\n",
       "    <tr>\n",
       "      <th>2</th>\n",
       "      <td>100140</td>\n",
       "      <td>2017</td>\n",
       "      <td>1</td>\n",
       "      <td>6</td>\n",
       "      <td>0</td>\n",
       "      <td>6</td>\n",
       "      <td>1200</td>\n",
       "      <td>120.0</td>\n",
       "      <td>0</td>\n",
       "      <td>0</td>\n",
       "      <td>Canada</td>\n",
       "      <td>British Columbia</td>\n",
       "      <td>Dawson Creek</td>\n",
       "      <td>U5I 4F1</td>\n",
       "      <td>Female</td>\n",
       "      <td>College</td>\n",
       "      <td>Divorced</td>\n",
       "      <td>Nova</td>\n",
       "      <td>2838.07</td>\n",
       "      <td>Standard</td>\n",
       "      <td>2016</td>\n",
       "      <td>7</td>\n",
       "      <td>79429.572642</td>\n",
       "    </tr>\n",
       "    <tr>\n",
       "      <th>3</th>\n",
       "      <td>100214</td>\n",
       "      <td>2017</td>\n",
       "      <td>1</td>\n",
       "      <td>0</td>\n",
       "      <td>0</td>\n",
       "      <td>0</td>\n",
       "      <td>0</td>\n",
       "      <td>0.0</td>\n",
       "      <td>0</td>\n",
       "      <td>0</td>\n",
       "      <td>Canada</td>\n",
       "      <td>British Columbia</td>\n",
       "      <td>Vancouver</td>\n",
       "      <td>V5R 1W3</td>\n",
       "      <td>Male</td>\n",
       "      <td>Bachelor</td>\n",
       "      <td>Married</td>\n",
       "      <td>Star</td>\n",
       "      <td>4170.57</td>\n",
       "      <td>Standard</td>\n",
       "      <td>2015</td>\n",
       "      <td>8</td>\n",
       "      <td>63253.000000</td>\n",
       "    </tr>\n",
       "    <tr>\n",
       "      <th>4</th>\n",
       "      <td>100272</td>\n",
       "      <td>2017</td>\n",
       "      <td>1</td>\n",
       "      <td>0</td>\n",
       "      <td>0</td>\n",
       "      <td>0</td>\n",
       "      <td>0</td>\n",
       "      <td>0.0</td>\n",
       "      <td>0</td>\n",
       "      <td>0</td>\n",
       "      <td>Canada</td>\n",
       "      <td>Ontario</td>\n",
       "      <td>Toronto</td>\n",
       "      <td>P1L 8X8</td>\n",
       "      <td>Female</td>\n",
       "      <td>Bachelor</td>\n",
       "      <td>Divorced</td>\n",
       "      <td>Star</td>\n",
       "      <td>6622.05</td>\n",
       "      <td>Standard</td>\n",
       "      <td>2014</td>\n",
       "      <td>1</td>\n",
       "      <td>91163.000000</td>\n",
       "    </tr>\n",
       "  </tbody>\n",
       "</table>\n",
       "</div>"
      ],
      "text/plain": [
       "  Loyalty Number  Year Month  Flights Booked  Flights with Companions  \\\n",
       "0         100018  2017     1               3                        0   \n",
       "1         100102  2017     1              10                        4   \n",
       "2         100140  2017     1               6                        0   \n",
       "3         100214  2017     1               0                        0   \n",
       "4         100272  2017     1               0                        0   \n",
       "\n",
       "   Total Flights  Distance  Points Accumulated  Points Redeemed  \\\n",
       "0              3      1521               152.0                0   \n",
       "1             14      2030               203.0                0   \n",
       "2              6      1200               120.0                0   \n",
       "3              0         0                 0.0                0   \n",
       "4              0         0                 0.0                0   \n",
       "\n",
       "   Dollar Cost Points Redeemed Country          Province          City  \\\n",
       "0                            0  Canada           Alberta      Edmonton   \n",
       "1                            0  Canada           Ontario       Toronto   \n",
       "2                            0  Canada  British Columbia  Dawson Creek   \n",
       "3                            0  Canada  British Columbia     Vancouver   \n",
       "4                            0  Canada           Ontario       Toronto   \n",
       "\n",
       "  Postal Code  Gender Education Marital Status Loyalty Card      CLV  \\\n",
       "0     T9G 1W3  Female  Bachelor        Married       Aurora  7919.20   \n",
       "1     M1R 4K3    Male   College         Single         Nova  2887.74   \n",
       "2     U5I 4F1  Female   College       Divorced         Nova  2838.07   \n",
       "3     V5R 1W3    Male  Bachelor        Married         Star  4170.57   \n",
       "4     P1L 8X8  Female  Bachelor       Divorced         Star  6622.05   \n",
       "\n",
       "  Enrollment Type Enrollment Year Enrollment Month        Salary  \n",
       "0        Standard            2016                8  92552.000000  \n",
       "1        Standard            2013                3  79429.572642  \n",
       "2        Standard            2016                7  79429.572642  \n",
       "3        Standard            2015                8  63253.000000  \n",
       "4        Standard            2014                1  91163.000000  "
      ]
     },
     "execution_count": 72,
     "metadata": {},
     "output_type": "execute_result"
    }
   ],
   "source": [
    "inner_merge.head()"
   ]
  },
  {
   "cell_type": "code",
   "execution_count": 73,
   "id": "55f4a39f",
   "metadata": {},
   "outputs": [
    {
     "data": {
      "text/plain": [
       "Index(['Loyalty Number', 'Year', 'Month', 'Flights Booked',\n",
       "       'Flights with Companions', 'Total Flights', 'Distance',\n",
       "       'Points Accumulated', 'Points Redeemed', 'Dollar Cost Points Redeemed',\n",
       "       'Country', 'Province', 'City', 'Postal Code', 'Gender', 'Education',\n",
       "       'Marital Status', 'Loyalty Card', 'CLV', 'Enrollment Type',\n",
       "       'Enrollment Year', 'Enrollment Month', 'Salary'],\n",
       "      dtype='object')"
      ]
     },
     "execution_count": 73,
     "metadata": {},
     "output_type": "execute_result"
    }
   ],
   "source": [
    "inner_merge.columns"
   ]
  },
  {
   "cell_type": "markdown",
   "id": "9294542a",
   "metadata": {},
   "source": [
    "FASE 2. VISUALIZACIÓN"
   ]
  },
  {
   "cell_type": "markdown",
   "id": "16b4d122",
   "metadata": {},
   "source": [
    "1. ¿Cómo se distribuye la cantidad de vuelos reservados por mes durante el año?"
   ]
  },
  {
   "cell_type": "code",
   "execution_count": 74,
   "id": "81659b2b",
   "metadata": {},
   "outputs": [],
   "source": [
    "inner_merge[\"Month\"] = pd.Categorical(\n",
    "    inner_merge[\"Month\"].astype(int),  #usar como número entero para ordenar los meses de menor a mayor\n",
    "    categories=list(range(1, 13)),   \n",
    "    ordered=True\n",
    ")"
   ]
  },
  {
   "cell_type": "code",
   "execution_count": 75,
   "id": "097107f2",
   "metadata": {},
   "outputs": [
    {
     "data": {
      "image/png": "[encoded data removed]",
      "text/plain": [
       "<Figure size 640x480 with 1 Axes>"
      ]
     },
     "metadata": {},
     "output_type": "display_data"
    }
   ],
   "source": [
    "sns.barplot(data=inner_merge, y='Flights Booked', x = 'Month')\n",
    "plt.xticks(rotation = 45);"
   ]
  },
  {
   "cell_type": "markdown",
   "id": "b3274161",
   "metadata": {},
   "source": [
    "Menos cantidad de vuelos reservados en enero, febrero y abril, más reservas en julio, junio, agosto y diciembre."
   ]
  },
  {
   "cell_type": "markdown",
   "id": "793cbc98",
   "metadata": {},
   "source": [
    "2. ¿Existe una relación entre la distancia de los vuelos y los puntos acumulados por los cliente?"
   ]
  },
  {
   "cell_type": "code",
   "execution_count": 76,
   "id": "2e3ee2bb",
   "metadata": {},
   "outputs": [
    {
     "data": {
      "image/png": "[encoded data removed]",
      "text/plain": [
       "<Figure size 640x480 with 1 Axes>"
      ]
     },
     "metadata": {},
     "output_type": "display_data"
    }
   ],
   "source": [
    "sns.scatterplot(data=inner_merge, x = 'Distance', y = 'Points Accumulated', marker='d', color = 'red', s=10);"
   ]
  },
  {
   "cell_type": "markdown",
   "id": "6f3e2ccd",
   "metadata": {},
   "source": [
    "Cálculo del coeficiente de correlación"
   ]
  },
  {
   "cell_type": "code",
   "execution_count": 77,
   "id": "e76938a2",
   "metadata": {},
   "outputs": [
    {
     "data": {
      "text/plain": [
       "[('Flights Booked', 'Flights with Companions'),\n",
       " ('Flights Booked', 'Total Flights'),\n",
       " ('Flights Booked', 'Distance'),\n",
       " ('Flights Booked', 'Points Accumulated'),\n",
       " ('Flights Booked', 'Points Redeemed'),\n",
       " ('Flights Booked', 'Dollar Cost Points Redeemed'),\n",
       " ('Flights Booked', 'CLV'),\n",
       " ('Flights Booked', 'Salary'),\n",
       " ('Flights with Companions', 'Total Flights'),\n",
       " ('Flights with Companions', 'Distance'),\n",
       " ('Flights with Companions', 'Points Accumulated'),\n",
       " ('Flights with Companions', 'Points Redeemed'),\n",
       " ('Flights with Companions', 'Dollar Cost Points Redeemed'),\n",
       " ('Flights with Companions', 'CLV'),\n",
       " ('Flights with Companions', 'Salary'),\n",
       " ('Total Flights', 'Distance'),\n",
       " ('Total Flights', 'Points Accumulated'),\n",
       " ('Total Flights', 'Points Redeemed'),\n",
       " ('Total Flights', 'Dollar Cost Points Redeemed'),\n",
       " ('Total Flights', 'CLV'),\n",
       " ('Total Flights', 'Salary'),\n",
       " ('Distance', 'Points Accumulated'),\n",
       " ('Distance', 'Points Redeemed'),\n",
       " ('Distance', 'Dollar Cost Points Redeemed'),\n",
       " ('Distance', 'CLV'),\n",
       " ('Distance', 'Salary'),\n",
       " ('Points Accumulated', 'Points Redeemed'),\n",
       " ('Points Accumulated', 'Dollar Cost Points Redeemed'),\n",
       " ('Points Accumulated', 'CLV'),\n",
       " ('Points Accumulated', 'Salary'),\n",
       " ('Points Redeemed', 'Dollar Cost Points Redeemed'),\n",
       " ('Points Redeemed', 'CLV'),\n",
       " ('Points Redeemed', 'Salary'),\n",
       " ('Dollar Cost Points Redeemed', 'CLV'),\n",
       " ('Dollar Cost Points Redeemed', 'Salary'),\n",
       " ('CLV', 'Salary')]"
      ]
     },
     "execution_count": 77,
     "metadata": {},
     "output_type": "execute_result"
    }
   ],
   "source": [
    "numericas = inner_merge.select_dtypes(include=np.number)\n",
    "numericas_comb = list(combinations(numericas, 2))\n",
    "numericas_comb"
   ]
  },
  {
   "cell_type": "code",
   "execution_count": 78,
   "id": "fca04ae3",
   "metadata": {},
   "outputs": [
    {
     "data": {
      "text/html": [
       "<div>\n",
       "<style scoped>\n",
       "    .dataframe tbody tr th:only-of-type {\n",
       "        vertical-align: middle;\n",
       "    }\n",
       "\n",
       "    .dataframe tbody tr th {\n",
       "        vertical-align: top;\n",
       "    }\n",
       "\n",
       "    .dataframe thead th {\n",
       "        text-align: right;\n",
       "    }\n",
       "</style>\n",
       "<table border=\"1\" class=\"dataframe\">\n",
       "  <thead>\n",
       "    <tr style=\"text-align: right;\">\n",
       "      <th></th>\n",
       "      <th>Flights Booked</th>\n",
       "      <th>Flights with Companions</th>\n",
       "      <th>Total Flights</th>\n",
       "      <th>Distance</th>\n",
       "      <th>Points Accumulated</th>\n",
       "      <th>Points Redeemed</th>\n",
       "      <th>Dollar Cost Points Redeemed</th>\n",
       "      <th>CLV</th>\n",
       "      <th>Salary</th>\n",
       "    </tr>\n",
       "  </thead>\n",
       "  <tbody>\n",
       "    <tr>\n",
       "      <th>Flights Booked</th>\n",
       "      <td>1.000000</td>\n",
       "      <td>0.501698</td>\n",
       "      <td>0.961233</td>\n",
       "      <td>0.766748</td>\n",
       "      <td>0.759547</td>\n",
       "      <td>0.187638</td>\n",
       "      <td>0.187647</td>\n",
       "      <td>-0.002847</td>\n",
       "      <td>0.004937</td>\n",
       "    </tr>\n",
       "    <tr>\n",
       "      <th>Flights with Companions</th>\n",
       "      <td>0.501698</td>\n",
       "      <td>1.000000</td>\n",
       "      <td>0.720773</td>\n",
       "      <td>0.517188</td>\n",
       "      <td>0.510284</td>\n",
       "      <td>0.334000</td>\n",
       "      <td>0.334060</td>\n",
       "      <td>-0.002510</td>\n",
       "      <td>0.001796</td>\n",
       "    </tr>\n",
       "    <tr>\n",
       "      <th>Total Flights</th>\n",
       "      <td>0.961233</td>\n",
       "      <td>0.720773</td>\n",
       "      <td>1.000000</td>\n",
       "      <td>0.779262</td>\n",
       "      <td>0.771291</td>\n",
       "      <td>0.256821</td>\n",
       "      <td>0.256848</td>\n",
       "      <td>-0.003081</td>\n",
       "      <td>0.004529</td>\n",
       "    </tr>\n",
       "    <tr>\n",
       "      <th>Distance</th>\n",
       "      <td>0.766748</td>\n",
       "      <td>0.517188</td>\n",
       "      <td>0.779262</td>\n",
       "      <td>1.000000</td>\n",
       "      <td>0.994546</td>\n",
       "      <td>0.223707</td>\n",
       "      <td>0.223728</td>\n",
       "      <td>-0.004132</td>\n",
       "      <td>0.006716</td>\n",
       "    </tr>\n",
       "    <tr>\n",
       "      <th>Points Accumulated</th>\n",
       "      <td>0.759547</td>\n",
       "      <td>0.510284</td>\n",
       "      <td>0.771291</td>\n",
       "      <td>0.994546</td>\n",
       "      <td>1.000000</td>\n",
       "      <td>0.222674</td>\n",
       "      <td>0.222707</td>\n",
       "      <td>-0.000942</td>\n",
       "      <td>0.006568</td>\n",
       "    </tr>\n",
       "    <tr>\n",
       "      <th>Points Redeemed</th>\n",
       "      <td>0.187638</td>\n",
       "      <td>0.334000</td>\n",
       "      <td>0.256821</td>\n",
       "      <td>0.223707</td>\n",
       "      <td>0.222674</td>\n",
       "      <td>1.000000</td>\n",
       "      <td>0.999972</td>\n",
       "      <td>-0.000265</td>\n",
       "      <td>0.002140</td>\n",
       "    </tr>\n",
       "    <tr>\n",
       "      <th>Dollar Cost Points Redeemed</th>\n",
       "      <td>0.187647</td>\n",
       "      <td>0.334060</td>\n",
       "      <td>0.256848</td>\n",
       "      <td>0.223728</td>\n",
       "      <td>0.222707</td>\n",
       "      <td>0.999972</td>\n",
       "      <td>1.000000</td>\n",
       "      <td>-0.000238</td>\n",
       "      <td>0.002133</td>\n",
       "    </tr>\n",
       "    <tr>\n",
       "      <th>CLV</th>\n",
       "      <td>-0.002847</td>\n",
       "      <td>-0.002510</td>\n",
       "      <td>-0.003081</td>\n",
       "      <td>-0.004132</td>\n",
       "      <td>-0.000942</td>\n",
       "      <td>-0.000265</td>\n",
       "      <td>-0.000238</td>\n",
       "      <td>1.000000</td>\n",
       "      <td>-0.018756</td>\n",
       "    </tr>\n",
       "    <tr>\n",
       "      <th>Salary</th>\n",
       "      <td>0.004937</td>\n",
       "      <td>0.001796</td>\n",
       "      <td>0.004529</td>\n",
       "      <td>0.006716</td>\n",
       "      <td>0.006568</td>\n",
       "      <td>0.002140</td>\n",
       "      <td>0.002133</td>\n",
       "      <td>-0.018756</td>\n",
       "      <td>1.000000</td>\n",
       "    </tr>\n",
       "  </tbody>\n",
       "</table>\n",
       "</div>"
      ],
      "text/plain": [
       "                             Flights Booked  Flights with Companions  \\\n",
       "Flights Booked                     1.000000                 0.501698   \n",
       "Flights with Companions            0.501698                 1.000000   \n",
       "Total Flights                      0.961233                 0.720773   \n",
       "Distance                           0.766748                 0.517188   \n",
       "Points Accumulated                 0.759547                 0.510284   \n",
       "Points Redeemed                    0.187638                 0.334000   \n",
       "Dollar Cost Points Redeemed        0.187647                 0.334060   \n",
       "CLV                               -0.002847                -0.002510   \n",
       "Salary                             0.004937                 0.001796   \n",
       "\n",
       "                             Total Flights  Distance  Points Accumulated  \\\n",
       "Flights Booked                    0.961233  0.766748            0.759547   \n",
       "Flights with Companions           0.720773  0.517188            0.510284   \n",
       "Total Flights                     1.000000  0.779262            0.771291   \n",
       "Distance                          0.779262  1.000000            0.994546   \n",
       "Points Accumulated                0.771291  0.994546            1.000000   \n",
       "Points Redeemed                   0.256821  0.223707            0.222674   \n",
       "Dollar Cost Points Redeemed       0.256848  0.223728            0.222707   \n",
       "CLV                              -0.003081 -0.004132           -0.000942   \n",
       "Salary                            0.004529  0.006716            0.006568   \n",
       "\n",
       "                             Points Redeemed  Dollar Cost Points Redeemed  \\\n",
       "Flights Booked                      0.187638                     0.187647   \n",
       "Flights with Companions             0.334000                     0.334060   \n",
       "Total Flights                       0.256821                     0.256848   \n",
       "Distance                            0.223707                     0.223728   \n",
       "Points Accumulated                  0.222674                     0.222707   \n",
       "Points Redeemed                     1.000000                     0.999972   \n",
       "Dollar Cost Points Redeemed         0.999972                     1.000000   \n",
       "CLV                                -0.000265                    -0.000238   \n",
       "Salary                              0.002140                     0.002133   \n",
       "\n",
       "                                  CLV    Salary  \n",
       "Flights Booked              -0.002847  0.004937  \n",
       "Flights with Companions     -0.002510  0.001796  \n",
       "Total Flights               -0.003081  0.004529  \n",
       "Distance                    -0.004132  0.006716  \n",
       "Points Accumulated          -0.000942  0.006568  \n",
       "Points Redeemed             -0.000265  0.002140  \n",
       "Dollar Cost Points Redeemed -0.000238  0.002133  \n",
       "CLV                          1.000000 -0.018756  \n",
       "Salary                      -0.018756  1.000000  "
      ]
     },
     "execution_count": 78,
     "metadata": {},
     "output_type": "execute_result"
    }
   ],
   "source": [
    "matrix = numericas.corr()\n",
    "matrix"
   ]
  },
  {
   "cell_type": "code",
   "execution_count": 79,
   "id": "e5fa26ce",
   "metadata": {},
   "outputs": [],
   "source": [
    "mascara = np.triu(np.ones_like(matrix, dtype=bool))"
   ]
  },
  {
   "cell_type": "code",
   "execution_count": 80,
   "id": "d4981ce2",
   "metadata": {},
   "outputs": [
    {
     "data": {
      "image/png": "[encoded data removed]",
      "text/plain": [
       "<Figure size 2000x1000 with 2 Axes>"
      ]
     },
     "metadata": {},
     "output_type": "display_data"
    }
   ],
   "source": [
    "plt.figure(figsize=(20,10))\n",
    "sns.heatmap(matrix, annot=True, fmt='.2f', cmap= 'mako', vmin=-1, vmax='1', mask = mascara);"
   ]
  },
  {
   "cell_type": "markdown",
   "id": "727fd6ae",
   "metadata": {},
   "source": [
    "Correlación positiva perfecta entre ambas variables, puede indicar una relación de causalidad."
   ]
  },
  {
   "cell_type": "markdown",
   "id": "3307ab0b",
   "metadata": {},
   "source": [
    "3. ¿Cuál es la distribución de los clientes por provincia o estado?"
   ]
  },
  {
   "cell_type": "code",
   "execution_count": 81,
   "id": "4dc9bcde",
   "metadata": {},
   "outputs": [
    {
     "data": {
      "image/png": "[encoded data removed]",
      "text/plain": [
       "<Figure size 640x480 with 1 Axes>"
      ]
     },
     "metadata": {},
     "output_type": "display_data"
    },
    {
     "data": {
      "text/plain": [
       "<Figure size 50000x25000 with 0 Axes>"
      ]
     },
     "metadata": {},
     "output_type": "display_data"
    }
   ],
   "source": [
    "conteo_clientes = inner_merge.groupby(\"Province\")[\"Loyalty Number\"].count().reset_index();\n",
    "\n",
    "sns.barplot(data=conteo_clientes, x=\"Province\", y=\"Loyalty Number\");\n",
    "plt.xticks(fontsize=4); #reducir tamaño de las etiquetas del eje X\n",
    "plt.figure(figsize=(500, 250)); #aumentar el tamaño del gráfico"
   ]
  },
  {
   "cell_type": "markdown",
   "id": "dc4914fb",
   "metadata": {},
   "source": [
    "Mayor cantidad de clientes de Ontario y British Columbia, muy pocos de Prince Edward Island y Yukon."
   ]
  },
  {
   "cell_type": "markdown",
   "id": "3f7502f9",
   "metadata": {},
   "source": [
    "4. ¿Cómo se compara el salario promedio entre los diferentes niveles educativos de los clientes?"
   ]
  },
  {
   "cell_type": "code",
   "execution_count": 82,
   "id": "5970f7de",
   "metadata": {},
   "outputs": [],
   "source": [
    "education_order = [\"High School or Below\", \"College\", \"Bachelor\", \"Master\", \"Doctor\"] #ordenar de menor a mayor nivel educativo\n"
   ]
  },
  {
   "cell_type": "code",
   "execution_count": 83,
   "id": "73a58b7d",
   "metadata": {},
   "outputs": [],
   "source": [
    "mean_salary = inner_merge.groupby(\"Education\")[\"Salary\"].mean().reindex(education_order)\n",
    "# usar el promedio de salario de cada nivel educativo y no el general de la columna Salary"
   ]
  },
  {
   "cell_type": "code",
   "execution_count": 84,
   "id": "72f2da84",
   "metadata": {},
   "outputs": [],
   "source": [
    "mean_salary_df = mean_salary.rename(\"Average Salary\").reset_index() # convertir la serie en data frame"
   ]
  },
  {
   "cell_type": "code",
   "execution_count": 85,
   "id": "a8ad0589",
   "metadata": {},
   "outputs": [
    {
     "data": {
      "image/png": "[encoded data removed]",
      "text/plain": [
       "<Figure size 640x480 with 1 Axes>"
      ]
     },
     "metadata": {},
     "output_type": "display_data"
    }
   ],
   "source": [
    "sns.barplot(data=mean_salary_df, x=\"Education\", y=\"Average Salary\", order=education_order)\n",
    "plt.xticks(rotation=45)\n",
    "plt.ylabel(\"Mean salary\")\n",
    "plt.title(\"Mean salary by education level\")\n",
    "plt.show()"
   ]
  },
  {
   "cell_type": "markdown",
   "id": "f42e7b2c",
   "metadata": {},
   "source": [
    "Grosso modo, a mayor nivel educativo, mayor salario promedio, excepto por el nivel \"College\" que muestra un promedio mayor que el siguiente nivel, Bachelor."
   ]
  },
  {
   "cell_type": "markdown",
   "id": "8f32be9e",
   "metadata": {},
   "source": [
    "5. ¿Cuál es la proporción de clientes con diferentes tipos de tarjetas de fidelidad?"
   ]
  },
  {
   "cell_type": "code",
   "execution_count": 86,
   "id": "3edbe266",
   "metadata": {},
   "outputs": [],
   "source": [
    "recuento = inner_merge['Loyalty Card'].value_counts().reset_index()\n",
    "recuento_2 = inner_merge.groupby('Loyalty Card')['Loyalty Number'].count().reset_index()"
   ]
  },
  {
   "cell_type": "code",
   "execution_count": 87,
   "id": "0f5d3106",
   "metadata": {},
   "outputs": [
    {
     "data": {
      "text/html": [
       "<div>\n",
       "<style scoped>\n",
       "    .dataframe tbody tr th:only-of-type {\n",
       "        vertical-align: middle;\n",
       "    }\n",
       "\n",
       "    .dataframe tbody tr th {\n",
       "        vertical-align: top;\n",
       "    }\n",
       "\n",
       "    .dataframe thead th {\n",
       "        text-align: right;\n",
       "    }\n",
       "</style>\n",
       "<table border=\"1\" class=\"dataframe\">\n",
       "  <thead>\n",
       "    <tr style=\"text-align: right;\">\n",
       "      <th></th>\n",
       "      <th>Loyalty Card</th>\n",
       "      <th>count</th>\n",
       "    </tr>\n",
       "  </thead>\n",
       "  <tbody>\n",
       "    <tr>\n",
       "      <th>0</th>\n",
       "      <td>Star</td>\n",
       "      <td>183745</td>\n",
       "    </tr>\n",
       "    <tr>\n",
       "      <th>1</th>\n",
       "      <td>Nova</td>\n",
       "      <td>136883</td>\n",
       "    </tr>\n",
       "    <tr>\n",
       "      <th>2</th>\n",
       "      <td>Aurora</td>\n",
       "      <td>83132</td>\n",
       "    </tr>\n",
       "  </tbody>\n",
       "</table>\n",
       "</div>"
      ],
      "text/plain": [
       "  Loyalty Card   count\n",
       "0         Star  183745\n",
       "1         Nova  136883\n",
       "2       Aurora   83132"
      ]
     },
     "execution_count": 87,
     "metadata": {},
     "output_type": "execute_result"
    }
   ],
   "source": [
    "recuento"
   ]
  },
  {
   "cell_type": "code",
   "execution_count": 88,
   "id": "414f5b28",
   "metadata": {},
   "outputs": [
    {
     "data": {
      "image/png": "[encoded data removed]",
      "text/plain": [
       "<Figure size 640x480 with 1 Axes>"
      ]
     },
     "metadata": {},
     "output_type": "display_data"
    }
   ],
   "source": [
    "colores = sns.color_palette(\"pastel\")\n",
    "plt.pie(data=recuento, x = 'count', labels='Loyalty Card', autopct=  '%.0f%%', colors=colores, textprops={'fontsize': 12, 'color': 'blue'});"
   ]
  },
  {
   "cell_type": "markdown",
   "id": "89a07988",
   "metadata": {},
   "source": [
    "La mayoría de los clientes poseen la tarjeta Star, la otra mitad se distribuye entre las otras 2 tarjetas."
   ]
  },
  {
   "cell_type": "markdown",
   "id": "3c7bbc85",
   "metadata": {},
   "source": [
    "6. ¿Cómo se distribuyen los clientes según su estado civil y género?"
   ]
  },
  {
   "cell_type": "code",
   "execution_count": 89,
   "id": "3f3a86db",
   "metadata": {},
   "outputs": [
    {
     "data": {
      "text/html": [
       "<div>\n",
       "<style scoped>\n",
       "    .dataframe tbody tr th:only-of-type {\n",
       "        vertical-align: middle;\n",
       "    }\n",
       "\n",
       "    .dataframe tbody tr th {\n",
       "        vertical-align: top;\n",
       "    }\n",
       "\n",
       "    .dataframe thead th {\n",
       "        text-align: right;\n",
       "    }\n",
       "</style>\n",
       "<table border=\"1\" class=\"dataframe\">\n",
       "  <thead>\n",
       "    <tr style=\"text-align: right;\">\n",
       "      <th>Gender</th>\n",
       "      <th>Female</th>\n",
       "      <th>Male</th>\n",
       "    </tr>\n",
       "    <tr>\n",
       "      <th>Marital Status</th>\n",
       "      <th></th>\n",
       "      <th></th>\n",
       "    </tr>\n",
       "  </thead>\n",
       "  <tbody>\n",
       "    <tr>\n",
       "      <th>Divorced</th>\n",
       "      <td>7.587181</td>\n",
       "      <td>7.461859</td>\n",
       "    </tr>\n",
       "    <tr>\n",
       "      <th>Married</th>\n",
       "      <td>29.067515</td>\n",
       "      <td>29.096988</td>\n",
       "    </tr>\n",
       "    <tr>\n",
       "      <th>Single</th>\n",
       "      <td>13.562512</td>\n",
       "      <td>13.223945</td>\n",
       "    </tr>\n",
       "  </tbody>\n",
       "</table>\n",
       "</div>"
      ],
      "text/plain": [
       "Gender             Female       Male\n",
       "Marital Status                      \n",
       "Divorced         7.587181   7.461859\n",
       "Married         29.067515  29.096988\n",
       "Single          13.562512  13.223945"
      ]
     },
     "execution_count": 89,
     "metadata": {},
     "output_type": "execute_result"
    }
   ],
   "source": [
    "pd.crosstab(inner_merge['Marital Status'], inner_merge['Gender'], normalize=True) * 100 # porcentaje por estado civil y género\n"
   ]
  },
  {
   "cell_type": "code",
   "execution_count": 90,
   "id": "14a7f87e",
   "metadata": {},
   "outputs": [
    {
     "data": {
      "image/png": "[encoded data removed]",
      "text/plain": [
       "<Figure size 640x480 with 2 Axes>"
      ]
     },
     "metadata": {},
     "output_type": "display_data"
    }
   ],
   "source": [
    "sns.heatmap(pd.crosstab(inner_merge['Gender'], inner_merge['Marital Status']), annot=True, fmt=\"d\", cmap=\"YlGnBu\")\n",
    "plt.title('Heatmap: Frequency by Gender and Marital Status')\n",
    "plt.xlabel('Marital Status')\n",
    "plt.ylabel('Gender')\n",
    "plt.show()"
   ]
  },
  {
   "cell_type": "markdown",
   "id": "b5e86cfc",
   "metadata": {},
   "source": [
    "La distribución entre hombres y mujeres por estado civil es bastante similar, la mayoría de los encuestados est+an casados."
   ]
  },
  {
   "cell_type": "markdown",
   "id": "726ac0a4",
   "metadata": {},
   "source": [
    "FASE 3: ESTADÍSTICA INFERENCIAL"
   ]
  },
  {
   "cell_type": "markdown",
   "id": "74fef1e9",
   "metadata": {},
   "source": [
    "Evaluación de Diferencias en Reservas de Vuelos por Nivel Educativo\n",
    "\n",
    "Utilizando un conjunto de datos que hemos compartido, se busca evaluar si existen diferencias\n",
    "significativas en el número de vuelos reservados según el nivel educativo de los clientes. Para ello, los\n",
    "pasos que deberás seguir son:\n",
    "\n",
    ". Preparación de Datos: Filtra el conjunto de datos para incluir únicamente las columnas relevantes:\n",
    "'Flights Booked' y 'Education'.\n",
    "\n",
    ". Análisis Descriptivo: Agrupa los datos por nivel educativo y calcula estadísticas descriptivas\n",
    "básicas (como el promedio, la desviación estándar) del número de vuelos reservados para cada\n",
    "grupo.\n",
    "\n",
    ". Prueba Estadística: Realiza una prueba de hipótesis para determinar si existe una diferencia\n",
    "significativa en el número de vuelos reservados entre los diferentes niveles educativos"
   ]
  },
  {
   "cell_type": "markdown",
   "id": "ee12e1e9",
   "metadata": {},
   "source": [
    "CONTRASTE DE HIPÓTESIS"
   ]
  },
  {
   "cell_type": "markdown",
   "id": "ecbb563e",
   "metadata": {},
   "source": [
    "¿El número de vuelos reservados es el mismo entre los distintos niveles educativos de los clientes?\n",
    "\n",
    "Hipotesis nula (H0): Los grupos son iguales, no hay diferencias significativas entre grupos, el nivel educativo no influye en el número de vuelos reservados.\n",
    "\n",
    "Hipotesis alternativa (H1): Los grupos son significativamente distintos, el nivel educativo influye en el número de vuelos reservados. "
   ]
  },
  {
   "cell_type": "code",
   "execution_count": 91,
   "id": "e4633526",
   "metadata": {},
   "outputs": [
    {
     "name": "stdout",
     "output_type": "stream",
     "text": [
      "24    0\n",
      "53    0\n",
      "Name: Flights Booked, dtype: int64\n",
      "1    10\n",
      "2     6\n",
      "Name: Flights Booked, dtype: int64\n",
      "0    3\n",
      "3    0\n",
      "Name: Flights Booked, dtype: int64\n",
      "14     0\n",
      "16    11\n",
      "Name: Flights Booked, dtype: int64\n",
      "33    11\n",
      "51     0\n",
      "Name: Flights Booked, dtype: int64\n"
     ]
    }
   ],
   "source": [
    "# GRUPOS A COMPARAR\n",
    "\n",
    "High_School= inner_merge[inner_merge['Education'] == 'High School or Below']['Flights Booked']\n",
    "College = inner_merge[inner_merge['Education'] == 'College']['Flights Booked']\n",
    "Bachelor = inner_merge[inner_merge['Education'] == 'Bachelor']['Flights Booked']\n",
    "Master = inner_merge[inner_merge['Education'] == 'Master']['Flights Booked']\n",
    "Doctor = inner_merge[inner_merge['Education'] == 'Doctor']['Flights Booked']\n",
    "\n",
    "print(High_School.head(2))\n",
    "print(College.head(2))\n",
    "print(Bachelor.head(2))\n",
    "print(Master.head(2))\n",
    "print(Doctor.head(2))"
   ]
  },
  {
   "cell_type": "code",
   "execution_count": 92,
   "id": "44c411d5",
   "metadata": {},
   "outputs": [
    {
     "data": {
      "text/html": [
       "<div>\n",
       "<style scoped>\n",
       "    .dataframe tbody tr th:only-of-type {\n",
       "        vertical-align: middle;\n",
       "    }\n",
       "\n",
       "    .dataframe tbody tr th {\n",
       "        vertical-align: top;\n",
       "    }\n",
       "\n",
       "    .dataframe thead th {\n",
       "        text-align: right;\n",
       "    }\n",
       "</style>\n",
       "<table border=\"1\" class=\"dataframe\">\n",
       "  <thead>\n",
       "    <tr style=\"text-align: right;\">\n",
       "      <th>Education</th>\n",
       "      <th>Bachelor</th>\n",
       "      <th>College</th>\n",
       "      <th>Doctor</th>\n",
       "      <th>High School or Below</th>\n",
       "      <th>Master</th>\n",
       "    </tr>\n",
       "  </thead>\n",
       "  <tbody>\n",
       "    <tr>\n",
       "      <th>count</th>\n",
       "      <td>252567.000000</td>\n",
       "      <td>102260.000000</td>\n",
       "      <td>17731.000000</td>\n",
       "      <td>18915.000000</td>\n",
       "      <td>12287.000000</td>\n",
       "    </tr>\n",
       "    <tr>\n",
       "      <th>mean</th>\n",
       "      <td>4.110288</td>\n",
       "      <td>4.169744</td>\n",
       "      <td>4.175512</td>\n",
       "      <td>4.176209</td>\n",
       "      <td>4.200700</td>\n",
       "    </tr>\n",
       "    <tr>\n",
       "      <th>std</th>\n",
       "      <td>5.221671</td>\n",
       "      <td>5.246040</td>\n",
       "      <td>5.256971</td>\n",
       "      <td>5.239267</td>\n",
       "      <td>5.213956</td>\n",
       "    </tr>\n",
       "    <tr>\n",
       "      <th>min</th>\n",
       "      <td>0.000000</td>\n",
       "      <td>0.000000</td>\n",
       "      <td>0.000000</td>\n",
       "      <td>0.000000</td>\n",
       "      <td>0.000000</td>\n",
       "    </tr>\n",
       "    <tr>\n",
       "      <th>25%</th>\n",
       "      <td>0.000000</td>\n",
       "      <td>0.000000</td>\n",
       "      <td>0.000000</td>\n",
       "      <td>0.000000</td>\n",
       "      <td>0.000000</td>\n",
       "    </tr>\n",
       "    <tr>\n",
       "      <th>50%</th>\n",
       "      <td>1.000000</td>\n",
       "      <td>1.000000</td>\n",
       "      <td>1.000000</td>\n",
       "      <td>1.000000</td>\n",
       "      <td>1.000000</td>\n",
       "    </tr>\n",
       "    <tr>\n",
       "      <th>75%</th>\n",
       "      <td>8.000000</td>\n",
       "      <td>8.000000</td>\n",
       "      <td>8.000000</td>\n",
       "      <td>8.000000</td>\n",
       "      <td>8.000000</td>\n",
       "    </tr>\n",
       "    <tr>\n",
       "      <th>max</th>\n",
       "      <td>21.000000</td>\n",
       "      <td>21.000000</td>\n",
       "      <td>21.000000</td>\n",
       "      <td>21.000000</td>\n",
       "      <td>21.000000</td>\n",
       "    </tr>\n",
       "  </tbody>\n",
       "</table>\n",
       "</div>"
      ],
      "text/plain": [
       "Education       Bachelor        College        Doctor  High School or Below  \\\n",
       "count      252567.000000  102260.000000  17731.000000          18915.000000   \n",
       "mean            4.110288       4.169744      4.175512              4.176209   \n",
       "std             5.221671       5.246040      5.256971              5.239267   \n",
       "min             0.000000       0.000000      0.000000              0.000000   \n",
       "25%             0.000000       0.000000      0.000000              0.000000   \n",
       "50%             1.000000       1.000000      1.000000              1.000000   \n",
       "75%             8.000000       8.000000      8.000000              8.000000   \n",
       "max            21.000000      21.000000     21.000000             21.000000   \n",
       "\n",
       "Education        Master  \n",
       "count      12287.000000  \n",
       "mean           4.200700  \n",
       "std            5.213956  \n",
       "min            0.000000  \n",
       "25%            0.000000  \n",
       "50%            1.000000  \n",
       "75%            8.000000  \n",
       "max           21.000000  "
      ]
     },
     "execution_count": 92,
     "metadata": {},
     "output_type": "execute_result"
    }
   ],
   "source": [
    "inner_merge.groupby(\"Education\")[\"Flights Booked\"].describe().T #estadísticas descriptivas de los vuelos reservados por nivel educativo"
   ]
  },
  {
   "cell_type": "code",
   "execution_count": 93,
   "id": "76fb700b",
   "metadata": {},
   "outputs": [
    {
     "name": "stdout",
     "output_type": "stream",
     "text": [
      "18915\n",
      "102260\n",
      "252567\n",
      "12287\n",
      "17731\n"
     ]
    }
   ],
   "source": [
    "# normalidad: si > 50 elementos kolmogorov-smirnov si < 50 saphiro\n",
    "\n",
    "print(len(High_School))\n",
    "print(len(College))\n",
    "print(len(Bachelor))\n",
    "print(len(Master))\n",
    "print(len(Doctor))"
   ]
  },
  {
   "cell_type": "code",
   "execution_count": 94,
   "id": "28ceab18",
   "metadata": {},
   "outputs": [
    {
     "name": "stdout",
     "output_type": "stream",
     "text": [
      "La distribución de la cantidad de vuelos reservados para este grupo no sigue una distribución normal\n",
      "La distribución de la cantidad de vuelos reservados para este grupo no sigue una distribución normal\n",
      "La distribución de la cantidad de vuelos reservados para este grupo no sigue una distribución normal\n",
      "La distribución de la cantidad de vuelos reservados para este grupo no sigue una distribución normal\n",
      "La distribución de la cantidad de vuelos reservados para este grupo no sigue una distribución normal\n",
      "______________________________________________________________________________________________________________________________________________________\n"
     ]
    }
   ],
   "source": [
    "grupos = [High_School, College, Bachelor, Master, Doctor]\n",
    "\n",
    "# Definimos nivel significancia en 0.05\n",
    "for grupo in grupos:\n",
    "    p_value_norm = stats.kstest(grupo, 'norm').pvalue\n",
    "    \n",
    "    if p_value_norm > 0.05:\n",
    "        print(f\"La distribución de la cantidad de vuelos reservados para este grupo es normal\")\n",
    "    else:\n",
    "        print(f\"La distribución de la cantidad de vuelos reservados para este grupo no sigue una distribución normal\")\n",
    "    \n",
    "print(\"_\"*150)\n"
   ]
  },
  {
   "cell_type": "code",
   "execution_count": 95,
   "id": "2eab66d6",
   "metadata": {},
   "outputs": [
    {
     "name": "stdout",
     "output_type": "stream",
     "text": [
      "Rechazamos la hipótesis nula y aceptamos la alternativa, los grupos son distintos\n"
     ]
    }
   ],
   "source": [
    "# Como la distribucion no es normal, tenemos 4 grupos con una misma variable independiente ordinal con varios niveles,\n",
    "#  aplicamos la prueba Kruskal Wallis (comparación por medianas)\n",
    "\n",
    "p_value_kruskal = stats.kruskal(High_School, College, Bachelor, Master, Doctor).pvalue\n",
    "\n",
    "if p_value_kruskal > 0.05:\n",
    "    print(f\"No podemos rechazar la hipótesis nula, así que consideramos que no hay diferencias significativas entre grupos\")\n",
    "else:\n",
    "    print(f\"Rechazamos la hipótesis nula y aceptamos la alternativa, los grupos son distintos\")"
   ]
  },
  {
   "cell_type": "code",
   "execution_count": 96,
   "id": "12f3c387",
   "metadata": {},
   "outputs": [],
   "source": [
    "def prueba_hipotesis(alfa, *args):\n",
    "\n",
    "    # Verificar si hay al menos dos grupos\n",
    "    if len(args) < 2:\n",
    "        raise ValueError(\"Se necesitan al menos dos conjuntos de datos para realizar la prueba.\")\n",
    "    \n",
    "    # Comprobar normalidad en cada grupo\n",
    "    normalidad = []\n",
    "    for grupo in args:\n",
    "        if len(grupo) > 50:\n",
    "            p_valor_norm = stats.kstest(grupo, 'norm').pvalue  # Kolmogorov-Smirnov si n > 50\n",
    "        else:\n",
    "            p_valor_norm = stats.shapiro(grupo).pvalue  # Shapiro-Wilk si n <= 50\n",
    "        normalidad.append(p_valor_norm > 0.05)\n",
    "\n",
    "    datos_normales = all(normalidad)  # True si todos los grupos son normales\n",
    "\n",
    "    # Prueba de igualdad de varianzas\n",
    "    if datos_normales:\n",
    "        p_valor_varianza = stats.bartlett(*args).pvalue  # Test de Bartlett si los datos son normales\n",
    "    else:\n",
    "        p_valor_varianza = stats.levene(*args, center=\"median\").pvalue  # Test de Levene si no son normales\n",
    "\n",
    "    varianzas_iguales = p_valor_varianza > 0.05\n",
    "\n",
    "    # Aplicar el test adecuado\n",
    "    if datos_normales:\n",
    "        if varianzas_iguales:\n",
    "            p_valor = stats.ttest_ind(*args, equal_var=True).pvalue\n",
    "            test_usado = \"t-test de Student (varianzas iguales)\"\n",
    "        else:\n",
    "            p_valor = stats.ttest_ind(*args, equal_var=False).pvalue\n",
    "            test_usado = \"t-test de Welch (varianzas desiguales)\"\n",
    "    else:\n",
    "        try: # si tengo dos grupos\n",
    "            p_valor = stats.mannwhitneyu(*args).pvalue\n",
    "            test_usado = \"Mann-Whitney U (prueba no paramétrica)\"\n",
    "        except: # si tengo mas de dos grupos\n",
    "            p_valor = stats.kruskal(*args).pvalue\n",
    "            test_usado = \"Kruskal Wallis\"\n",
    "\n",
    "\n",
    "\n",
    "    # Nivel de significancia\n",
    "    alfa = alfa\n",
    "\n",
    "    # Resultados\n",
    "    resultado = {\n",
    "        \"Test de Normalidad\": normalidad,\n",
    "        \"Datos Normales\": datos_normales,\n",
    "        \"p-valor Varianza\": p_valor_varianza,\n",
    "        \"Varianzas Iguales\": varianzas_iguales,\n",
    "        \"Test Usado\": test_usado,\n",
    "        \"p-valor\": p_valor,\n",
    "        \"Conclusión\": \"Rechazamos H0 (Diferencias significativas)\" if p_valor < alfa else \"No se rechaza H0 (No hay diferencias significativas)\"\n",
    "    }\n",
    "\n",
    "    # Imprimir resultados de manera más clara\n",
    "    print(\"\\n📊 **Resultados de la Prueba de Hipótesis** 📊\")\n",
    "    print(f\"✅ Test de Normalidad: {'Sí' if datos_normales else 'No'}\")\n",
    "    print(f\"   - Normalidad por grupo: {normalidad}\")\n",
    "    print(f\"✅ Test de Varianza: {'Iguales' if varianzas_iguales else 'Desiguales'} (p = {p_valor_varianza:.4f})\")\n",
    "    print(f\"✅ Test aplicado: {test_usado}\")\n",
    "    print(f\" p-valor: {p_valor:.4f}\")\n",
    "    print(f\"🔍 Conclusión: {resultado['Conclusión']}\\n\")\n",
    "\n",
    "    return resultado"
   ]
  },
  {
   "cell_type": "code",
   "execution_count": 97,
   "id": "978cd153",
   "metadata": {},
   "outputs": [
    {
     "name": "stdout",
     "output_type": "stream",
     "text": [
      "\n",
      "📊 **Resultados de la Prueba de Hipótesis** 📊\n",
      "✅ Test de Normalidad: No\n",
      "   - Normalidad por grupo: [False, False, False, False, False]\n",
      "✅ Test de Varianza: Desiguales (p = 0.0150)\n",
      "✅ Test aplicado: Kruskal Wallis\n",
      " p-valor: 0.0015\n",
      "🔍 Conclusión: Rechazamos H0 (Diferencias significativas)\n",
      "\n"
     ]
    },
    {
     "data": {
      "text/plain": [
       "{'Test de Normalidad': [False, False, False, False, False],\n",
       " 'Datos Normales': False,\n",
       " 'p-valor Varianza': 0.014969793534581529,\n",
       " 'Varianzas Iguales': False,\n",
       " 'Test Usado': 'Kruskal Wallis',\n",
       " 'p-valor': 0.0015225470219889367,\n",
       " 'Conclusión': 'Rechazamos H0 (Diferencias significativas)'}"
      ]
     },
     "execution_count": 97,
     "metadata": {},
     "output_type": "execute_result"
    }
   ],
   "source": [
    "prueba_hipotesis(0.05, High_School, College, Bachelor, Master, Doctor)"
   ]
  }
 ],
 "metadata": {
  "kernelspec": {
   "display_name": "base",
   "language": "python",
   "name": "python3"
  },
  "language_info": {
   "codemirror_mode": {
    "name": "ipython",
    "version": 3
   },
   "file_extension": ".py",
   "mimetype": "text/x-python",
   "name": "python",
   "nbconvert_exporter": "python",
   "pygments_lexer": "ipython3",
   "version": "3.12.9"
  }
 },
 "nbformat": 4,
 "nbformat_minor": 5
}
