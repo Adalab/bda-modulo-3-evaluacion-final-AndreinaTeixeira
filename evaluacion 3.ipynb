{
 "cells": [
  {
   "cell_type": "markdown",
   "id": "65271080",
   "metadata": {},
   "source": [
    "FASE 1. EXPLORACIÓN"
   ]
  },
  {
   "cell_type": "markdown",
   "id": "13dc807f",
   "metadata": {},
   "source": [
    "Realiza una exploración inicial de los datos para identificar posibles problemas, como valores\n",
    "nulos, atípicos o datos faltantes en las columnas relevantes.\n",
    "Utiliza funciones de Pandas para obtener información sobre la estructura de los datos, la\n",
    "presencia de valores nulos y estadísticas básicas de las columnas involucradas.\n",
    "Une los dos conjuntos de datos de la forma más eficiente."
   ]
  },
  {
   "cell_type": "markdown",
   "id": "855395e7",
   "metadata": {},
   "source": [
    "Importar las librerías necesarias"
   ]
  },
  {
   "cell_type": "code",
   "execution_count": 519,
   "id": "3ddd8836",
   "metadata": {},
   "outputs": [],
   "source": [
    "import pandas as pd\n",
    "import numpy as np\n",
    "import matplotlib.pyplot as plt\n",
    "import seaborn as sns\n",
    "\n",
    "from sklearn.impute import SimpleImputer \n",
    "from sklearn.experimental import enable_iterative_imputer # Necesario para IterativeImputer\n",
    "from sklearn.impute import IterativeImputer \n",
    "from sklearn.impute import KNNImputer \n",
    "\n",
    "pd.set_option('display.max_columns', None)"
   ]
  },
  {
   "cell_type": "markdown",
   "id": "71afb045",
   "metadata": {},
   "source": [
    "Abrir y explorar CSV Customer Flight Activity"
   ]
  },
  {
   "cell_type": "code",
   "execution_count": 520,
   "id": "4a7066ac",
   "metadata": {},
   "outputs": [
    {
     "data": {
      "text/html": [
       "<div>\n",
       "<style scoped>\n",
       "    .dataframe tbody tr th:only-of-type {\n",
       "        vertical-align: middle;\n",
       "    }\n",
       "\n",
       "    .dataframe tbody tr th {\n",
       "        vertical-align: top;\n",
       "    }\n",
       "\n",
       "    .dataframe thead th {\n",
       "        text-align: right;\n",
       "    }\n",
       "</style>\n",
       "<table border=\"1\" class=\"dataframe\">\n",
       "  <thead>\n",
       "    <tr style=\"text-align: right;\">\n",
       "      <th></th>\n",
       "      <th>Year</th>\n",
       "      <th>Month</th>\n",
       "      <th>Flights Booked</th>\n",
       "      <th>Flights with Companions</th>\n",
       "      <th>Total Flights</th>\n",
       "      <th>Distance</th>\n",
       "      <th>Points Accumulated</th>\n",
       "      <th>Points Redeemed</th>\n",
       "      <th>Dollar Cost Points Redeemed</th>\n",
       "    </tr>\n",
       "    <tr>\n",
       "      <th>Loyalty Number</th>\n",
       "      <th></th>\n",
       "      <th></th>\n",
       "      <th></th>\n",
       "      <th></th>\n",
       "      <th></th>\n",
       "      <th></th>\n",
       "      <th></th>\n",
       "      <th></th>\n",
       "      <th></th>\n",
       "    </tr>\n",
       "  </thead>\n",
       "  <tbody>\n",
       "    <tr>\n",
       "      <th>100018</th>\n",
       "      <td>2017</td>\n",
       "      <td>1</td>\n",
       "      <td>3</td>\n",
       "      <td>0</td>\n",
       "      <td>3</td>\n",
       "      <td>1521</td>\n",
       "      <td>152.0</td>\n",
       "      <td>0</td>\n",
       "      <td>0</td>\n",
       "    </tr>\n",
       "    <tr>\n",
       "      <th>100102</th>\n",
       "      <td>2017</td>\n",
       "      <td>1</td>\n",
       "      <td>10</td>\n",
       "      <td>4</td>\n",
       "      <td>14</td>\n",
       "      <td>2030</td>\n",
       "      <td>203.0</td>\n",
       "      <td>0</td>\n",
       "      <td>0</td>\n",
       "    </tr>\n",
       "    <tr>\n",
       "      <th>100140</th>\n",
       "      <td>2017</td>\n",
       "      <td>1</td>\n",
       "      <td>6</td>\n",
       "      <td>0</td>\n",
       "      <td>6</td>\n",
       "      <td>1200</td>\n",
       "      <td>120.0</td>\n",
       "      <td>0</td>\n",
       "      <td>0</td>\n",
       "    </tr>\n",
       "    <tr>\n",
       "      <th>100214</th>\n",
       "      <td>2017</td>\n",
       "      <td>1</td>\n",
       "      <td>0</td>\n",
       "      <td>0</td>\n",
       "      <td>0</td>\n",
       "      <td>0</td>\n",
       "      <td>0.0</td>\n",
       "      <td>0</td>\n",
       "      <td>0</td>\n",
       "    </tr>\n",
       "    <tr>\n",
       "      <th>100272</th>\n",
       "      <td>2017</td>\n",
       "      <td>1</td>\n",
       "      <td>0</td>\n",
       "      <td>0</td>\n",
       "      <td>0</td>\n",
       "      <td>0</td>\n",
       "      <td>0.0</td>\n",
       "      <td>0</td>\n",
       "      <td>0</td>\n",
       "    </tr>\n",
       "  </tbody>\n",
       "</table>\n",
       "</div>"
      ],
      "text/plain": [
       "                Year  Month  Flights Booked  Flights with Companions  \\\n",
       "Loyalty Number                                                         \n",
       "100018          2017      1               3                        0   \n",
       "100102          2017      1              10                        4   \n",
       "100140          2017      1               6                        0   \n",
       "100214          2017      1               0                        0   \n",
       "100272          2017      1               0                        0   \n",
       "\n",
       "                Total Flights  Distance  Points Accumulated  Points Redeemed  \\\n",
       "Loyalty Number                                                                 \n",
       "100018                      3      1521               152.0                0   \n",
       "100102                     14      2030               203.0                0   \n",
       "100140                      6      1200               120.0                0   \n",
       "100214                      0         0                 0.0                0   \n",
       "100272                      0         0                 0.0                0   \n",
       "\n",
       "                Dollar Cost Points Redeemed  \n",
       "Loyalty Number                               \n",
       "100018                                    0  \n",
       "100102                                    0  \n",
       "100140                                    0  \n",
       "100214                                    0  \n",
       "100272                                    0  "
      ]
     },
     "execution_count": 520,
     "metadata": {},
     "output_type": "execute_result"
    }
   ],
   "source": [
    "df_flight = pd.read_csv(\"Customer Flight Activity.csv\", index_col=0)\n",
    "df_flight.head()"
   ]
  },
  {
   "cell_type": "code",
   "execution_count": 521,
   "id": "2aba28bd",
   "metadata": {},
   "outputs": [
    {
     "name": "stdout",
     "output_type": "stream",
     "text": [
      "<class 'pandas.core.frame.DataFrame'>\n",
      "Index: 405624 entries, 100018 to 999986\n",
      "Data columns (total 9 columns):\n",
      " #   Column                       Non-Null Count   Dtype  \n",
      "---  ------                       --------------   -----  \n",
      " 0   Year                         405624 non-null  int64  \n",
      " 1   Month                        405624 non-null  int64  \n",
      " 2   Flights Booked               405624 non-null  int64  \n",
      " 3   Flights with Companions      405624 non-null  int64  \n",
      " 4   Total Flights                405624 non-null  int64  \n",
      " 5   Distance                     405624 non-null  int64  \n",
      " 6   Points Accumulated           405624 non-null  float64\n",
      " 7   Points Redeemed              405624 non-null  int64  \n",
      " 8   Dollar Cost Points Redeemed  405624 non-null  int64  \n",
      "dtypes: float64(1), int64(8)\n",
      "memory usage: 30.9 MB\n"
     ]
    }
   ],
   "source": [
    "df_flight.info() # No hay valores nulos. Todas son variables numéricas, excepto las fechas (Year, Month).\n",
    "#Números enteros, excepto por Points accumulated, que incluye decimales."
   ]
  },
  {
   "cell_type": "markdown",
   "id": "97c5329a",
   "metadata": {},
   "source": [
    "Explorar cada variable"
   ]
  },
  {
   "cell_type": "code",
   "execution_count": 522,
   "id": "31e0e104",
   "metadata": {},
   "outputs": [
    {
     "data": {
      "text/plain": [
       "Flights Booked\n",
       "0     197992\n",
       "1      12667\n",
       "2      13641\n",
       "3      18228\n",
       "4      12821\n",
       "5      15084\n",
       "6      13847\n",
       "7      14561\n",
       "8      14357\n",
       "9      14164\n",
       "10     13363\n",
       "11     15705\n",
       "12     10382\n",
       "13     10782\n",
       "14      7057\n",
       "15      6582\n",
       "16      4354\n",
       "17      3899\n",
       "18      2958\n",
       "19      1496\n",
       "20      1156\n",
       "21       528\n",
       "Name: count, dtype: int64"
      ]
     },
     "execution_count": 522,
     "metadata": {},
     "output_type": "execute_result"
    }
   ],
   "source": [
    "df_flight[\"Flights Booked\"].value_counts().sort_index()"
   ]
  },
  {
   "cell_type": "code",
   "execution_count": 523,
   "id": "53ef418d",
   "metadata": {},
   "outputs": [
    {
     "data": {
      "text/plain": [
       "Flights with Companions\n",
       "0     296887\n",
       "1      17905\n",
       "2      19272\n",
       "3      19015\n",
       "4      13665\n",
       "5      13424\n",
       "6       9911\n",
       "7       7089\n",
       "8       3965\n",
       "9       2944\n",
       "10      1071\n",
       "11       476\n",
       "Name: count, dtype: int64"
      ]
     },
     "execution_count": 523,
     "metadata": {},
     "output_type": "execute_result"
    }
   ],
   "source": [
    "df_flight[\"Flights with Companions\"].value_counts().sort_index()"
   ]
  },
  {
   "cell_type": "code",
   "execution_count": 524,
   "id": "843f3012",
   "metadata": {},
   "outputs": [
    {
     "data": {
      "text/plain": [
       "Total Flights\n",
       "0     197992\n",
       "1       6106\n",
       "2      13032\n",
       "3       9783\n",
       "4      13656\n",
       "5       9309\n",
       "6      15273\n",
       "7       9873\n",
       "8      14056\n",
       "9      10688\n",
       "10     14393\n",
       "11     12300\n",
       "12     12409\n",
       "13     10499\n",
       "14     10310\n",
       "15      8544\n",
       "16      7727\n",
       "17      6198\n",
       "18      5757\n",
       "19      4002\n",
       "20      3417\n",
       "21      2610\n",
       "22      1981\n",
       "23      1616\n",
       "24      1209\n",
       "25       900\n",
       "26       722\n",
       "27       504\n",
       "28       306\n",
       "29       214\n",
       "30       150\n",
       "31        61\n",
       "32        27\n",
       "Name: count, dtype: int64"
      ]
     },
     "execution_count": 524,
     "metadata": {},
     "output_type": "execute_result"
    }
   ],
   "source": [
    "df_flight[\"Total Flights\"].value_counts().sort_index()"
   ]
  },
  {
   "cell_type": "code",
   "execution_count": 525,
   "id": "2530cea8",
   "metadata": {},
   "outputs": [
    {
     "data": {
      "text/plain": [
       "(0.0, 6000.0)"
      ]
     },
     "execution_count": 525,
     "metadata": {},
     "output_type": "execute_result"
    },
    {
     "data": {
      "image/png": "[encoded data removed]",
      "text/plain": [
       "<Figure size 640x480 with 1 Axes>"
      ]
     },
     "metadata": {},
     "output_type": "display_data"
    }
   ],
   "source": [
    "sns.histplot(data=df_flight, x = 'Distance', bins = 25, kde=True, color='red', stat='count', alpha = 0.3) #distribución no es normal, sesgo a la derecha\n",
    "plt.xlim(0,6000) #hacer coincidir los ejes"
   ]
  },
  {
   "cell_type": "code",
   "execution_count": 526,
   "id": "e236ea70",
   "metadata": {},
   "outputs": [
    {
     "data": {
      "text/plain": [
       "(0.0, 700.0)"
      ]
     },
     "execution_count": 526,
     "metadata": {},
     "output_type": "execute_result"
    },
    {
     "data": {
      "image/png": "[encoded data removed]",
      "text/plain": [
       "<Figure size 640x480 with 1 Axes>"
      ]
     },
     "metadata": {},
     "output_type": "display_data"
    }
   ],
   "source": [
    "sns.histplot(data=df_flight, x = 'Points Accumulated', bins = 25, kde=True, color='red', stat='count', alpha = 0.3) #distribución no es normal, sesgo a la derecha\n",
    "plt.xlim(0,700)"
   ]
  },
  {
   "cell_type": "code",
   "execution_count": 527,
   "id": "bc573949",
   "metadata": {},
   "outputs": [
    {
     "data": {
      "text/plain": [
       "(0.0, 800.0)"
      ]
     },
     "execution_count": 527,
     "metadata": {},
     "output_type": "execute_result"
    },
    {
     "data": {
      "image/png": "[encoded data removed]",
      "text/plain": [
       "<Figure size 640x480 with 1 Axes>"
      ]
     },
     "metadata": {},
     "output_type": "display_data"
    }
   ],
   "source": [
    "sns.histplot(data=df_flight, x = 'Points Redeemed', bins = 25, kde=True, color='red', stat='count', alpha = 0.3) #distribución no es normal, sesgo a la derecha\n",
    "plt.xlim(0,800)"
   ]
  },
  {
   "cell_type": "code",
   "execution_count": 528,
   "id": "78263980",
   "metadata": {},
   "outputs": [
    {
     "data": {
      "text/plain": [
       "(0.0, 80.0)"
      ]
     },
     "execution_count": 528,
     "metadata": {},
     "output_type": "execute_result"
    },
    {
     "data": {
      "image/png": "[encoded data removed]",
      "text/plain": [
       "<Figure size 640x480 with 1 Axes>"
      ]
     },
     "metadata": {},
     "output_type": "display_data"
    }
   ],
   "source": [
    "sns.histplot(data=df_flight, x = 'Dollar Cost Points Redeemed', bins = 25, kde=True, color='red', stat='count', alpha = 0.3) #distribución no es normal, sesgo a la derecha\n",
    "plt.xlim(0,80)"
   ]
  },
  {
   "cell_type": "code",
   "execution_count": 529,
   "id": "c69690a6",
   "metadata": {},
   "outputs": [
    {
     "data": {
      "text/plain": [
       "Month\n",
       "1     33802\n",
       "10    33802\n",
       "11    33802\n",
       "12    33802\n",
       "2     33802\n",
       "3     33802\n",
       "4     33802\n",
       "5     33802\n",
       "6     33802\n",
       "7     33802\n",
       "8     33802\n",
       "9     33802\n",
       "Name: count, dtype: int64"
      ]
     },
     "execution_count": 529,
     "metadata": {},
     "output_type": "execute_result"
    }
   ],
   "source": [
    "df_flight[\"Month\"] = df_flight[\"Month\"].astype(str) #Cambiar a string porque es categórica\n",
    "df_flight[\"Month\"].value_counts().sort_index()"
   ]
  },
  {
   "cell_type": "code",
   "execution_count": 530,
   "id": "b83ca58b",
   "metadata": {},
   "outputs": [
    {
     "data": {
      "text/plain": [
       "Year\n",
       "2017    202812\n",
       "2018    202812\n",
       "Name: count, dtype: int64"
      ]
     },
     "execution_count": 530,
     "metadata": {},
     "output_type": "execute_result"
    }
   ],
   "source": [
    "df_flight[\"Year\"] = df_flight[\"Year\"].astype(str) #Cambiar a string porque es categórica\n",
    "df_flight[\"Year\"].value_counts().sort_index()"
   ]
  },
  {
   "cell_type": "code",
   "execution_count": 531,
   "id": "9b02ffec",
   "metadata": {},
   "outputs": [
    {
     "data": {
      "text/plain": [
       "(405624, 9)"
      ]
     },
     "execution_count": 531,
     "metadata": {},
     "output_type": "execute_result"
    }
   ],
   "source": [
    "df_flight.shape # 405624 filas, 9 columnas"
   ]
  },
  {
   "cell_type": "code",
   "execution_count": 532,
   "id": "ca2d037e",
   "metadata": {},
   "outputs": [
    {
     "data": {
      "text/plain": [
       "Year                           0\n",
       "Month                          0\n",
       "Flights Booked                 0\n",
       "Flights with Companions        0\n",
       "Total Flights                  0\n",
       "Distance                       0\n",
       "Points Accumulated             0\n",
       "Points Redeemed                0\n",
       "Dollar Cost Points Redeemed    0\n",
       "dtype: int64"
      ]
     },
     "execution_count": 532,
     "metadata": {},
     "output_type": "execute_result"
    }
   ],
   "source": [
    "df_flight.isnull().sum() #comprobar que no hay valores nulos"
   ]
  },
  {
   "cell_type": "code",
   "execution_count": 533,
   "id": "f48c4d86",
   "metadata": {},
   "outputs": [
    {
     "data": {
      "text/html": [
       "<div>\n",
       "<style scoped>\n",
       "    .dataframe tbody tr th:only-of-type {\n",
       "        vertical-align: middle;\n",
       "    }\n",
       "\n",
       "    .dataframe tbody tr th {\n",
       "        vertical-align: top;\n",
       "    }\n",
       "\n",
       "    .dataframe thead th {\n",
       "        text-align: right;\n",
       "    }\n",
       "</style>\n",
       "<table border=\"1\" class=\"dataframe\">\n",
       "  <thead>\n",
       "    <tr style=\"text-align: right;\">\n",
       "      <th></th>\n",
       "      <th>count</th>\n",
       "      <th>mean</th>\n",
       "      <th>std</th>\n",
       "      <th>min</th>\n",
       "      <th>25%</th>\n",
       "      <th>50%</th>\n",
       "      <th>75%</th>\n",
       "      <th>max</th>\n",
       "    </tr>\n",
       "  </thead>\n",
       "  <tbody>\n",
       "    <tr>\n",
       "      <th>Flights Booked</th>\n",
       "      <td>405624.0</td>\n",
       "      <td>4.115052</td>\n",
       "      <td>5.225518</td>\n",
       "      <td>0.0</td>\n",
       "      <td>0.0</td>\n",
       "      <td>1.0</td>\n",
       "      <td>8.0</td>\n",
       "      <td>21.0</td>\n",
       "    </tr>\n",
       "    <tr>\n",
       "      <th>Flights with Companions</th>\n",
       "      <td>405624.0</td>\n",
       "      <td>1.031805</td>\n",
       "      <td>2.076869</td>\n",
       "      <td>0.0</td>\n",
       "      <td>0.0</td>\n",
       "      <td>0.0</td>\n",
       "      <td>1.0</td>\n",
       "      <td>11.0</td>\n",
       "    </tr>\n",
       "    <tr>\n",
       "      <th>Total Flights</th>\n",
       "      <td>405624.0</td>\n",
       "      <td>5.146858</td>\n",
       "      <td>6.521227</td>\n",
       "      <td>0.0</td>\n",
       "      <td>0.0</td>\n",
       "      <td>1.0</td>\n",
       "      <td>10.0</td>\n",
       "      <td>32.0</td>\n",
       "    </tr>\n",
       "    <tr>\n",
       "      <th>Distance</th>\n",
       "      <td>405624.0</td>\n",
       "      <td>1208.880059</td>\n",
       "      <td>1433.155320</td>\n",
       "      <td>0.0</td>\n",
       "      <td>0.0</td>\n",
       "      <td>488.0</td>\n",
       "      <td>2336.0</td>\n",
       "      <td>6293.0</td>\n",
       "    </tr>\n",
       "    <tr>\n",
       "      <th>Points Accumulated</th>\n",
       "      <td>405624.0</td>\n",
       "      <td>123.692721</td>\n",
       "      <td>146.599831</td>\n",
       "      <td>0.0</td>\n",
       "      <td>0.0</td>\n",
       "      <td>50.0</td>\n",
       "      <td>239.0</td>\n",
       "      <td>676.5</td>\n",
       "    </tr>\n",
       "    <tr>\n",
       "      <th>Points Redeemed</th>\n",
       "      <td>405624.0</td>\n",
       "      <td>30.696872</td>\n",
       "      <td>125.486049</td>\n",
       "      <td>0.0</td>\n",
       "      <td>0.0</td>\n",
       "      <td>0.0</td>\n",
       "      <td>0.0</td>\n",
       "      <td>876.0</td>\n",
       "    </tr>\n",
       "    <tr>\n",
       "      <th>Dollar Cost Points Redeemed</th>\n",
       "      <td>405624.0</td>\n",
       "      <td>2.484503</td>\n",
       "      <td>10.150038</td>\n",
       "      <td>0.0</td>\n",
       "      <td>0.0</td>\n",
       "      <td>0.0</td>\n",
       "      <td>0.0</td>\n",
       "      <td>71.0</td>\n",
       "    </tr>\n",
       "  </tbody>\n",
       "</table>\n",
       "</div>"
      ],
      "text/plain": [
       "                                count         mean          std  min  25%  \\\n",
       "Flights Booked               405624.0     4.115052     5.225518  0.0  0.0   \n",
       "Flights with Companions      405624.0     1.031805     2.076869  0.0  0.0   \n",
       "Total Flights                405624.0     5.146858     6.521227  0.0  0.0   \n",
       "Distance                     405624.0  1208.880059  1433.155320  0.0  0.0   \n",
       "Points Accumulated           405624.0   123.692721   146.599831  0.0  0.0   \n",
       "Points Redeemed              405624.0    30.696872   125.486049  0.0  0.0   \n",
       "Dollar Cost Points Redeemed  405624.0     2.484503    10.150038  0.0  0.0   \n",
       "\n",
       "                               50%     75%     max  \n",
       "Flights Booked                 1.0     8.0    21.0  \n",
       "Flights with Companions        0.0     1.0    11.0  \n",
       "Total Flights                  1.0    10.0    32.0  \n",
       "Distance                     488.0  2336.0  6293.0  \n",
       "Points Accumulated            50.0   239.0   676.5  \n",
       "Points Redeemed                0.0     0.0   876.0  \n",
       "Dollar Cost Points Redeemed    0.0     0.0    71.0  "
      ]
     },
     "execution_count": 533,
     "metadata": {},
     "output_type": "execute_result"
    }
   ],
   "source": [
    "df_flight.describe(include='number').T #estadísticas descriptivas de las variables numéricas"
   ]
  },
  {
   "cell_type": "code",
   "execution_count": 534,
   "id": "7d4f7232",
   "metadata": {},
   "outputs": [
    {
     "data": {
      "text/html": [
       "<div>\n",
       "<style scoped>\n",
       "    .dataframe tbody tr th:only-of-type {\n",
       "        vertical-align: middle;\n",
       "    }\n",
       "\n",
       "    .dataframe tbody tr th {\n",
       "        vertical-align: top;\n",
       "    }\n",
       "\n",
       "    .dataframe thead th {\n",
       "        text-align: right;\n",
       "    }\n",
       "</style>\n",
       "<table border=\"1\" class=\"dataframe\">\n",
       "  <thead>\n",
       "    <tr style=\"text-align: right;\">\n",
       "      <th></th>\n",
       "      <th>count</th>\n",
       "      <th>unique</th>\n",
       "      <th>top</th>\n",
       "      <th>freq</th>\n",
       "    </tr>\n",
       "  </thead>\n",
       "  <tbody>\n",
       "    <tr>\n",
       "      <th>Year</th>\n",
       "      <td>405624</td>\n",
       "      <td>2</td>\n",
       "      <td>2017</td>\n",
       "      <td>202812</td>\n",
       "    </tr>\n",
       "    <tr>\n",
       "      <th>Month</th>\n",
       "      <td>405624</td>\n",
       "      <td>12</td>\n",
       "      <td>1</td>\n",
       "      <td>33802</td>\n",
       "    </tr>\n",
       "  </tbody>\n",
       "</table>\n",
       "</div>"
      ],
      "text/plain": [
       "        count unique   top    freq\n",
       "Year   405624      2  2017  202812\n",
       "Month  405624     12     1   33802"
      ]
     },
     "execution_count": 534,
     "metadata": {},
     "output_type": "execute_result"
    }
   ],
   "source": [
    "df_flight.describe(include='O').T #estadísticas descriptivas de las variables categóricas"
   ]
  },
  {
   "cell_type": "code",
   "execution_count": 535,
   "id": "bbd9c8b3",
   "metadata": {},
   "outputs": [
    {
     "data": {
      "text/plain": [
       "228705"
      ]
     },
     "execution_count": 535,
     "metadata": {},
     "output_type": "execute_result"
    }
   ],
   "source": [
    "df_flight.duplicated().sum() #explorar los duplicados"
   ]
  },
  {
   "cell_type": "code",
   "execution_count": 536,
   "id": "71895596",
   "metadata": {},
   "outputs": [
    {
     "data": {
      "text/html": [
       "<div>\n",
       "<style scoped>\n",
       "    .dataframe tbody tr th:only-of-type {\n",
       "        vertical-align: middle;\n",
       "    }\n",
       "\n",
       "    .dataframe tbody tr th {\n",
       "        vertical-align: top;\n",
       "    }\n",
       "\n",
       "    .dataframe thead th {\n",
       "        text-align: right;\n",
       "    }\n",
       "</style>\n",
       "<table border=\"1\" class=\"dataframe\">\n",
       "  <thead>\n",
       "    <tr style=\"text-align: right;\">\n",
       "      <th></th>\n",
       "      <th>Year</th>\n",
       "      <th>Month</th>\n",
       "      <th>Flights Booked</th>\n",
       "      <th>Flights with Companions</th>\n",
       "      <th>Total Flights</th>\n",
       "      <th>Distance</th>\n",
       "      <th>Points Accumulated</th>\n",
       "      <th>Points Redeemed</th>\n",
       "      <th>Dollar Cost Points Redeemed</th>\n",
       "    </tr>\n",
       "    <tr>\n",
       "      <th>Loyalty Number</th>\n",
       "      <th></th>\n",
       "      <th></th>\n",
       "      <th></th>\n",
       "      <th></th>\n",
       "      <th></th>\n",
       "      <th></th>\n",
       "      <th></th>\n",
       "      <th></th>\n",
       "      <th></th>\n",
       "    </tr>\n",
       "  </thead>\n",
       "  <tbody>\n",
       "    <tr>\n",
       "      <th>100018</th>\n",
       "      <td>2017</td>\n",
       "      <td>1</td>\n",
       "      <td>3</td>\n",
       "      <td>0</td>\n",
       "      <td>3</td>\n",
       "      <td>1521</td>\n",
       "      <td>152.0</td>\n",
       "      <td>0</td>\n",
       "      <td>0</td>\n",
       "    </tr>\n",
       "    <tr>\n",
       "      <th>100018</th>\n",
       "      <td>2018</td>\n",
       "      <td>8</td>\n",
       "      <td>0</td>\n",
       "      <td>0</td>\n",
       "      <td>0</td>\n",
       "      <td>0</td>\n",
       "      <td>0.0</td>\n",
       "      <td>0</td>\n",
       "      <td>0</td>\n",
       "    </tr>\n",
       "    <tr>\n",
       "      <th>100018</th>\n",
       "      <td>2017</td>\n",
       "      <td>2</td>\n",
       "      <td>2</td>\n",
       "      <td>2</td>\n",
       "      <td>4</td>\n",
       "      <td>1320</td>\n",
       "      <td>132.0</td>\n",
       "      <td>0</td>\n",
       "      <td>0</td>\n",
       "    </tr>\n",
       "    <tr>\n",
       "      <th>100018</th>\n",
       "      <td>2018</td>\n",
       "      <td>1</td>\n",
       "      <td>1</td>\n",
       "      <td>0</td>\n",
       "      <td>1</td>\n",
       "      <td>312</td>\n",
       "      <td>31.0</td>\n",
       "      <td>0</td>\n",
       "      <td>0</td>\n",
       "    </tr>\n",
       "    <tr>\n",
       "      <th>100018</th>\n",
       "      <td>2018</td>\n",
       "      <td>2</td>\n",
       "      <td>6</td>\n",
       "      <td>0</td>\n",
       "      <td>6</td>\n",
       "      <td>1824</td>\n",
       "      <td>273.0</td>\n",
       "      <td>0</td>\n",
       "      <td>0</td>\n",
       "    </tr>\n",
       "    <tr>\n",
       "      <th>...</th>\n",
       "      <td>...</td>\n",
       "      <td>...</td>\n",
       "      <td>...</td>\n",
       "      <td>...</td>\n",
       "      <td>...</td>\n",
       "      <td>...</td>\n",
       "      <td>...</td>\n",
       "      <td>...</td>\n",
       "      <td>...</td>\n",
       "    </tr>\n",
       "    <tr>\n",
       "      <th>999986</th>\n",
       "      <td>2017</td>\n",
       "      <td>9</td>\n",
       "      <td>9</td>\n",
       "      <td>0</td>\n",
       "      <td>9</td>\n",
       "      <td>2781</td>\n",
       "      <td>278.0</td>\n",
       "      <td>0</td>\n",
       "      <td>0</td>\n",
       "    </tr>\n",
       "    <tr>\n",
       "      <th>999986</th>\n",
       "      <td>2017</td>\n",
       "      <td>10</td>\n",
       "      <td>12</td>\n",
       "      <td>0</td>\n",
       "      <td>12</td>\n",
       "      <td>2856</td>\n",
       "      <td>285.0</td>\n",
       "      <td>0</td>\n",
       "      <td>0</td>\n",
       "    </tr>\n",
       "    <tr>\n",
       "      <th>999986</th>\n",
       "      <td>2018</td>\n",
       "      <td>4</td>\n",
       "      <td>0</td>\n",
       "      <td>0</td>\n",
       "      <td>0</td>\n",
       "      <td>0</td>\n",
       "      <td>0.0</td>\n",
       "      <td>0</td>\n",
       "      <td>0</td>\n",
       "    </tr>\n",
       "    <tr>\n",
       "      <th>999986</th>\n",
       "      <td>2018</td>\n",
       "      <td>5</td>\n",
       "      <td>0</td>\n",
       "      <td>0</td>\n",
       "      <td>0</td>\n",
       "      <td>0</td>\n",
       "      <td>0.0</td>\n",
       "      <td>0</td>\n",
       "      <td>0</td>\n",
       "    </tr>\n",
       "    <tr>\n",
       "      <th>999986</th>\n",
       "      <td>2018</td>\n",
       "      <td>12</td>\n",
       "      <td>0</td>\n",
       "      <td>0</td>\n",
       "      <td>0</td>\n",
       "      <td>0</td>\n",
       "      <td>0.0</td>\n",
       "      <td>0</td>\n",
       "      <td>0</td>\n",
       "    </tr>\n",
       "  </tbody>\n",
       "</table>\n",
       "<p>253332 rows × 9 columns</p>\n",
       "</div>"
      ],
      "text/plain": [
       "                Year Month  Flights Booked  Flights with Companions  \\\n",
       "Loyalty Number                                                        \n",
       "100018          2017     1               3                        0   \n",
       "100018          2018     8               0                        0   \n",
       "100018          2017     2               2                        2   \n",
       "100018          2018     1               1                        0   \n",
       "100018          2018     2               6                        0   \n",
       "...              ...   ...             ...                      ...   \n",
       "999986          2017     9               9                        0   \n",
       "999986          2017    10              12                        0   \n",
       "999986          2018     4               0                        0   \n",
       "999986          2018     5               0                        0   \n",
       "999986          2018    12               0                        0   \n",
       "\n",
       "                Total Flights  Distance  Points Accumulated  Points Redeemed  \\\n",
       "Loyalty Number                                                                 \n",
       "100018                      3      1521               152.0                0   \n",
       "100018                      0         0                 0.0                0   \n",
       "100018                      4      1320               132.0                0   \n",
       "100018                      1       312                31.0                0   \n",
       "100018                      6      1824               273.0                0   \n",
       "...                       ...       ...                 ...              ...   \n",
       "999986                      9      2781               278.0                0   \n",
       "999986                     12      2856               285.0                0   \n",
       "999986                      0         0                 0.0                0   \n",
       "999986                      0         0                 0.0                0   \n",
       "999986                      0         0                 0.0                0   \n",
       "\n",
       "                Dollar Cost Points Redeemed  \n",
       "Loyalty Number                               \n",
       "100018                                    0  \n",
       "100018                                    0  \n",
       "100018                                    0  \n",
       "100018                                    0  \n",
       "100018                                    0  \n",
       "...                                     ...  \n",
       "999986                                    0  \n",
       "999986                                    0  \n",
       "999986                                    0  \n",
       "999986                                    0  \n",
       "999986                                    0  \n",
       "\n",
       "[253332 rows x 9 columns]"
      ]
     },
     "execution_count": 536,
     "metadata": {},
     "output_type": "execute_result"
    }
   ],
   "source": [
    "mascara = df_flight.duplicated(keep=False)\n",
    "df_flight[mascara].sort_values(\"Loyalty Number\")"
   ]
  },
  {
   "cell_type": "code",
   "execution_count": 537,
   "id": "e198e417",
   "metadata": {},
   "outputs": [],
   "source": [
    "df_flight_copia = df_flight.copy()\n",
    "df_flight_copia.drop_duplicates(inplace=True) #eliminar duplicados"
   ]
  },
  {
   "cell_type": "code",
   "execution_count": 538,
   "id": "726e6c34",
   "metadata": {},
   "outputs": [
    {
     "data": {
      "text/plain": [
       "0"
      ]
     },
     "execution_count": 538,
     "metadata": {},
     "output_type": "execute_result"
    }
   ],
   "source": [
    "df_flight_copia.duplicated().sum()"
   ]
  },
  {
   "cell_type": "code",
   "execution_count": 581,
   "id": "cebed06e",
   "metadata": {},
   "outputs": [
    {
     "data": {
      "text/plain": [
       "(176919, 9)"
      ]
     },
     "execution_count": 581,
     "metadata": {},
     "output_type": "execute_result"
    }
   ],
   "source": [
    "df_flight_copia.shape"
   ]
  },
  {
   "cell_type": "code",
   "execution_count": 582,
   "id": "c401038d",
   "metadata": {},
   "outputs": [],
   "source": [
    "df_flight_copia.to_csv(\"Customer Flight Activity non duplicates.csv\", index=False) \n"
   ]
  },
  {
   "cell_type": "markdown",
   "id": "69b9f884",
   "metadata": {},
   "source": [
    "Abrir y explorar CSV Customer Loyalty History"
   ]
  },
  {
   "cell_type": "code",
   "execution_count": 540,
   "id": "0c2c9b6a",
   "metadata": {},
   "outputs": [
    {
     "data": {
      "text/html": [
       "<div>\n",
       "<style scoped>\n",
       "    .dataframe tbody tr th:only-of-type {\n",
       "        vertical-align: middle;\n",
       "    }\n",
       "\n",
       "    .dataframe tbody tr th {\n",
       "        vertical-align: top;\n",
       "    }\n",
       "\n",
       "    .dataframe thead th {\n",
       "        text-align: right;\n",
       "    }\n",
       "</style>\n",
       "<table border=\"1\" class=\"dataframe\">\n",
       "  <thead>\n",
       "    <tr style=\"text-align: right;\">\n",
       "      <th></th>\n",
       "      <th>Country</th>\n",
       "      <th>Province</th>\n",
       "      <th>City</th>\n",
       "      <th>Postal Code</th>\n",
       "      <th>Gender</th>\n",
       "      <th>Education</th>\n",
       "      <th>Salary</th>\n",
       "      <th>Marital Status</th>\n",
       "      <th>Loyalty Card</th>\n",
       "      <th>CLV</th>\n",
       "      <th>Enrollment Type</th>\n",
       "      <th>Enrollment Year</th>\n",
       "      <th>Enrollment Month</th>\n",
       "      <th>Cancellation Year</th>\n",
       "      <th>Cancellation Month</th>\n",
       "    </tr>\n",
       "    <tr>\n",
       "      <th>Loyalty Number</th>\n",
       "      <th></th>\n",
       "      <th></th>\n",
       "      <th></th>\n",
       "      <th></th>\n",
       "      <th></th>\n",
       "      <th></th>\n",
       "      <th></th>\n",
       "      <th></th>\n",
       "      <th></th>\n",
       "      <th></th>\n",
       "      <th></th>\n",
       "      <th></th>\n",
       "      <th></th>\n",
       "      <th></th>\n",
       "      <th></th>\n",
       "    </tr>\n",
       "  </thead>\n",
       "  <tbody>\n",
       "    <tr>\n",
       "      <th>480934</th>\n",
       "      <td>Canada</td>\n",
       "      <td>Ontario</td>\n",
       "      <td>Toronto</td>\n",
       "      <td>M2Z 4K1</td>\n",
       "      <td>Female</td>\n",
       "      <td>Bachelor</td>\n",
       "      <td>83236.0</td>\n",
       "      <td>Married</td>\n",
       "      <td>Star</td>\n",
       "      <td>3839.14</td>\n",
       "      <td>Standard</td>\n",
       "      <td>2016</td>\n",
       "      <td>2</td>\n",
       "      <td>NaN</td>\n",
       "      <td>NaN</td>\n",
       "    </tr>\n",
       "    <tr>\n",
       "      <th>549612</th>\n",
       "      <td>Canada</td>\n",
       "      <td>Alberta</td>\n",
       "      <td>Edmonton</td>\n",
       "      <td>T3G 6Y6</td>\n",
       "      <td>Male</td>\n",
       "      <td>College</td>\n",
       "      <td>NaN</td>\n",
       "      <td>Divorced</td>\n",
       "      <td>Star</td>\n",
       "      <td>3839.61</td>\n",
       "      <td>Standard</td>\n",
       "      <td>2016</td>\n",
       "      <td>3</td>\n",
       "      <td>NaN</td>\n",
       "      <td>NaN</td>\n",
       "    </tr>\n",
       "    <tr>\n",
       "      <th>429460</th>\n",
       "      <td>Canada</td>\n",
       "      <td>British Columbia</td>\n",
       "      <td>Vancouver</td>\n",
       "      <td>V6E 3D9</td>\n",
       "      <td>Male</td>\n",
       "      <td>College</td>\n",
       "      <td>NaN</td>\n",
       "      <td>Single</td>\n",
       "      <td>Star</td>\n",
       "      <td>3839.75</td>\n",
       "      <td>Standard</td>\n",
       "      <td>2014</td>\n",
       "      <td>7</td>\n",
       "      <td>2018.0</td>\n",
       "      <td>1.0</td>\n",
       "    </tr>\n",
       "    <tr>\n",
       "      <th>608370</th>\n",
       "      <td>Canada</td>\n",
       "      <td>Ontario</td>\n",
       "      <td>Toronto</td>\n",
       "      <td>P1W 1K4</td>\n",
       "      <td>Male</td>\n",
       "      <td>College</td>\n",
       "      <td>NaN</td>\n",
       "      <td>Single</td>\n",
       "      <td>Star</td>\n",
       "      <td>3839.75</td>\n",
       "      <td>Standard</td>\n",
       "      <td>2013</td>\n",
       "      <td>2</td>\n",
       "      <td>NaN</td>\n",
       "      <td>NaN</td>\n",
       "    </tr>\n",
       "    <tr>\n",
       "      <th>530508</th>\n",
       "      <td>Canada</td>\n",
       "      <td>Quebec</td>\n",
       "      <td>Hull</td>\n",
       "      <td>J8Y 3Z5</td>\n",
       "      <td>Male</td>\n",
       "      <td>Bachelor</td>\n",
       "      <td>103495.0</td>\n",
       "      <td>Married</td>\n",
       "      <td>Star</td>\n",
       "      <td>3842.79</td>\n",
       "      <td>Standard</td>\n",
       "      <td>2014</td>\n",
       "      <td>10</td>\n",
       "      <td>NaN</td>\n",
       "      <td>NaN</td>\n",
       "    </tr>\n",
       "  </tbody>\n",
       "</table>\n",
       "</div>"
      ],
      "text/plain": [
       "               Country          Province       City Postal Code  Gender  \\\n",
       "Loyalty Number                                                            \n",
       "480934          Canada           Ontario    Toronto     M2Z 4K1  Female   \n",
       "549612          Canada           Alberta   Edmonton     T3G 6Y6    Male   \n",
       "429460          Canada  British Columbia  Vancouver     V6E 3D9    Male   \n",
       "608370          Canada           Ontario    Toronto     P1W 1K4    Male   \n",
       "530508          Canada            Quebec       Hull     J8Y 3Z5    Male   \n",
       "\n",
       "               Education    Salary Marital Status Loyalty Card      CLV  \\\n",
       "Loyalty Number                                                            \n",
       "480934          Bachelor   83236.0        Married         Star  3839.14   \n",
       "549612           College       NaN       Divorced         Star  3839.61   \n",
       "429460           College       NaN         Single         Star  3839.75   \n",
       "608370           College       NaN         Single         Star  3839.75   \n",
       "530508          Bachelor  103495.0        Married         Star  3842.79   \n",
       "\n",
       "               Enrollment Type  Enrollment Year  Enrollment Month  \\\n",
       "Loyalty Number                                                      \n",
       "480934                Standard             2016                 2   \n",
       "549612                Standard             2016                 3   \n",
       "429460                Standard             2014                 7   \n",
       "608370                Standard             2013                 2   \n",
       "530508                Standard             2014                10   \n",
       "\n",
       "                Cancellation Year  Cancellation Month  \n",
       "Loyalty Number                                         \n",
       "480934                        NaN                 NaN  \n",
       "549612                        NaN                 NaN  \n",
       "429460                     2018.0                 1.0  \n",
       "608370                        NaN                 NaN  \n",
       "530508                        NaN                 NaN  "
      ]
     },
     "metadata": {},
     "output_type": "display_data"
    }
   ],
   "source": [
    "df_loyalty = pd.read_csv(\"Customer Loyalty History.csv\", index_col=0)\n",
    "display(df_loyalty.head())"
   ]
  },
  {
   "cell_type": "code",
   "execution_count": 541,
   "id": "8b199930",
   "metadata": {},
   "outputs": [
    {
     "name": "stdout",
     "output_type": "stream",
     "text": [
      "<class 'pandas.core.frame.DataFrame'>\n",
      "Index: 16737 entries, 480934 to 652627\n",
      "Data columns (total 15 columns):\n",
      " #   Column              Non-Null Count  Dtype  \n",
      "---  ------              --------------  -----  \n",
      " 0   Country             16737 non-null  object \n",
      " 1   Province            16737 non-null  object \n",
      " 2   City                16737 non-null  object \n",
      " 3   Postal Code         16737 non-null  object \n",
      " 4   Gender              16737 non-null  object \n",
      " 5   Education           16737 non-null  object \n",
      " 6   Salary              12499 non-null  float64\n",
      " 7   Marital Status      16737 non-null  object \n",
      " 8   Loyalty Card        16737 non-null  object \n",
      " 9   CLV                 16737 non-null  float64\n",
      " 10  Enrollment Type     16737 non-null  object \n",
      " 11  Enrollment Year     16737 non-null  int64  \n",
      " 12  Enrollment Month    16737 non-null  int64  \n",
      " 13  Cancellation Year   2067 non-null   float64\n",
      " 14  Cancellation Month  2067 non-null   float64\n",
      "dtypes: float64(4), int64(2), object(9)\n",
      "memory usage: 2.0+ MB\n"
     ]
    }
   ],
   "source": [
    "df_loyalty.info() # valores nulos en las columnas cancellation year y cancellation month\n",
    "# La mayoría de las columnas son categóricas, excepto por salary y CLV (Customer Lifetime Value), \n",
    "# enrollment year, enrollment month, cancellation year y cancellation month."
   ]
  },
  {
   "cell_type": "code",
   "execution_count": 542,
   "id": "70338e1a",
   "metadata": {},
   "outputs": [
    {
     "data": {
      "text/plain": [
       "Enrollment Year\n",
       "2012    1686\n",
       "2013    2397\n",
       "2014    2370\n",
       "2015    2331\n",
       "2016    2456\n",
       "2017    2487\n",
       "2018    3010\n",
       "Name: count, dtype: int64"
      ]
     },
     "execution_count": 542,
     "metadata": {},
     "output_type": "execute_result"
    }
   ],
   "source": [
    "df_loyalty[\"Enrollment Year\"] = df_loyalty[\"Enrollment Year\"].astype(str) #Cambiar a string porque es categórica\n",
    "df_loyalty[\"Enrollment Year\"].value_counts().sort_index()\n"
   ]
  },
  {
   "cell_type": "code",
   "execution_count": 543,
   "id": "a85f71a6",
   "metadata": {},
   "outputs": [
    {
     "data": {
      "text/plain": [
       "Enrollment Month\n",
       "1     1192\n",
       "10    1444\n",
       "11    1446\n",
       "12    1480\n",
       "2     1220\n",
       "3     1358\n",
       "4     1388\n",
       "5     1503\n",
       "6     1412\n",
       "7     1473\n",
       "8     1430\n",
       "9     1391\n",
       "Name: count, dtype: int64"
      ]
     },
     "execution_count": 543,
     "metadata": {},
     "output_type": "execute_result"
    }
   ],
   "source": [
    "df_loyalty[\"Enrollment Month\"] = df_loyalty[\"Enrollment Month\"].astype(str) #Cambiar a string porque es categórica\n",
    "df_loyalty[\"Enrollment Month\"].value_counts().sort_index()"
   ]
  },
  {
   "cell_type": "code",
   "execution_count": 544,
   "id": "28b1105c",
   "metadata": {},
   "outputs": [
    {
     "data": {
      "text/plain": [
       "<bound method Series.sort_index of Cancellation Year\n",
       "2018.0    645\n",
       "2017.0    506\n",
       "2016.0    427\n",
       "2015.0    265\n",
       "2014.0    181\n",
       "2013.0     43\n",
       "Name: count, dtype: int64>"
      ]
     },
     "execution_count": 544,
     "metadata": {},
     "output_type": "execute_result"
    }
   ],
   "source": [
    "df_loyalty[\"Cancellation Year\"].value_counts().sort_index #incluye decimales"
   ]
  },
  {
   "cell_type": "code",
   "execution_count": 545,
   "id": "0c97ee04",
   "metadata": {},
   "outputs": [],
   "source": [
    "#quitar decimales\n",
    "df_loyalty['Cancellation Year'] = (\n",
    "    pd.to_numeric(df_loyalty['Cancellation Year'], errors='coerce')\n",
    "      .round(0)\n",
    "      .astype('Int64') \n",
    ")"
   ]
  },
  {
   "cell_type": "code",
   "execution_count": 546,
   "id": "f81cf871",
   "metadata": {},
   "outputs": [
    {
     "data": {
      "text/plain": [
       "Cancellation Year\n",
       "2013       43\n",
       "2014      181\n",
       "2015      265\n",
       "2016      427\n",
       "2017      506\n",
       "2018      645\n",
       "<NA>    14670\n",
       "Name: count, dtype: int64"
      ]
     },
     "execution_count": 546,
     "metadata": {},
     "output_type": "execute_result"
    }
   ],
   "source": [
    "df_loyalty[\"Cancellation Year\"] = df_loyalty[\"Cancellation Year\"].astype(str) #Cambiar a string porque es categórica\n",
    "df_loyalty[\"Cancellation Year\"].value_counts().sort_index()"
   ]
  },
  {
   "cell_type": "code",
   "execution_count": 547,
   "id": "96d0dae1",
   "metadata": {},
   "outputs": [],
   "source": [
    "percentages_CY = df_loyalty[\"Cancellation Year\"].value_counts(normalize=True).sort_index() * 100"
   ]
  },
  {
   "cell_type": "code",
   "execution_count": 548,
   "id": "01ba3e7f",
   "metadata": {},
   "outputs": [
    {
     "data": {
      "text/plain": [
       "Cancellation Year\n",
       "2013     0.256916\n",
       "2014     1.081436\n",
       "2015     1.583318\n",
       "2016     2.551234\n",
       "2017     3.023242\n",
       "2018     3.853737\n",
       "<NA>    87.650117\n",
       "Name: proportion, dtype: float64"
      ]
     },
     "execution_count": 548,
     "metadata": {},
     "output_type": "execute_result"
    }
   ],
   "source": [
    "percentages_CY"
   ]
  },
  {
   "cell_type": "code",
   "execution_count": 549,
   "id": "ee0348e7",
   "metadata": {},
   "outputs": [
    {
     "data": {
      "text/plain": [
       "<bound method Series.sort_index of Cancellation Month\n",
       "12.0    213\n",
       "11.0    212\n",
       "8.0     208\n",
       "7.0     186\n",
       "10.0    180\n",
       "9.0     176\n",
       "6.0     165\n",
       "1.0     155\n",
       "3.0     149\n",
       "5.0     148\n",
       "2.0     139\n",
       "4.0     136\n",
       "Name: count, dtype: int64>"
      ]
     },
     "execution_count": 549,
     "metadata": {},
     "output_type": "execute_result"
    }
   ],
   "source": [
    "df_loyalty[\"Cancellation Month\"].value_counts().sort_index #inlcuye decimales"
   ]
  },
  {
   "cell_type": "code",
   "execution_count": 550,
   "id": "fc6f2add",
   "metadata": {},
   "outputs": [],
   "source": [
    "#quitar decimales\n",
    "df_loyalty['Cancellation Month'] = (\n",
    "    pd.to_numeric(df_loyalty['Cancellation Month'], errors='coerce')\n",
    "      .round(0)\n",
    "      .astype('Int64') \n",
    ")"
   ]
  },
  {
   "cell_type": "code",
   "execution_count": 551,
   "id": "1c512f89",
   "metadata": {},
   "outputs": [
    {
     "data": {
      "text/plain": [
       "Cancellation Month\n",
       "1         155\n",
       "10        180\n",
       "11        212\n",
       "12        213\n",
       "2         139\n",
       "3         149\n",
       "4         136\n",
       "5         148\n",
       "6         165\n",
       "7         186\n",
       "8         208\n",
       "9         176\n",
       "<NA>    14670\n",
       "Name: count, dtype: int64"
      ]
     },
     "execution_count": 551,
     "metadata": {},
     "output_type": "execute_result"
    }
   ],
   "source": [
    "df_loyalty[\"Cancellation Month\"] = df_loyalty[\"Cancellation Month\"].astype(str) #Cambiar a string porque es categórica\n",
    "df_loyalty[\"Cancellation Month\"].value_counts().sort_index()"
   ]
  },
  {
   "cell_type": "code",
   "execution_count": 552,
   "id": "09c6b3e7",
   "metadata": {},
   "outputs": [],
   "source": [
    "percentages_CM = df_loyalty[\"Cancellation Month\"].value_counts(normalize=True).sort_index() * 100"
   ]
  },
  {
   "cell_type": "code",
   "execution_count": 553,
   "id": "5a1af15c",
   "metadata": {},
   "outputs": [
    {
     "data": {
      "text/plain": [
       "Cancellation Month\n",
       "1        0.926092\n",
       "10       1.075462\n",
       "11       1.266655\n",
       "12       1.272630\n",
       "2        0.830495\n",
       "3        0.890243\n",
       "4        0.812571\n",
       "5        0.884268\n",
       "6        0.985840\n",
       "7        1.111310\n",
       "8        1.242756\n",
       "9        1.051562\n",
       "<NA>    87.650117\n",
       "Name: proportion, dtype: float64"
      ]
     },
     "execution_count": 553,
     "metadata": {},
     "output_type": "execute_result"
    }
   ],
   "source": [
    "percentages_CM"
   ]
  },
  {
   "cell_type": "markdown",
   "id": "8eea535d",
   "metadata": {},
   "source": [
    "Ambas columnas de Cancellation Month y Year son prácticamente nulas por lo que se van a eliminar."
   ]
  },
  {
   "cell_type": "code",
   "execution_count": 554,
   "id": "231bfbb8",
   "metadata": {},
   "outputs": [],
   "source": [
    "df_loyalty = df_loyalty.drop([\"Cancellation Year\", \"Cancellation Month\"], axis=1)"
   ]
  },
  {
   "cell_type": "code",
   "execution_count": 555,
   "id": "af603da0",
   "metadata": {},
   "outputs": [
    {
     "data": {
      "text/html": [
       "<div>\n",
       "<style scoped>\n",
       "    .dataframe tbody tr th:only-of-type {\n",
       "        vertical-align: middle;\n",
       "    }\n",
       "\n",
       "    .dataframe tbody tr th {\n",
       "        vertical-align: top;\n",
       "    }\n",
       "\n",
       "    .dataframe thead th {\n",
       "        text-align: right;\n",
       "    }\n",
       "</style>\n",
       "<table border=\"1\" class=\"dataframe\">\n",
       "  <thead>\n",
       "    <tr style=\"text-align: right;\">\n",
       "      <th></th>\n",
       "      <th>Country</th>\n",
       "      <th>Province</th>\n",
       "      <th>City</th>\n",
       "      <th>Postal Code</th>\n",
       "      <th>Gender</th>\n",
       "      <th>Education</th>\n",
       "      <th>Salary</th>\n",
       "      <th>Marital Status</th>\n",
       "      <th>Loyalty Card</th>\n",
       "      <th>CLV</th>\n",
       "      <th>Enrollment Type</th>\n",
       "      <th>Enrollment Year</th>\n",
       "      <th>Enrollment Month</th>\n",
       "    </tr>\n",
       "    <tr>\n",
       "      <th>Loyalty Number</th>\n",
       "      <th></th>\n",
       "      <th></th>\n",
       "      <th></th>\n",
       "      <th></th>\n",
       "      <th></th>\n",
       "      <th></th>\n",
       "      <th></th>\n",
       "      <th></th>\n",
       "      <th></th>\n",
       "      <th></th>\n",
       "      <th></th>\n",
       "      <th></th>\n",
       "      <th></th>\n",
       "    </tr>\n",
       "  </thead>\n",
       "  <tbody>\n",
       "    <tr>\n",
       "      <th>480934</th>\n",
       "      <td>Canada</td>\n",
       "      <td>Ontario</td>\n",
       "      <td>Toronto</td>\n",
       "      <td>M2Z 4K1</td>\n",
       "      <td>Female</td>\n",
       "      <td>Bachelor</td>\n",
       "      <td>83236.0</td>\n",
       "      <td>Married</td>\n",
       "      <td>Star</td>\n",
       "      <td>3839.14</td>\n",
       "      <td>Standard</td>\n",
       "      <td>2016</td>\n",
       "      <td>2</td>\n",
       "    </tr>\n",
       "    <tr>\n",
       "      <th>549612</th>\n",
       "      <td>Canada</td>\n",
       "      <td>Alberta</td>\n",
       "      <td>Edmonton</td>\n",
       "      <td>T3G 6Y6</td>\n",
       "      <td>Male</td>\n",
       "      <td>College</td>\n",
       "      <td>NaN</td>\n",
       "      <td>Divorced</td>\n",
       "      <td>Star</td>\n",
       "      <td>3839.61</td>\n",
       "      <td>Standard</td>\n",
       "      <td>2016</td>\n",
       "      <td>3</td>\n",
       "    </tr>\n",
       "    <tr>\n",
       "      <th>429460</th>\n",
       "      <td>Canada</td>\n",
       "      <td>British Columbia</td>\n",
       "      <td>Vancouver</td>\n",
       "      <td>V6E 3D9</td>\n",
       "      <td>Male</td>\n",
       "      <td>College</td>\n",
       "      <td>NaN</td>\n",
       "      <td>Single</td>\n",
       "      <td>Star</td>\n",
       "      <td>3839.75</td>\n",
       "      <td>Standard</td>\n",
       "      <td>2014</td>\n",
       "      <td>7</td>\n",
       "    </tr>\n",
       "    <tr>\n",
       "      <th>608370</th>\n",
       "      <td>Canada</td>\n",
       "      <td>Ontario</td>\n",
       "      <td>Toronto</td>\n",
       "      <td>P1W 1K4</td>\n",
       "      <td>Male</td>\n",
       "      <td>College</td>\n",
       "      <td>NaN</td>\n",
       "      <td>Single</td>\n",
       "      <td>Star</td>\n",
       "      <td>3839.75</td>\n",
       "      <td>Standard</td>\n",
       "      <td>2013</td>\n",
       "      <td>2</td>\n",
       "    </tr>\n",
       "    <tr>\n",
       "      <th>530508</th>\n",
       "      <td>Canada</td>\n",
       "      <td>Quebec</td>\n",
       "      <td>Hull</td>\n",
       "      <td>J8Y 3Z5</td>\n",
       "      <td>Male</td>\n",
       "      <td>Bachelor</td>\n",
       "      <td>103495.0</td>\n",
       "      <td>Married</td>\n",
       "      <td>Star</td>\n",
       "      <td>3842.79</td>\n",
       "      <td>Standard</td>\n",
       "      <td>2014</td>\n",
       "      <td>10</td>\n",
       "    </tr>\n",
       "  </tbody>\n",
       "</table>\n",
       "</div>"
      ],
      "text/plain": [
       "               Country          Province       City Postal Code  Gender  \\\n",
       "Loyalty Number                                                            \n",
       "480934          Canada           Ontario    Toronto     M2Z 4K1  Female   \n",
       "549612          Canada           Alberta   Edmonton     T3G 6Y6    Male   \n",
       "429460          Canada  British Columbia  Vancouver     V6E 3D9    Male   \n",
       "608370          Canada           Ontario    Toronto     P1W 1K4    Male   \n",
       "530508          Canada            Quebec       Hull     J8Y 3Z5    Male   \n",
       "\n",
       "               Education    Salary Marital Status Loyalty Card      CLV  \\\n",
       "Loyalty Number                                                            \n",
       "480934          Bachelor   83236.0        Married         Star  3839.14   \n",
       "549612           College       NaN       Divorced         Star  3839.61   \n",
       "429460           College       NaN         Single         Star  3839.75   \n",
       "608370           College       NaN         Single         Star  3839.75   \n",
       "530508          Bachelor  103495.0        Married         Star  3842.79   \n",
       "\n",
       "               Enrollment Type Enrollment Year Enrollment Month  \n",
       "Loyalty Number                                                   \n",
       "480934                Standard            2016                2  \n",
       "549612                Standard            2016                3  \n",
       "429460                Standard            2014                7  \n",
       "608370                Standard            2013                2  \n",
       "530508                Standard            2014               10  "
      ]
     },
     "execution_count": 555,
     "metadata": {},
     "output_type": "execute_result"
    }
   ],
   "source": [
    "df_loyalty.head()"
   ]
  },
  {
   "cell_type": "code",
   "execution_count": 556,
   "id": "303c2589",
   "metadata": {},
   "outputs": [
    {
     "data": {
      "text/plain": [
       "(16737, 13)"
      ]
     },
     "execution_count": 556,
     "metadata": {},
     "output_type": "execute_result"
    }
   ],
   "source": [
    "df_loyalty.shape # 16737 filas, 13 columnas"
   ]
  },
  {
   "cell_type": "code",
   "execution_count": 557,
   "id": "185cd398",
   "metadata": {},
   "outputs": [
    {
     "data": {
      "text/plain": [
       "Country              0.000000\n",
       "Province             0.000000\n",
       "City                 0.000000\n",
       "Postal Code          0.000000\n",
       "Gender               0.000000\n",
       "Education            0.000000\n",
       "Salary              25.321145\n",
       "Marital Status       0.000000\n",
       "Loyalty Card         0.000000\n",
       "CLV                  0.000000\n",
       "Enrollment Type      0.000000\n",
       "Enrollment Year      0.000000\n",
       "Enrollment Month     0.000000\n",
       "dtype: float64"
      ]
     },
     "execution_count": 557,
     "metadata": {},
     "output_type": "execute_result"
    }
   ],
   "source": [
    "df_loyalty.isnull().sum() / len(df_loyalty) * 100 #25 % de valores nulos en la variable salario"
   ]
  },
  {
   "cell_type": "code",
   "execution_count": 558,
   "id": "65147b7a",
   "metadata": {},
   "outputs": [
    {
     "data": {
      "text/html": [
       "<div>\n",
       "<style scoped>\n",
       "    .dataframe tbody tr th:only-of-type {\n",
       "        vertical-align: middle;\n",
       "    }\n",
       "\n",
       "    .dataframe tbody tr th {\n",
       "        vertical-align: top;\n",
       "    }\n",
       "\n",
       "    .dataframe thead th {\n",
       "        text-align: right;\n",
       "    }\n",
       "</style>\n",
       "<table border=\"1\" class=\"dataframe\">\n",
       "  <thead>\n",
       "    <tr style=\"text-align: right;\">\n",
       "      <th></th>\n",
       "      <th>count</th>\n",
       "      <th>mean</th>\n",
       "      <th>std</th>\n",
       "      <th>min</th>\n",
       "      <th>25%</th>\n",
       "      <th>50%</th>\n",
       "      <th>75%</th>\n",
       "      <th>max</th>\n",
       "    </tr>\n",
       "  </thead>\n",
       "  <tbody>\n",
       "    <tr>\n",
       "      <th>Salary</th>\n",
       "      <td>12499.0</td>\n",
       "      <td>79245.609409</td>\n",
       "      <td>35008.297285</td>\n",
       "      <td>-58486.00</td>\n",
       "      <td>59246.50</td>\n",
       "      <td>73455.00</td>\n",
       "      <td>88517.50</td>\n",
       "      <td>407228.00</td>\n",
       "    </tr>\n",
       "    <tr>\n",
       "      <th>CLV</th>\n",
       "      <td>16737.0</td>\n",
       "      <td>7988.896536</td>\n",
       "      <td>6860.982280</td>\n",
       "      <td>1898.01</td>\n",
       "      <td>3980.84</td>\n",
       "      <td>5780.18</td>\n",
       "      <td>8940.58</td>\n",
       "      <td>83325.38</td>\n",
       "    </tr>\n",
       "  </tbody>\n",
       "</table>\n",
       "</div>"
      ],
      "text/plain": [
       "          count          mean           std       min       25%       50%  \\\n",
       "Salary  12499.0  79245.609409  35008.297285 -58486.00  59246.50  73455.00   \n",
       "CLV     16737.0   7988.896536   6860.982280   1898.01   3980.84   5780.18   \n",
       "\n",
       "             75%        max  \n",
       "Salary  88517.50  407228.00  \n",
       "CLV      8940.58   83325.38  "
      ]
     },
     "execution_count": 558,
     "metadata": {},
     "output_type": "execute_result"
    }
   ],
   "source": [
    "df_loyalty.describe(include=\"number\").T #estadísticas descriptivas de las variables numéricas"
   ]
  },
  {
   "cell_type": "code",
   "execution_count": 559,
   "id": "2836f2dc",
   "metadata": {},
   "outputs": [
    {
     "data": {
      "text/html": [
       "<div>\n",
       "<style scoped>\n",
       "    .dataframe tbody tr th:only-of-type {\n",
       "        vertical-align: middle;\n",
       "    }\n",
       "\n",
       "    .dataframe tbody tr th {\n",
       "        vertical-align: top;\n",
       "    }\n",
       "\n",
       "    .dataframe thead th {\n",
       "        text-align: right;\n",
       "    }\n",
       "</style>\n",
       "<table border=\"1\" class=\"dataframe\">\n",
       "  <thead>\n",
       "    <tr style=\"text-align: right;\">\n",
       "      <th></th>\n",
       "      <th>count</th>\n",
       "      <th>unique</th>\n",
       "      <th>top</th>\n",
       "      <th>freq</th>\n",
       "    </tr>\n",
       "  </thead>\n",
       "  <tbody>\n",
       "    <tr>\n",
       "      <th>Country</th>\n",
       "      <td>16737</td>\n",
       "      <td>1</td>\n",
       "      <td>Canada</td>\n",
       "      <td>16737</td>\n",
       "    </tr>\n",
       "    <tr>\n",
       "      <th>Province</th>\n",
       "      <td>16737</td>\n",
       "      <td>11</td>\n",
       "      <td>Ontario</td>\n",
       "      <td>5404</td>\n",
       "    </tr>\n",
       "    <tr>\n",
       "      <th>City</th>\n",
       "      <td>16737</td>\n",
       "      <td>29</td>\n",
       "      <td>Toronto</td>\n",
       "      <td>3351</td>\n",
       "    </tr>\n",
       "    <tr>\n",
       "      <th>Postal Code</th>\n",
       "      <td>16737</td>\n",
       "      <td>55</td>\n",
       "      <td>V6E 3D9</td>\n",
       "      <td>911</td>\n",
       "    </tr>\n",
       "    <tr>\n",
       "      <th>Gender</th>\n",
       "      <td>16737</td>\n",
       "      <td>2</td>\n",
       "      <td>Female</td>\n",
       "      <td>8410</td>\n",
       "    </tr>\n",
       "    <tr>\n",
       "      <th>Education</th>\n",
       "      <td>16737</td>\n",
       "      <td>5</td>\n",
       "      <td>Bachelor</td>\n",
       "      <td>10475</td>\n",
       "    </tr>\n",
       "    <tr>\n",
       "      <th>Marital Status</th>\n",
       "      <td>16737</td>\n",
       "      <td>3</td>\n",
       "      <td>Married</td>\n",
       "      <td>9735</td>\n",
       "    </tr>\n",
       "    <tr>\n",
       "      <th>Loyalty Card</th>\n",
       "      <td>16737</td>\n",
       "      <td>3</td>\n",
       "      <td>Star</td>\n",
       "      <td>7637</td>\n",
       "    </tr>\n",
       "    <tr>\n",
       "      <th>Enrollment Type</th>\n",
       "      <td>16737</td>\n",
       "      <td>2</td>\n",
       "      <td>Standard</td>\n",
       "      <td>15766</td>\n",
       "    </tr>\n",
       "    <tr>\n",
       "      <th>Enrollment Year</th>\n",
       "      <td>16737</td>\n",
       "      <td>7</td>\n",
       "      <td>2018</td>\n",
       "      <td>3010</td>\n",
       "    </tr>\n",
       "    <tr>\n",
       "      <th>Enrollment Month</th>\n",
       "      <td>16737</td>\n",
       "      <td>12</td>\n",
       "      <td>5</td>\n",
       "      <td>1503</td>\n",
       "    </tr>\n",
       "  </tbody>\n",
       "</table>\n",
       "</div>"
      ],
      "text/plain": [
       "                  count unique       top   freq\n",
       "Country           16737      1    Canada  16737\n",
       "Province          16737     11   Ontario   5404\n",
       "City              16737     29   Toronto   3351\n",
       "Postal Code       16737     55   V6E 3D9    911\n",
       "Gender            16737      2    Female   8410\n",
       "Education         16737      5  Bachelor  10475\n",
       "Marital Status    16737      3   Married   9735\n",
       "Loyalty Card      16737      3      Star   7637\n",
       "Enrollment Type   16737      2  Standard  15766\n",
       "Enrollment Year   16737      7      2018   3010\n",
       "Enrollment Month  16737     12         5   1503"
      ]
     },
     "execution_count": 559,
     "metadata": {},
     "output_type": "execute_result"
    }
   ],
   "source": [
    "df_loyalty.describe(include=\"O\").T #estadísticas descriptivas de las variables categóricas"
   ]
  },
  {
   "cell_type": "markdown",
   "id": "43440e71",
   "metadata": {},
   "source": [
    "Explorar las categorías por columna"
   ]
  },
  {
   "cell_type": "code",
   "execution_count": 560,
   "id": "6031630b",
   "metadata": {},
   "outputs": [
    {
     "data": {
      "text/plain": [
       "Country\n",
       "Canada    16737\n",
       "Name: count, dtype: int64"
      ]
     },
     "execution_count": 560,
     "metadata": {},
     "output_type": "execute_result"
    }
   ],
   "source": [
    "df_loyalty[\"Country\"].value_counts()"
   ]
  },
  {
   "cell_type": "code",
   "execution_count": 561,
   "id": "546f77ce",
   "metadata": {},
   "outputs": [
    {
     "data": {
      "text/plain": [
       "Province\n",
       "Ontario                 5404\n",
       "British Columbia        4409\n",
       "Quebec                  3300\n",
       "Alberta                  969\n",
       "Manitoba                 658\n",
       "New Brunswick            636\n",
       "Nova Scotia              518\n",
       "Saskatchewan             409\n",
       "Newfoundland             258\n",
       "Yukon                    110\n",
       "Prince Edward Island      66\n",
       "Name: count, dtype: int64"
      ]
     },
     "execution_count": 561,
     "metadata": {},
     "output_type": "execute_result"
    }
   ],
   "source": [
    "df_loyalty[\"Province\"].value_counts()"
   ]
  },
  {
   "cell_type": "code",
   "execution_count": 562,
   "id": "8b0f20df",
   "metadata": {},
   "outputs": [
    {
     "data": {
      "text/plain": [
       "City\n",
       "Toronto           3351\n",
       "Vancouver         2582\n",
       "Montreal          2059\n",
       "Winnipeg           658\n",
       "Whistler           582\n",
       "Halifax            518\n",
       "Ottawa             509\n",
       "Trenton            486\n",
       "Edmonton           486\n",
       "Quebec City        485\n",
       "Dawson Creek       444\n",
       "Fredericton        425\n",
       "Regina             409\n",
       "Kingston           401\n",
       "Tremblant          398\n",
       "Victoria           389\n",
       "Hull               358\n",
       "West Vancouver     324\n",
       "St. John's         258\n",
       "Thunder Bay        256\n",
       "Sudbury            227\n",
       "Moncton            211\n",
       "Calgary            191\n",
       "Banff              179\n",
       "London             174\n",
       "Peace River        113\n",
       "Whitehorse         110\n",
       "Kelowna             88\n",
       "Charlottetown       66\n",
       "Name: count, dtype: int64"
      ]
     },
     "execution_count": 562,
     "metadata": {},
     "output_type": "execute_result"
    }
   ],
   "source": [
    "df_loyalty[\"City\"].value_counts()"
   ]
  },
  {
   "cell_type": "code",
   "execution_count": 563,
   "id": "2e64301c",
   "metadata": {},
   "outputs": [
    {
     "data": {
      "text/plain": [
       "Postal Code\n",
       "V6E 3D9    911\n",
       "V5R 1W3    684\n",
       "V6T 1Y8    582\n",
       "V6E 3Z3    544\n",
       "M2M 7K8    534\n",
       "P1J 8T7    500\n",
       "H2T 9K8    499\n",
       "K8V 4B2    486\n",
       "G1B 3L5    485\n",
       "H2T 2J6    446\n",
       "U5I 4F1    444\n",
       "V1E 4R6    443\n",
       "E3B 2H2    425\n",
       "R2C 0M5    415\n",
       "M9K 2P4    401\n",
       "H5Y 2S9    398\n",
       "V10 6T5    389\n",
       "K1F 2R2    389\n",
       "H2Y 2W2    365\n",
       "J8Y 3Z5    358\n",
       "M8Y 4K8    340\n",
       "H4G 3T4    338\n",
       "B3J 9S2    329\n",
       "V6V 8Z3    324\n",
       "P2T 6G3    322\n",
       "H2Y 4R4    315\n",
       "M1R 4K3    313\n",
       "P1L 8X8    282\n",
       "P1W 1K4    275\n",
       "T9G 1W3    266\n",
       "A1C 6H9    258\n",
       "M2Z 4K1    257\n",
       "K8T 5M5    256\n",
       "P5S 6R4    246\n",
       "M5V 1G5    227\n",
       "S6J 3G0    226\n",
       "T3G 6Y6    220\n",
       "E1A 2A7    211\n",
       "T3E 2V9    191\n",
       "B3C 2M8    189\n",
       "S1J 3C5    183\n",
       "T4V 1D4    179\n",
       "M5B 3E4    174\n",
       "M2M 6J7    153\n",
       "R6Y 4T5    143\n",
       "M2P 4F6    126\n",
       "K1G 4Z0    120\n",
       "T9O 2W2    113\n",
       "Y2K 6R0    110\n",
       "R3R 3T4    100\n",
       "H3T 8L4     89\n",
       "V09 2E9     88\n",
       "C1A 6E8     66\n",
       "H3J 5I6      7\n",
       "M3R 4K8      3\n",
       "Name: count, dtype: int64"
      ]
     },
     "execution_count": 563,
     "metadata": {},
     "output_type": "execute_result"
    }
   ],
   "source": [
    "df_loyalty[\"Postal Code\"].value_counts()"
   ]
  },
  {
   "cell_type": "code",
   "execution_count": 564,
   "id": "5d87054f",
   "metadata": {},
   "outputs": [
    {
     "data": {
      "text/plain": [
       "Gender\n",
       "Female    8410\n",
       "Male      8327\n",
       "Name: count, dtype: int64"
      ]
     },
     "execution_count": 564,
     "metadata": {},
     "output_type": "execute_result"
    }
   ],
   "source": [
    "df_loyalty[\"Gender\"].value_counts()"
   ]
  },
  {
   "cell_type": "code",
   "execution_count": 565,
   "id": "42649f1a",
   "metadata": {},
   "outputs": [
    {
     "data": {
      "text/plain": [
       "Education\n",
       "Bachelor                10475\n",
       "College                  4238\n",
       "High School or Below      782\n",
       "Doctor                    734\n",
       "Master                    508\n",
       "Name: count, dtype: int64"
      ]
     },
     "execution_count": 565,
     "metadata": {},
     "output_type": "execute_result"
    }
   ],
   "source": [
    "df_loyalty[\"Education\"].value_counts()"
   ]
  },
  {
   "cell_type": "code",
   "execution_count": 566,
   "id": "d04ac42e",
   "metadata": {},
   "outputs": [
    {
     "data": {
      "text/plain": [
       "Marital Status\n",
       "Married     9735\n",
       "Single      4484\n",
       "Divorced    2518\n",
       "Name: count, dtype: int64"
      ]
     },
     "execution_count": 566,
     "metadata": {},
     "output_type": "execute_result"
    }
   ],
   "source": [
    "df_loyalty[\"Marital Status\"].value_counts()"
   ]
  },
  {
   "cell_type": "code",
   "execution_count": 567,
   "id": "0e3b7d8e",
   "metadata": {},
   "outputs": [
    {
     "data": {
      "text/plain": [
       "Loyalty Card\n",
       "Star      7637\n",
       "Nova      5671\n",
       "Aurora    3429\n",
       "Name: count, dtype: int64"
      ]
     },
     "execution_count": 567,
     "metadata": {},
     "output_type": "execute_result"
    }
   ],
   "source": [
    "df_loyalty[\"Loyalty Card\"].value_counts()"
   ]
  },
  {
   "cell_type": "code",
   "execution_count": 568,
   "id": "30078e94",
   "metadata": {},
   "outputs": [
    {
     "data": {
      "text/plain": [
       "Enrollment Type\n",
       "Standard          15766\n",
       "2018 Promotion      971\n",
       "Name: count, dtype: int64"
      ]
     },
     "execution_count": 568,
     "metadata": {},
     "output_type": "execute_result"
    }
   ],
   "source": [
    "df_loyalty[\"Enrollment Type\"].value_counts()"
   ]
  },
  {
   "cell_type": "code",
   "execution_count": 569,
   "id": "f479da15",
   "metadata": {},
   "outputs": [
    {
     "data": {
      "text/plain": [
       "0"
      ]
     },
     "execution_count": 569,
     "metadata": {},
     "output_type": "execute_result"
    }
   ],
   "source": [
    "df_loyalty.duplicated().sum() #No hay duplicados"
   ]
  },
  {
   "cell_type": "code",
   "execution_count": 570,
   "id": "9d47888c",
   "metadata": {},
   "outputs": [
    {
     "data": {
      "text/plain": [
       "<Axes: xlabel='Salary', ylabel='Count'>"
      ]
     },
     "execution_count": 570,
     "metadata": {},
     "output_type": "execute_result"
    },
    {
     "data": {
      "image/png": "[encoded data removed]",
      "text/plain": [
       "<Figure size 640x480 with 1 Axes>"
      ]
     },
     "metadata": {},
     "output_type": "display_data"
    }
   ],
   "source": [
    "sns.histplot(data=df_loyalty, x = 'Salary', bins = 25, kde=True, color='red', stat='count', alpha = 0.3) #distribución no es normal, sesgo a la derecha"
   ]
  },
  {
   "cell_type": "markdown",
   "id": "4a194fff",
   "metadata": {},
   "source": [
    "Colocar los valores negativos de la variable Salary como nulos"
   ]
  },
  {
   "cell_type": "code",
   "execution_count": 571,
   "id": "ea37f4b8",
   "metadata": {},
   "outputs": [],
   "source": [
    "df_loyalty[\"Salary\"] = df_loyalty[\"Salary\"].mask(df_loyalty[\"Salary\"] < 0)"
   ]
  },
  {
   "cell_type": "code",
   "execution_count": 572,
   "id": "1aba8ba7",
   "metadata": {},
   "outputs": [
    {
     "data": {
      "text/plain": [
       "(0.0, 420000.0)"
      ]
     },
     "execution_count": 572,
     "metadata": {},
     "output_type": "execute_result"
    },
    {
     "data": {
      "image/png": "[encoded data removed]",
      "text/plain": [
       "<Figure size 640x480 with 1 Axes>"
      ]
     },
     "metadata": {},
     "output_type": "display_data"
    }
   ],
   "source": [
    "sns.histplot(data=df_loyalty, x = 'Salary', bins = 25, kde=True, color='red', stat='count', alpha = 0.3) #distribución no es normal, sesgo a la derecha\n",
    "plt.xlim(0,420000)"
   ]
  },
  {
   "cell_type": "code",
   "execution_count": 573,
   "id": "a2f1cb41",
   "metadata": {},
   "outputs": [
    {
     "data": {
      "text/plain": [
       "Country              0.00000\n",
       "Province             0.00000\n",
       "City                 0.00000\n",
       "Postal Code          0.00000\n",
       "Gender               0.00000\n",
       "Education            0.00000\n",
       "Salary              25.44064\n",
       "Marital Status       0.00000\n",
       "Loyalty Card         0.00000\n",
       "CLV                  0.00000\n",
       "Enrollment Type      0.00000\n",
       "Enrollment Year      0.00000\n",
       "Enrollment Month     0.00000\n",
       "dtype: float64"
      ]
     },
     "execution_count": 573,
     "metadata": {},
     "output_type": "execute_result"
    }
   ],
   "source": [
    "df_loyalty.isnull().sum() / len(df_loyalty) * 100 #comprobar que aumentó el porcentaje de valores nulos de la variable Salary"
   ]
  },
  {
   "cell_type": "markdown",
   "id": "a2493ef7",
   "metadata": {},
   "source": [
    "Inputar los valores nulos"
   ]
  },
  {
   "cell_type": "code",
   "execution_count": 574,
   "id": "3dd2c4c1",
   "metadata": {},
   "outputs": [
    {
     "data": {
      "image/png": "[encoded data removed]",
      "text/plain": [
       "<Figure size 640x480 with 1 Axes>"
      ]
     },
     "metadata": {},
     "output_type": "display_data"
    }
   ],
   "source": [
    "sns.boxplot(data=df_loyalty, x = 'Salary')\n",
    "mean_salary = round(df_loyalty['Salary'].mean(),2)\n",
    "plt.axvline(x = mean_salary, color = 'red', linestyle='--', linewidth = 2, label = f\"MEDIA: {mean_salary}\")\n",
    "plt.legend(); #muchos valores atípicos"
   ]
  },
  {
   "cell_type": "code",
   "execution_count": 575,
   "id": "ce5fa5be",
   "metadata": {},
   "outputs": [
    {
     "data": {
      "text/plain": [
       "73510.0"
      ]
     },
     "execution_count": 575,
     "metadata": {},
     "output_type": "execute_result"
    }
   ],
   "source": [
    "median_salary = round(df_loyalty['Salary'].median(),2)\n",
    "median_salary"
   ]
  },
  {
   "cell_type": "code",
   "execution_count": 576,
   "id": "121a1b9c",
   "metadata": {},
   "outputs": [],
   "source": [
    "df_loyalty_copia = df_loyalty.copy()\n",
    "imputer_iterative = IterativeImputer(max_iter = 20, random_state = 42)\n",
    "imputer_iterative_imputado = imputer_iterative.fit_transform(df_loyalty_copia[[\"Salary\"]])\n",
    "df_loyalty_copia[[\"Salary_imputer\"]] = imputer_iterative_imputado\n",
    "\n",
    "imputer_knn = KNNImputer(n_neighbors = 5)\n",
    "imputer_knn_imputado = imputer_knn.fit_transform(df_loyalty_copia[[\"Salary\"]])\n",
    "df_loyalty_copia[[\"Salary_knn\"]] = imputer_knn_imputado"
   ]
  },
  {
   "cell_type": "code",
   "execution_count": 577,
   "id": "35d01183",
   "metadata": {},
   "outputs": [
    {
     "data": {
      "text/html": [
       "<div>\n",
       "<style scoped>\n",
       "    .dataframe tbody tr th:only-of-type {\n",
       "        vertical-align: middle;\n",
       "    }\n",
       "\n",
       "    .dataframe tbody tr th {\n",
       "        vertical-align: top;\n",
       "    }\n",
       "\n",
       "    .dataframe thead th {\n",
       "        text-align: right;\n",
       "    }\n",
       "</style>\n",
       "<table border=\"1\" class=\"dataframe\">\n",
       "  <thead>\n",
       "    <tr style=\"text-align: right;\">\n",
       "      <th></th>\n",
       "      <th>Salary</th>\n",
       "      <th>Salary_imputer</th>\n",
       "      <th>Salary_knn</th>\n",
       "    </tr>\n",
       "  </thead>\n",
       "  <tbody>\n",
       "    <tr>\n",
       "      <th>count</th>\n",
       "      <td>12479.000000</td>\n",
       "      <td>16737.000000</td>\n",
       "      <td>16737.000000</td>\n",
       "    </tr>\n",
       "    <tr>\n",
       "      <th>mean</th>\n",
       "      <td>79429.572642</td>\n",
       "      <td>79429.572642</td>\n",
       "      <td>79429.572642</td>\n",
       "    </tr>\n",
       "    <tr>\n",
       "      <th>std</th>\n",
       "      <td>34727.560404</td>\n",
       "      <td>29986.165418</td>\n",
       "      <td>29986.165418</td>\n",
       "    </tr>\n",
       "    <tr>\n",
       "      <th>min</th>\n",
       "      <td>15609.000000</td>\n",
       "      <td>15609.000000</td>\n",
       "      <td>15609.000000</td>\n",
       "    </tr>\n",
       "    <tr>\n",
       "      <th>25%</th>\n",
       "      <td>59265.000000</td>\n",
       "      <td>63991.000000</td>\n",
       "      <td>63991.000000</td>\n",
       "    </tr>\n",
       "    <tr>\n",
       "      <th>50%</th>\n",
       "      <td>73510.000000</td>\n",
       "      <td>79429.572642</td>\n",
       "      <td>79429.572642</td>\n",
       "    </tr>\n",
       "    <tr>\n",
       "      <th>75%</th>\n",
       "      <td>88600.500000</td>\n",
       "      <td>82940.000000</td>\n",
       "      <td>82940.000000</td>\n",
       "    </tr>\n",
       "    <tr>\n",
       "      <th>max</th>\n",
       "      <td>407228.000000</td>\n",
       "      <td>407228.000000</td>\n",
       "      <td>407228.000000</td>\n",
       "    </tr>\n",
       "  </tbody>\n",
       "</table>\n",
       "</div>"
      ],
      "text/plain": [
       "              Salary  Salary_imputer     Salary_knn\n",
       "count   12479.000000    16737.000000   16737.000000\n",
       "mean    79429.572642    79429.572642   79429.572642\n",
       "std     34727.560404    29986.165418   29986.165418\n",
       "min     15609.000000    15609.000000   15609.000000\n",
       "25%     59265.000000    63991.000000   63991.000000\n",
       "50%     73510.000000    79429.572642   79429.572642\n",
       "75%     88600.500000    82940.000000   82940.000000\n",
       "max    407228.000000   407228.000000  407228.000000"
      ]
     },
     "execution_count": 577,
     "metadata": {},
     "output_type": "execute_result"
    }
   ],
   "source": [
    "df_loyalty_copia.describe()[[\"Salary\",\"Salary_imputer\", \"Salary_knn\"]]"
   ]
  },
  {
   "cell_type": "code",
   "execution_count": 578,
   "id": "9aaad719",
   "metadata": {},
   "outputs": [],
   "source": [
    "df_loyalty_copia.drop([\"Salary\",\n",
    "              \"Salary_knn\"\n",
    "             ], axis = 1, inplace = True)\n",
    "\n",
    "nuevo_nombre = {\"Salary_imputer\": \"Salary\"} \n",
    "df_loyalty_copia.rename(columns = nuevo_nombre, inplace = True) "
   ]
  },
  {
   "cell_type": "code",
   "execution_count": 579,
   "id": "3fdb6631",
   "metadata": {},
   "outputs": [
    {
     "data": {
      "text/plain": [
       "Country             0\n",
       "Province            0\n",
       "City                0\n",
       "Postal Code         0\n",
       "Gender              0\n",
       "Education           0\n",
       "Marital Status      0\n",
       "Loyalty Card        0\n",
       "CLV                 0\n",
       "Enrollment Type     0\n",
       "Enrollment Year     0\n",
       "Enrollment Month    0\n",
       "Salary              0\n",
       "dtype: int64"
      ]
     },
     "execution_count": 579,
     "metadata": {},
     "output_type": "execute_result"
    }
   ],
   "source": [
    "df_loyalty_copia.isnull().sum()"
   ]
  },
  {
   "cell_type": "code",
   "execution_count": 580,
   "id": "29102806",
   "metadata": {},
   "outputs": [],
   "source": [
    "df_loyalty_copia.to_csv(\"Customer Loyalty History non nulls.csv\", index=False) "
   ]
  }
 ],
 "metadata": {
  "kernelspec": {
   "display_name": "base",
   "language": "python",
   "name": "python3"
  },
  "language_info": {
   "codemirror_mode": {
    "name": "ipython",
    "version": 3
   },
   "file_extension": ".py",
   "mimetype": "text/x-python",
   "name": "python",
   "nbconvert_exporter": "python",
   "pygments_lexer": "ipython3",
   "version": "3.12.9"
  }
 },
 "nbformat": 4,
 "nbformat_minor": 5
}
